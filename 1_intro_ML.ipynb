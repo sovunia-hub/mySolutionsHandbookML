{
  "cells": [
    {
      "cell_type": "markdown",
      "metadata": {
        "id": "view-in-github",
        "colab_type": "text"
      },
      "source": [
        "<a href=\"https://colab.research.google.com/github/sovunia-hub/mySolutionsHandbookML/blob/main/1_intro_ML.ipynb\" target=\"_parent\"><img src=\"https://colab.research.google.com/assets/colab-badge.svg\" alt=\"Open In Colab\"/></a>"
      ]
    },
    {
      "cell_type": "markdown",
      "metadata": {
        "id": "k3zbLLaSGH6Z"
      },
      "source": [
        "## Лабораторная работа \"Введение в ML\""
      ]
    },
    {
      "cell_type": "markdown",
      "metadata": {
        "id": "SL3v975uGH6h"
      },
      "source": [
        "В этой лабораторной вы:\n",
        "\n",
        "- познакомитесь с базовыми библиотеками для работы с табличными данными — `numpy` и `pandas`\n",
        "- поближе посмотрите на простейшие задачи машинного обучения: классификацию и регрессию\n",
        "- попробуете несколько метрик и поймёте, почему выбор метрики это важно\n",
        "- обучите несколько простых моделей\n",
        "- увидите связь между сложностью модели и переобучением\n",
        "- убедитесь, что без данных всё тлен"
      ]
    },
    {
      "cell_type": "markdown",
      "metadata": {
        "id": "ad3nBqBSGH6j"
      },
      "source": [
        "Загрузка самых базовых библиотек:"
      ]
    },
    {
      "cell_type": "code",
      "execution_count": null,
      "metadata": {
        "id": "Z8Iht5qhGH6l"
      },
      "outputs": [],
      "source": [
        "import numpy as np\n",
        "import pandas as pd\n",
        "import matplotlib.pyplot as plt\n",
        "%matplotlib inline\n",
        "\n",
        "from sklearn.model_selection import train_test_split"
      ]
    },
    {
      "cell_type": "markdown",
      "metadata": {
        "id": "4W8Eq0sTGH6n"
      },
      "source": [
        "### [NumPy](https://numpy.org/doc/stable/user/index.html)\n",
        "\n",
        "С 1995 numeric, с 2006 NumPy — «Numerical Python extensions» или просто «NumPy»\n",
        "\n",
        "Возможности библиотеки NumPy:\n",
        "* работать с многомерными массивами (таблицами)\n",
        "* быстро вычислять математические функций на многомерных массивах\n",
        "\n",
        "Ядро пакета NumPy — объект [ndarray](https://docs.scipy.org/doc/numpy/reference/generated/numpy.ndarray.html)\n",
        "\n",
        "**Важные отличия** между NumPy arrays и Python sequences:\n",
        "* NumPy array имеет фиксированную длину, которая определяется в момент его создания (в отличие от Python lists, которые могут расти динамически)\n",
        "* Элементы в NumPy array должны быть одного типа\n",
        "* Можно выполнять операции непосредственно над NumPy arrays\n",
        "\n",
        "**Скорость** NumPy достигается с помощью:\n",
        "* реализации на C\n",
        "* векторизации и броадкастинга (broadcasting). Например, произведение массивов совместимых форм.\n",
        "\n",
        "Теперь давайте разберёмся подробнее и сделаем что-нибудь приятное и полезное в `numpy`!"
      ]
    },
    {
      "cell_type": "markdown",
      "metadata": {
        "id": "eS3UKcU6GH6o"
      },
      "source": [
        "### Индексация"
      ]
    },
    {
      "cell_type": "markdown",
      "metadata": {
        "id": "VqBzoEfvGH6p"
      },
      "source": [
        "В NumPy работает привычная индексация Python, ура! Включая использование отрицательных индексов и срезов (slices)"
      ]
    },
    {
      "cell_type": "markdown",
      "metadata": {
        "id": "Anq_nSYTGH6q"
      },
      "source": [
        "<div class=\"alert alert-info\">\n",
        "<b>Замечание 1:</b> Индексы и срезы в многомерных массивах не нужно разделять квадратными скобками,\n",
        "т.е. вместо <b>matrix[i][j]</b> нужно использовать <b>matrix[i, j]</b>. Первое тоже работает, но сначала выдаёт строку i, потом элемент j в ней.\n",
        "</div>"
      ]
    },
    {
      "cell_type": "markdown",
      "metadata": {
        "id": "OoHXSVIrGH6q"
      },
      "source": [
        "<div class=\"alert alert-danger\">\n",
        "<b>Замечание 2:</b> Срезы в NumPy создают view, а не копии, как в случае срезов встроенных последовательностей Python (string, tuple and list).\n",
        "</div>"
      ]
    },
    {
      "cell_type": "code",
      "execution_count": null,
      "metadata": {
        "id": "YJKxBB4dGH6s",
        "outputId": "3c065851-2b55-460b-e3d9-22a1c52a7ff4",
        "colab": {
          "base_uri": "https://localhost:8080/"
        }
      },
      "outputs": [
        {
          "output_type": "execute_result",
          "data": {
            "text/plain": [
              "array([[0., 0., 0.],\n",
              "       [0., 0., 0.],\n",
              "       [0., 0., 0.]])"
            ]
          },
          "metadata": {},
          "execution_count": 3
        }
      ],
      "source": [
        "ones_matrix = np.ones((5, 5))\n",
        "ones_submatrix_view = ones_matrix[::2,::2] # creates a view, not copy\n",
        "ones_matrix[::2,::2] = np.zeros((3, 3))\n",
        "ones_submatrix_view"
      ]
    },
    {
      "cell_type": "markdown",
      "metadata": {
        "id": "jpEF1rp2GH6v"
      },
      "source": [
        "### Ссылка на Яндекс.Контест\n",
        "\n",
        "Решения и ответы в задачах, расположенных ниже, загружайте в контест на автоматическую проверку:\n",
        "https://new.contest.yandex.ru/60376/start\n"
      ]
    },
    {
      "cell_type": "markdown",
      "metadata": {
        "id": "eZpuxPhJGH6v"
      },
      "source": [
        "**1.** Реализуйте функцию, принимающую на вход два одномерных массива `first_array` и `second_array` и возвращающую матрицу, в которой первый массив соответствует первому столбцу матрицы, второй — второму.\n",
        "\n",
        "Вероятно первое, что приходит вам на ум, это конкатенация и транспонирование:"
      ]
    },
    {
      "cell_type": "code",
      "execution_count": null,
      "metadata": {
        "id": "hmQk1N6rGH6w"
      },
      "outputs": [],
      "source": [
        "def construct_matrix(first_array, second_array):\n",
        "    \"\"\"\n",
        "    Construct matrix from pair of arrays\n",
        "    :param first_array: first array\n",
        "    :param second_array: second array\n",
        "    :return: constructed matrix\n",
        "    \"\"\"\n",
        "    return np.vstack((first_array, second_array)).swapaxes(0, 1)"
      ]
    },
    {
      "cell_type": "code",
      "execution_count": null,
      "metadata": {
        "scrolled": true,
        "id": "TeFqyCz4GH6x",
        "outputId": "c010ccad-febb-45f2-a8a0-b968323dc7bc",
        "colab": {
          "base_uri": "https://localhost:8080/"
        }
      },
      "outputs": [
        {
          "output_type": "execute_result",
          "data": {
            "text/plain": [
              "array([[1, 4],\n",
              "       [2, 5],\n",
              "       [3, 6]])"
            ]
          },
          "metadata": {},
          "execution_count": 5
        }
      ],
      "source": [
        "construct_matrix(np.array([1,2,3]),np.array([4,5,6]))"
      ]
    },
    {
      "cell_type": "markdown",
      "metadata": {
        "id": "lP-lmcA2GH6y"
      },
      "source": [
        "(в скобках заметим, что конкатенировать можно vertically, horizontally, depth wise методами vstack, hstack, dstack по трём осям (0, 1 и 2, соотвественно), либо в общем случае `np.concatenate` — поиграйтесь ниже с прекрасным примером четырёхмерной точки, чтобы точно всё для себя понять)"
      ]
    },
    {
      "cell_type": "code",
      "execution_count": null,
      "metadata": {
        "id": "xguxLJ0VGH6y",
        "outputId": "95b24302-c9f3-4f38-ac6b-4127c29a4a89",
        "colab": {
          "base_uri": "https://localhost:8080/"
        }
      },
      "outputs": [
        {
          "output_type": "execute_result",
          "data": {
            "text/plain": [
              "array([[[[0]]]])"
            ]
          },
          "metadata": {},
          "execution_count": 6
        }
      ],
      "source": [
        "p = np.arange(1).reshape([1, 1, 1, 1])\n",
        "p"
      ]
    },
    {
      "cell_type": "code",
      "execution_count": null,
      "metadata": {
        "id": "z1JFw75eGH6y",
        "outputId": "9da3835b-9324-4468-978a-184ff903ce11",
        "colab": {
          "base_uri": "https://localhost:8080/"
        }
      },
      "outputs": [
        {
          "output_type": "stream",
          "name": "stdout",
          "text": [
            "vstack:  (2, 1, 1, 1)\n",
            "hstack:  (1, 2, 1, 1)\n",
            "dstack:  (1, 1, 2, 1)\n"
          ]
        }
      ],
      "source": [
        "print(\"vstack: \", np.vstack((p, p)).shape)\n",
        "print(\"hstack: \", np.hstack((p, p)).shape)\n",
        "print(\"dstack: \", np.dstack((p, p)).shape)"
      ]
    },
    {
      "cell_type": "code",
      "execution_count": null,
      "metadata": {
        "id": "cvbthbDDGH6z",
        "outputId": "646d697f-b35e-4602-f052-8eee14d8366f",
        "colab": {
          "base_uri": "https://localhost:8080/"
        }
      },
      "outputs": [
        {
          "output_type": "execute_result",
          "data": {
            "text/plain": [
              "(1, 1, 1, 2)"
            ]
          },
          "metadata": {},
          "execution_count": 8
        }
      ],
      "source": [
        "np.concatenate((p, p), axis=3).shape"
      ]
    },
    {
      "cell_type": "markdown",
      "metadata": {
        "id": "-5GkuWwaGH60"
      },
      "source": [
        "Но, поскольку операция транспонирования [делает массив non-contiguous](https://numpy.org/doc/stable/user/basics.copies.html#other-operations), мы в этой задаче **запретим** ей пользоваться и порекомедуем воспользоваться, например, методом [reshape](https://numpy.org/doc/stable/reference/generated/numpy.reshape.html)."
      ]
    },
    {
      "cell_type": "markdown",
      "metadata": {
        "id": "n3ce_o75GH61"
      },
      "source": [
        "**2.** Реализуйте функцию, принимающую на вход массив целых неотрицательных чисел `nums` и возвращающую самый частый элемент массива."
      ]
    },
    {
      "cell_type": "code",
      "execution_count": null,
      "metadata": {
        "id": "XZysMovaGH61"
      },
      "outputs": [],
      "source": [
        "def most_frequent(nums):\n",
        "    \"\"\"\n",
        "    Find the most frequent value in an array\n",
        "    :param nums: array of ints\n",
        "    :return: the most frequent value\n",
        "    \"\"\"\n",
        "    values, counts = np.unique(nums, return_counts=True)\n",
        "    return values[np.argmax(counts)]"
      ]
    },
    {
      "cell_type": "code",
      "source": [
        "most_frequent(np.array([1,2,2,2,3,4,5]))"
      ],
      "metadata": {
        "colab": {
          "base_uri": "https://localhost:8080/"
        },
        "id": "MGeH0GiM0z0g",
        "outputId": "5321de45-b522-470a-a1e0-a6d98bb9fbc7"
      },
      "execution_count": null,
      "outputs": [
        {
          "output_type": "execute_result",
          "data": {
            "text/plain": [
              "2"
            ]
          },
          "metadata": {},
          "execution_count": 10
        }
      ]
    },
    {
      "cell_type": "markdown",
      "metadata": {
        "id": "e6kjITZMGH62"
      },
      "source": [
        "### Переходим к работе с данными\n",
        "\n",
        "Прежде всего, загрузим данные и сделаем из них красивые pandas-таблички. Они взяты из параллели RecSys соревнования https://yandex.ru/cup/ml/. Но мы будем иметь дело не со всеми данными, а только с их частью. Данные у нас будут про заведения общественного питания (больше бюрократический терминологии!)\n",
        "\n",
        "Файлы с данными можно найти [здесь](https://disk.yandex.ru/d/YWvCNRQMb7QSQA).\n",
        "\n",
        "Задачей будет **предсказание среднего чека** (average_bill) по некоторым другим свойствам заведения."
      ]
    },
    {
      "cell_type": "code",
      "execution_count": null,
      "metadata": {
        "id": "yJPF3OclGH62"
      },
      "outputs": [],
      "source": [
        "base = '/home/avalur/autohw/'"
      ]
    },
    {
      "cell_type": "code",
      "execution_count": null,
      "metadata": {
        "id": "uzDIu6uXGH62"
      },
      "outputs": [],
      "source": [
        "data = pd.read_csv('organisations.csv')\n",
        "features = pd.read_csv('features.csv')\n",
        "rubrics = pd.read_csv('rubrics.csv')"
      ]
    },
    {
      "cell_type": "markdown",
      "metadata": {
        "id": "k-AwDM7bGH63"
      },
      "source": [
        "В основном мы будем работать с табличкой `data`; остальное вам может пригодиться, если вы захотите знать, какое содержание стоит за кодами признаков."
      ]
    },
    {
      "cell_type": "markdown",
      "metadata": {
        "id": "4hrvEN_3GH63"
      },
      "source": [
        "## Изучение данных"
      ]
    },
    {
      "cell_type": "markdown",
      "metadata": {
        "id": "PI9YQMuCGH63"
      },
      "source": [
        "Посмотрите на данные. В этом вам поможет метод ``head`` pandas-таблички."
      ]
    },
    {
      "cell_type": "code",
      "execution_count": null,
      "metadata": {
        "id": "VA_0DG29GH64",
        "colab": {
          "base_uri": "https://localhost:8080/",
          "height": 206
        },
        "outputId": "65f313d8-0bd1-4e60-cb89-6764d4103693"
      },
      "outputs": [
        {
          "output_type": "execute_result",
          "data": {
            "text/plain": [
              "                 org_id city  average_bill    rating   rubrics_id  \\\n",
              "0  15903868628669802651  msk        1500.0  4.270968  30776 30774   \n",
              "1  16076540698036998306  msk         500.0  4.375000        30771   \n",
              "2   8129364761615040323  msk         500.0  4.000000        31495   \n",
              "3  15262729117594253452  msk         500.0  4.538813  30776 30770   \n",
              "4  13418544315327784420  msk         500.0  4.409091        31495   \n",
              "\n",
              "                                         features_id  \n",
              "0  3501685156 3501779478 20422 3502045016 3502045...  \n",
              "1  1509 1082283206 273469383 10462 11617 35017794...  \n",
              "2  10462 11177 11617 11629 1416 1018 11704 11867 ...  \n",
              "3  3501618484 2020795524 11629 11617 1018 11704 2...  \n",
              "4  11617 10462 11177 1416 11867 3501744275 20282 ...  "
            ],
            "text/html": [
              "\n",
              "  <div id=\"df-bb8ce145-cd0c-4b8a-a5a2-d27373f793c5\" class=\"colab-df-container\">\n",
              "    <div>\n",
              "<style scoped>\n",
              "    .dataframe tbody tr th:only-of-type {\n",
              "        vertical-align: middle;\n",
              "    }\n",
              "\n",
              "    .dataframe tbody tr th {\n",
              "        vertical-align: top;\n",
              "    }\n",
              "\n",
              "    .dataframe thead th {\n",
              "        text-align: right;\n",
              "    }\n",
              "</style>\n",
              "<table border=\"1\" class=\"dataframe\">\n",
              "  <thead>\n",
              "    <tr style=\"text-align: right;\">\n",
              "      <th></th>\n",
              "      <th>org_id</th>\n",
              "      <th>city</th>\n",
              "      <th>average_bill</th>\n",
              "      <th>rating</th>\n",
              "      <th>rubrics_id</th>\n",
              "      <th>features_id</th>\n",
              "    </tr>\n",
              "  </thead>\n",
              "  <tbody>\n",
              "    <tr>\n",
              "      <th>0</th>\n",
              "      <td>15903868628669802651</td>\n",
              "      <td>msk</td>\n",
              "      <td>1500.0</td>\n",
              "      <td>4.270968</td>\n",
              "      <td>30776 30774</td>\n",
              "      <td>3501685156 3501779478 20422 3502045016 3502045...</td>\n",
              "    </tr>\n",
              "    <tr>\n",
              "      <th>1</th>\n",
              "      <td>16076540698036998306</td>\n",
              "      <td>msk</td>\n",
              "      <td>500.0</td>\n",
              "      <td>4.375000</td>\n",
              "      <td>30771</td>\n",
              "      <td>1509 1082283206 273469383 10462 11617 35017794...</td>\n",
              "    </tr>\n",
              "    <tr>\n",
              "      <th>2</th>\n",
              "      <td>8129364761615040323</td>\n",
              "      <td>msk</td>\n",
              "      <td>500.0</td>\n",
              "      <td>4.000000</td>\n",
              "      <td>31495</td>\n",
              "      <td>10462 11177 11617 11629 1416 1018 11704 11867 ...</td>\n",
              "    </tr>\n",
              "    <tr>\n",
              "      <th>3</th>\n",
              "      <td>15262729117594253452</td>\n",
              "      <td>msk</td>\n",
              "      <td>500.0</td>\n",
              "      <td>4.538813</td>\n",
              "      <td>30776 30770</td>\n",
              "      <td>3501618484 2020795524 11629 11617 1018 11704 2...</td>\n",
              "    </tr>\n",
              "    <tr>\n",
              "      <th>4</th>\n",
              "      <td>13418544315327784420</td>\n",
              "      <td>msk</td>\n",
              "      <td>500.0</td>\n",
              "      <td>4.409091</td>\n",
              "      <td>31495</td>\n",
              "      <td>11617 10462 11177 1416 11867 3501744275 20282 ...</td>\n",
              "    </tr>\n",
              "  </tbody>\n",
              "</table>\n",
              "</div>\n",
              "    <div class=\"colab-df-buttons\">\n",
              "\n",
              "  <div class=\"colab-df-container\">\n",
              "    <button class=\"colab-df-convert\" onclick=\"convertToInteractive('df-bb8ce145-cd0c-4b8a-a5a2-d27373f793c5')\"\n",
              "            title=\"Convert this dataframe to an interactive table.\"\n",
              "            style=\"display:none;\">\n",
              "\n",
              "  <svg xmlns=\"http://www.w3.org/2000/svg\" height=\"24px\" viewBox=\"0 -960 960 960\">\n",
              "    <path d=\"M120-120v-720h720v720H120Zm60-500h600v-160H180v160Zm220 220h160v-160H400v160Zm0 220h160v-160H400v160ZM180-400h160v-160H180v160Zm440 0h160v-160H620v160ZM180-180h160v-160H180v160Zm440 0h160v-160H620v160Z\"/>\n",
              "  </svg>\n",
              "    </button>\n",
              "\n",
              "  <style>\n",
              "    .colab-df-container {\n",
              "      display:flex;\n",
              "      gap: 12px;\n",
              "    }\n",
              "\n",
              "    .colab-df-convert {\n",
              "      background-color: #E8F0FE;\n",
              "      border: none;\n",
              "      border-radius: 50%;\n",
              "      cursor: pointer;\n",
              "      display: none;\n",
              "      fill: #1967D2;\n",
              "      height: 32px;\n",
              "      padding: 0 0 0 0;\n",
              "      width: 32px;\n",
              "    }\n",
              "\n",
              "    .colab-df-convert:hover {\n",
              "      background-color: #E2EBFA;\n",
              "      box-shadow: 0px 1px 2px rgba(60, 64, 67, 0.3), 0px 1px 3px 1px rgba(60, 64, 67, 0.15);\n",
              "      fill: #174EA6;\n",
              "    }\n",
              "\n",
              "    .colab-df-buttons div {\n",
              "      margin-bottom: 4px;\n",
              "    }\n",
              "\n",
              "    [theme=dark] .colab-df-convert {\n",
              "      background-color: #3B4455;\n",
              "      fill: #D2E3FC;\n",
              "    }\n",
              "\n",
              "    [theme=dark] .colab-df-convert:hover {\n",
              "      background-color: #434B5C;\n",
              "      box-shadow: 0px 1px 3px 1px rgba(0, 0, 0, 0.15);\n",
              "      filter: drop-shadow(0px 1px 2px rgba(0, 0, 0, 0.3));\n",
              "      fill: #FFFFFF;\n",
              "    }\n",
              "  </style>\n",
              "\n",
              "    <script>\n",
              "      const buttonEl =\n",
              "        document.querySelector('#df-bb8ce145-cd0c-4b8a-a5a2-d27373f793c5 button.colab-df-convert');\n",
              "      buttonEl.style.display =\n",
              "        google.colab.kernel.accessAllowed ? 'block' : 'none';\n",
              "\n",
              "      async function convertToInteractive(key) {\n",
              "        const element = document.querySelector('#df-bb8ce145-cd0c-4b8a-a5a2-d27373f793c5');\n",
              "        const dataTable =\n",
              "          await google.colab.kernel.invokeFunction('convertToInteractive',\n",
              "                                                    [key], {});\n",
              "        if (!dataTable) return;\n",
              "\n",
              "        const docLinkHtml = 'Like what you see? Visit the ' +\n",
              "          '<a target=\"_blank\" href=https://colab.research.google.com/notebooks/data_table.ipynb>data table notebook</a>'\n",
              "          + ' to learn more about interactive tables.';\n",
              "        element.innerHTML = '';\n",
              "        dataTable['output_type'] = 'display_data';\n",
              "        await google.colab.output.renderOutput(dataTable, element);\n",
              "        const docLink = document.createElement('div');\n",
              "        docLink.innerHTML = docLinkHtml;\n",
              "        element.appendChild(docLink);\n",
              "      }\n",
              "    </script>\n",
              "  </div>\n",
              "\n",
              "\n",
              "<div id=\"df-bb636cff-5a22-4cd7-8118-8f401655aa0c\">\n",
              "  <button class=\"colab-df-quickchart\" onclick=\"quickchart('df-bb636cff-5a22-4cd7-8118-8f401655aa0c')\"\n",
              "            title=\"Suggest charts\"\n",
              "            style=\"display:none;\">\n",
              "\n",
              "<svg xmlns=\"http://www.w3.org/2000/svg\" height=\"24px\"viewBox=\"0 0 24 24\"\n",
              "     width=\"24px\">\n",
              "    <g>\n",
              "        <path d=\"M19 3H5c-1.1 0-2 .9-2 2v14c0 1.1.9 2 2 2h14c1.1 0 2-.9 2-2V5c0-1.1-.9-2-2-2zM9 17H7v-7h2v7zm4 0h-2V7h2v10zm4 0h-2v-4h2v4z\"/>\n",
              "    </g>\n",
              "</svg>\n",
              "  </button>\n",
              "\n",
              "<style>\n",
              "  .colab-df-quickchart {\n",
              "      --bg-color: #E8F0FE;\n",
              "      --fill-color: #1967D2;\n",
              "      --hover-bg-color: #E2EBFA;\n",
              "      --hover-fill-color: #174EA6;\n",
              "      --disabled-fill-color: #AAA;\n",
              "      --disabled-bg-color: #DDD;\n",
              "  }\n",
              "\n",
              "  [theme=dark] .colab-df-quickchart {\n",
              "      --bg-color: #3B4455;\n",
              "      --fill-color: #D2E3FC;\n",
              "      --hover-bg-color: #434B5C;\n",
              "      --hover-fill-color: #FFFFFF;\n",
              "      --disabled-bg-color: #3B4455;\n",
              "      --disabled-fill-color: #666;\n",
              "  }\n",
              "\n",
              "  .colab-df-quickchart {\n",
              "    background-color: var(--bg-color);\n",
              "    border: none;\n",
              "    border-radius: 50%;\n",
              "    cursor: pointer;\n",
              "    display: none;\n",
              "    fill: var(--fill-color);\n",
              "    height: 32px;\n",
              "    padding: 0;\n",
              "    width: 32px;\n",
              "  }\n",
              "\n",
              "  .colab-df-quickchart:hover {\n",
              "    background-color: var(--hover-bg-color);\n",
              "    box-shadow: 0 1px 2px rgba(60, 64, 67, 0.3), 0 1px 3px 1px rgba(60, 64, 67, 0.15);\n",
              "    fill: var(--button-hover-fill-color);\n",
              "  }\n",
              "\n",
              "  .colab-df-quickchart-complete:disabled,\n",
              "  .colab-df-quickchart-complete:disabled:hover {\n",
              "    background-color: var(--disabled-bg-color);\n",
              "    fill: var(--disabled-fill-color);\n",
              "    box-shadow: none;\n",
              "  }\n",
              "\n",
              "  .colab-df-spinner {\n",
              "    border: 2px solid var(--fill-color);\n",
              "    border-color: transparent;\n",
              "    border-bottom-color: var(--fill-color);\n",
              "    animation:\n",
              "      spin 1s steps(1) infinite;\n",
              "  }\n",
              "\n",
              "  @keyframes spin {\n",
              "    0% {\n",
              "      border-color: transparent;\n",
              "      border-bottom-color: var(--fill-color);\n",
              "      border-left-color: var(--fill-color);\n",
              "    }\n",
              "    20% {\n",
              "      border-color: transparent;\n",
              "      border-left-color: var(--fill-color);\n",
              "      border-top-color: var(--fill-color);\n",
              "    }\n",
              "    30% {\n",
              "      border-color: transparent;\n",
              "      border-left-color: var(--fill-color);\n",
              "      border-top-color: var(--fill-color);\n",
              "      border-right-color: var(--fill-color);\n",
              "    }\n",
              "    40% {\n",
              "      border-color: transparent;\n",
              "      border-right-color: var(--fill-color);\n",
              "      border-top-color: var(--fill-color);\n",
              "    }\n",
              "    60% {\n",
              "      border-color: transparent;\n",
              "      border-right-color: var(--fill-color);\n",
              "    }\n",
              "    80% {\n",
              "      border-color: transparent;\n",
              "      border-right-color: var(--fill-color);\n",
              "      border-bottom-color: var(--fill-color);\n",
              "    }\n",
              "    90% {\n",
              "      border-color: transparent;\n",
              "      border-bottom-color: var(--fill-color);\n",
              "    }\n",
              "  }\n",
              "</style>\n",
              "\n",
              "  <script>\n",
              "    async function quickchart(key) {\n",
              "      const quickchartButtonEl =\n",
              "        document.querySelector('#' + key + ' button');\n",
              "      quickchartButtonEl.disabled = true;  // To prevent multiple clicks.\n",
              "      quickchartButtonEl.classList.add('colab-df-spinner');\n",
              "      try {\n",
              "        const charts = await google.colab.kernel.invokeFunction(\n",
              "            'suggestCharts', [key], {});\n",
              "      } catch (error) {\n",
              "        console.error('Error during call to suggestCharts:', error);\n",
              "      }\n",
              "      quickchartButtonEl.classList.remove('colab-df-spinner');\n",
              "      quickchartButtonEl.classList.add('colab-df-quickchart-complete');\n",
              "    }\n",
              "    (() => {\n",
              "      let quickchartButtonEl =\n",
              "        document.querySelector('#df-bb636cff-5a22-4cd7-8118-8f401655aa0c button');\n",
              "      quickchartButtonEl.style.display =\n",
              "        google.colab.kernel.accessAllowed ? 'block' : 'none';\n",
              "    })();\n",
              "  </script>\n",
              "</div>\n",
              "    </div>\n",
              "  </div>\n"
            ],
            "application/vnd.google.colaboratory.intrinsic+json": {
              "type": "dataframe",
              "variable_name": "data",
              "summary": "{\n  \"name\": \"data\",\n  \"rows\": 68339,\n  \"fields\": [\n    {\n      \"column\": \"org_id\",\n      \"properties\": {\n        \"dtype\": \"uint64\",\n        \"num_unique_values\": 68339,\n        \"samples\": [\n          9456062215479570594,\n          13115319582926471866,\n          6942427175370541675\n        ],\n        \"semantic_type\": \"\",\n        \"description\": \"\"\n      }\n    },\n    {\n      \"column\": \"city\",\n      \"properties\": {\n        \"dtype\": \"category\",\n        \"num_unique_values\": 2,\n        \"samples\": [\n          \"spb\",\n          \"msk\"\n        ],\n        \"semantic_type\": \"\",\n        \"description\": \"\"\n      }\n    },\n    {\n      \"column\": \"average_bill\",\n      \"properties\": {\n        \"dtype\": \"number\",\n        \"std\": 41632.49631946071,\n        \"min\": 500.0,\n        \"max\": 7502000.0,\n        \"num_unique_values\": 63,\n        \"samples\": [\n          250000.0,\n          50500.0\n        ],\n        \"semantic_type\": \"\",\n        \"description\": \"\"\n      }\n    },\n    {\n      \"column\": \"rating\",\n      \"properties\": {\n        \"dtype\": \"number\",\n        \"std\": 0.7081878962120389,\n        \"min\": 0.0,\n        \"max\": 5.0,\n        \"num_unique_values\": 13195,\n        \"samples\": [\n          4.294416243654823,\n          4.961538461538462\n        ],\n        \"semantic_type\": \"\",\n        \"description\": \"\"\n      }\n    },\n    {\n      \"column\": \"rubrics_id\",\n      \"properties\": {\n        \"dtype\": \"category\",\n        \"num_unique_values\": 838,\n        \"samples\": [\n          \"30774 31286 31495\",\n          \"30771 30519 30774 31350 30776\"\n        ],\n        \"semantic_type\": \"\",\n        \"description\": \"\"\n      }\n    },\n    {\n      \"column\": \"features_id\",\n      \"properties\": {\n        \"dtype\": \"string\",\n        \"num_unique_values\": 42521,\n        \"samples\": [\n          \"11177 1416 11704 11867 1018 273469383 10462 20422\",\n          \"20422 273469383 3501749289 3501745827 1524 20424 10462 11617 11177 11704 1415 11629 11867 20282 1082283206 1018 3501618484\"\n        ],\n        \"semantic_type\": \"\",\n        \"description\": \"\"\n      }\n    }\n  ]\n}"
            }
          },
          "metadata": {},
          "execution_count": 13
        }
      ],
      "source": [
        "data.head()"
      ]
    },
    {
      "cell_type": "markdown",
      "metadata": {
        "id": "GN9kZbURGH64"
      },
      "source": [
        "Полезно посмотреть внимательнее на то, с какими признаками нам предстоит работать.\n",
        "\n",
        "* **org_id** вам не понадобится;\n",
        "* **city** - город, в котором находится заведение (``msk`` или ``spb``);\n",
        "* **average_bill** - средний чек в заведении - он будет нашим таргетом;\n",
        "* **rating** - рейтинг заведения;\n",
        "* **rubrics_id** - тип заведения (или несколько типов). Соответствие кодов каким-то человекочитаемым типам живёт в табличке ``rubrics``\n",
        "* **features_id** - набор неких фичей заведения. Соответствие кодов каким-то человекочитаемым типам живёт в табличке ``features``\n",
        "\n",
        "Обратите внимание, что **rubrics_id** и **features_id** - это не списки, а разделённые пробелами строки. Когда вам захочется работать с отдельными фичами из мешка фичей для данного заведения, вам придётся всё-таки превратить их в списки (здесь поможет метод `split` для строк)."
      ]
    },
    {
      "cell_type": "markdown",
      "metadata": {
        "id": "J0IJIWz3GH64"
      },
      "source": [
        "Чтобы быстро восстанавливать по рубрикам и фичам их нормальные названия, сделайте словари вида ``код_фичи:название_фичи``"
      ]
    },
    {
      "cell_type": "code",
      "execution_count": null,
      "metadata": {
        "id": "8KwKEKr7GH65"
      },
      "outputs": [],
      "source": [
        "rubric_dict = {}\n",
        "for id, name in zip(rubrics['rubric_id'], rubrics['rubric_name']):\n",
        "  rubric_dict[id] = name"
      ]
    },
    {
      "cell_type": "markdown",
      "metadata": {
        "id": "DNd4PkyQGH65"
      },
      "source": [
        "Посмотрим, какими бывают типы заведений:"
      ]
    },
    {
      "cell_type": "code",
      "execution_count": null,
      "metadata": {
        "scrolled": false,
        "id": "8WhaPPEeGH65",
        "outputId": "0806692a-d658-41ce-8e2c-fa41138c8ad8",
        "colab": {
          "base_uri": "https://localhost:8080/"
        }
      },
      "outputs": [
        {
          "output_type": "execute_result",
          "data": {
            "text/plain": [
              "{30519: 'Булочная, пекарня',\n",
              " 30770: 'Бар, паб',\n",
              " 30771: 'Быстрое питание',\n",
              " 30774: 'Кафе',\n",
              " 30775: 'Пиццерия',\n",
              " 30776: 'Ресторан',\n",
              " 30777: 'Столовая',\n",
              " 31286: 'Спортбар',\n",
              " 31350: 'Кондитерская',\n",
              " 31375: 'Суши-бар',\n",
              " 31401: 'Кальян-бар',\n",
              " 31495: 'Кофейня',\n",
              " 3108292683: 'Бар безалкогольных напитков',\n",
              " 3501514558: 'Фудкорт',\n",
              " 3501750896: 'Кофе с собой'}"
            ]
          },
          "metadata": {},
          "execution_count": 15
        }
      ],
      "source": [
        "rubric_dict"
      ]
    },
    {
      "cell_type": "markdown",
      "metadata": {
        "id": "qA6Bm_8EGH66"
      },
      "source": [
        "Мы что-то поняли про признаки, которыми нам предстоит пользоваться. Теперь время посмотреть на таргет. Вооружившись функциями ``hist`` и ``scatter`` из библиотеки ``matplotlib``, а также методом ``isna`` для pandas-таблиц разберитесь, какие значения принимают таргеты, есть ли там там выбросы, пропуски или ещё какие-то проблемы.\n",
        "\n",
        "&nbsp;\n",
        "\n",
        "<details>\n",
        "  <summary>Когда будете готовы, кликните сюда, чтобы посмотреть ответ</summary>\n",
        "    <ol>\n",
        "      <li>Среди таргетов довольно много пропусков;</li>\n",
        "      <li>Все таргеты - это числа, кратные 500;</li>\n",
        "      <li>Есть какие-то адские значения, превышающие 100 000 (видимо, выбросы);</li>\n",
        "      <li>В целом, число ресторанов с данным средним чеком быстро падает с ростом среднего чека. Для средних чеков, больших 2500, заведений уже совсем мало. Примерно у 2/3 заведений средний чек 500.</li>\n",
        "    </ol>\n",
        "</details>"
      ]
    },
    {
      "cell_type": "code",
      "source": [
        "data.isna().sum()"
      ],
      "metadata": {
        "colab": {
          "base_uri": "https://localhost:8080/",
          "height": 272
        },
        "id": "UNJxD-6J3jtK",
        "outputId": "346b6593-f128-400f-91e0-2adae08809f0"
      },
      "execution_count": null,
      "outputs": [
        {
          "output_type": "execute_result",
          "data": {
            "text/plain": [
              "org_id              0\n",
              "city                0\n",
              "average_bill    35561\n",
              "rating          13731\n",
              "rubrics_id          0\n",
              "features_id     11049\n",
              "dtype: int64"
            ],
            "text/html": [
              "<div>\n",
              "<style scoped>\n",
              "    .dataframe tbody tr th:only-of-type {\n",
              "        vertical-align: middle;\n",
              "    }\n",
              "\n",
              "    .dataframe tbody tr th {\n",
              "        vertical-align: top;\n",
              "    }\n",
              "\n",
              "    .dataframe thead th {\n",
              "        text-align: right;\n",
              "    }\n",
              "</style>\n",
              "<table border=\"1\" class=\"dataframe\">\n",
              "  <thead>\n",
              "    <tr style=\"text-align: right;\">\n",
              "      <th></th>\n",
              "      <th>0</th>\n",
              "    </tr>\n",
              "  </thead>\n",
              "  <tbody>\n",
              "    <tr>\n",
              "      <th>org_id</th>\n",
              "      <td>0</td>\n",
              "    </tr>\n",
              "    <tr>\n",
              "      <th>city</th>\n",
              "      <td>0</td>\n",
              "    </tr>\n",
              "    <tr>\n",
              "      <th>average_bill</th>\n",
              "      <td>35561</td>\n",
              "    </tr>\n",
              "    <tr>\n",
              "      <th>rating</th>\n",
              "      <td>13731</td>\n",
              "    </tr>\n",
              "    <tr>\n",
              "      <th>rubrics_id</th>\n",
              "      <td>0</td>\n",
              "    </tr>\n",
              "    <tr>\n",
              "      <th>features_id</th>\n",
              "      <td>11049</td>\n",
              "    </tr>\n",
              "  </tbody>\n",
              "</table>\n",
              "</div><br><label><b>dtype:</b> int64</label>"
            ]
          },
          "metadata": {},
          "execution_count": 16
        }
      ]
    },
    {
      "cell_type": "code",
      "source": [
        "plt.hist(np.unique(data['average_bill'],return_counts=True))"
      ],
      "metadata": {
        "colab": {
          "base_uri": "https://localhost:8080/",
          "height": 552
        },
        "id": "MQbVVpG93waK",
        "outputId": "d4cf2e78-2ee6-4274-c147-1fce3fa0004a"
      },
      "execution_count": null,
      "outputs": [
        {
          "output_type": "execute_result",
          "data": {
            "text/plain": [
              "(array([[62.,  0.,  0.,  0.,  0.,  0.,  0.,  0.,  0.,  1.],\n",
              "        [64.,  0.,  0.,  0.,  0.,  0.,  0.,  0.,  0.,  0.]]),\n",
              " array([1.0000000e+00, 7.5020090e+05, 1.5004008e+06, 2.2506007e+06,\n",
              "        3.0008006e+06, 3.7510005e+06, 4.5012004e+06, 5.2514003e+06,\n",
              "        6.0016002e+06, 6.7518001e+06, 7.5020000e+06]),\n",
              " <a list of 2 BarContainer objects>)"
            ]
          },
          "metadata": {},
          "execution_count": 17
        },
        {
          "output_type": "display_data",
          "data": {
            "text/plain": [
              "<Figure size 640x480 with 1 Axes>"
            ],
            "image/png": "[encoded data removed]"
          },
          "metadata": {}
        }
      ]
    },
    {
      "cell_type": "code",
      "execution_count": null,
      "metadata": {
        "scrolled": true,
        "id": "f6bg-kmIGH66"
      },
      "outputs": [],
      "source": []
    },
    {
      "cell_type": "markdown",
      "metadata": {
        "id": "trfl5F_4GH66"
      },
      "source": [
        "**Базовая очистка данных**\n",
        "\n",
        "Раз есть треш, давайте чистить данные.\n",
        "\n",
        "С пропусками можно бороться по-разному (даже и с пропусками в таргете), но пока мы сделаем самую простую вещь: дропнем все заведения, для которых мы не знаем средний чек.\n",
        "\n",
        "Уберите из них все заведения, у которых средний чек неизвестен или превышает 2500. Пока есть опасение, что их слишком мало, чтобы мы смогли обучить на них что-нибудь.\n",
        "\n",
        "**3. Введите в Контест количество заведений, которое у вас получилось после очистки**.\n",
        "\n",
        "Дальше мы будем работать с очищенными данными."
      ]
    },
    {
      "cell_type": "code",
      "execution_count": null,
      "metadata": {
        "id": "OxIkRsA1GH67",
        "colab": {
          "base_uri": "https://localhost:8080/"
        },
        "outputId": "060e0f26-a222-4e7e-9c3f-1817df324a4c"
      },
      "outputs": [
        {
          "output_type": "execute_result",
          "data": {
            "text/plain": [
              "32136"
            ]
          },
          "metadata": {},
          "execution_count": 18
        }
      ],
      "source": [
        "clean_data = data.dropna(subset=['average_bill'])\n",
        "clean_data = clean_data[clean_data['average_bill'] <= 2500]\n",
        "clean_data['org_id'].size"
      ]
    },
    {
      "cell_type": "markdown",
      "metadata": {
        "id": "GsNzGAp1GH67"
      },
      "source": [
        "**4. Посчитайте и введите в Контест разность между средними арифметическими average_bill в кафе Москвы и Санкт-Петербурга. Округлите ответ до целого.**\n",
        "\n",
        "&nbsp;\n",
        "\n",
        "<details>\n",
        "  <summary>Небольшая подсказка</summary>\n",
        "  Примените часто используемый метод groupby.\n",
        "</details>"
      ]
    },
    {
      "cell_type": "code",
      "execution_count": null,
      "metadata": {
        "id": "gLdl3zVCGH67",
        "colab": {
          "base_uri": "https://localhost:8080/",
          "height": 112
        },
        "outputId": "25aae5c6-e732-4bb6-9aad-0d8763adcad7"
      },
      "outputs": [
        {
          "output_type": "execute_result",
          "data": {
            "text/plain": [
              "  city        mean\n",
              "0  msk  781.080794\n",
              "1  spb  638.677107"
            ],
            "text/html": [
              "\n",
              "  <div id=\"df-2b38a219-06d2-4a28-a401-d4063f7ab2f5\" class=\"colab-df-container\">\n",
              "    <div>\n",
              "<style scoped>\n",
              "    .dataframe tbody tr th:only-of-type {\n",
              "        vertical-align: middle;\n",
              "    }\n",
              "\n",
              "    .dataframe tbody tr th {\n",
              "        vertical-align: top;\n",
              "    }\n",
              "\n",
              "    .dataframe thead th {\n",
              "        text-align: right;\n",
              "    }\n",
              "</style>\n",
              "<table border=\"1\" class=\"dataframe\">\n",
              "  <thead>\n",
              "    <tr style=\"text-align: right;\">\n",
              "      <th></th>\n",
              "      <th>city</th>\n",
              "      <th>mean</th>\n",
              "    </tr>\n",
              "  </thead>\n",
              "  <tbody>\n",
              "    <tr>\n",
              "      <th>0</th>\n",
              "      <td>msk</td>\n",
              "      <td>781.080794</td>\n",
              "    </tr>\n",
              "    <tr>\n",
              "      <th>1</th>\n",
              "      <td>spb</td>\n",
              "      <td>638.677107</td>\n",
              "    </tr>\n",
              "  </tbody>\n",
              "</table>\n",
              "</div>\n",
              "    <div class=\"colab-df-buttons\">\n",
              "\n",
              "  <div class=\"colab-df-container\">\n",
              "    <button class=\"colab-df-convert\" onclick=\"convertToInteractive('df-2b38a219-06d2-4a28-a401-d4063f7ab2f5')\"\n",
              "            title=\"Convert this dataframe to an interactive table.\"\n",
              "            style=\"display:none;\">\n",
              "\n",
              "  <svg xmlns=\"http://www.w3.org/2000/svg\" height=\"24px\" viewBox=\"0 -960 960 960\">\n",
              "    <path d=\"M120-120v-720h720v720H120Zm60-500h600v-160H180v160Zm220 220h160v-160H400v160Zm0 220h160v-160H400v160ZM180-400h160v-160H180v160Zm440 0h160v-160H620v160ZM180-180h160v-160H180v160Zm440 0h160v-160H620v160Z\"/>\n",
              "  </svg>\n",
              "    </button>\n",
              "\n",
              "  <style>\n",
              "    .colab-df-container {\n",
              "      display:flex;\n",
              "      gap: 12px;\n",
              "    }\n",
              "\n",
              "    .colab-df-convert {\n",
              "      background-color: #E8F0FE;\n",
              "      border: none;\n",
              "      border-radius: 50%;\n",
              "      cursor: pointer;\n",
              "      display: none;\n",
              "      fill: #1967D2;\n",
              "      height: 32px;\n",
              "      padding: 0 0 0 0;\n",
              "      width: 32px;\n",
              "    }\n",
              "\n",
              "    .colab-df-convert:hover {\n",
              "      background-color: #E2EBFA;\n",
              "      box-shadow: 0px 1px 2px rgba(60, 64, 67, 0.3), 0px 1px 3px 1px rgba(60, 64, 67, 0.15);\n",
              "      fill: #174EA6;\n",
              "    }\n",
              "\n",
              "    .colab-df-buttons div {\n",
              "      margin-bottom: 4px;\n",
              "    }\n",
              "\n",
              "    [theme=dark] .colab-df-convert {\n",
              "      background-color: #3B4455;\n",
              "      fill: #D2E3FC;\n",
              "    }\n",
              "\n",
              "    [theme=dark] .colab-df-convert:hover {\n",
              "      background-color: #434B5C;\n",
              "      box-shadow: 0px 1px 3px 1px rgba(0, 0, 0, 0.15);\n",
              "      filter: drop-shadow(0px 1px 2px rgba(0, 0, 0, 0.3));\n",
              "      fill: #FFFFFF;\n",
              "    }\n",
              "  </style>\n",
              "\n",
              "    <script>\n",
              "      const buttonEl =\n",
              "        document.querySelector('#df-2b38a219-06d2-4a28-a401-d4063f7ab2f5 button.colab-df-convert');\n",
              "      buttonEl.style.display =\n",
              "        google.colab.kernel.accessAllowed ? 'block' : 'none';\n",
              "\n",
              "      async function convertToInteractive(key) {\n",
              "        const element = document.querySelector('#df-2b38a219-06d2-4a28-a401-d4063f7ab2f5');\n",
              "        const dataTable =\n",
              "          await google.colab.kernel.invokeFunction('convertToInteractive',\n",
              "                                                    [key], {});\n",
              "        if (!dataTable) return;\n",
              "\n",
              "        const docLinkHtml = 'Like what you see? Visit the ' +\n",
              "          '<a target=\"_blank\" href=https://colab.research.google.com/notebooks/data_table.ipynb>data table notebook</a>'\n",
              "          + ' to learn more about interactive tables.';\n",
              "        element.innerHTML = '';\n",
              "        dataTable['output_type'] = 'display_data';\n",
              "        await google.colab.output.renderOutput(dataTable, element);\n",
              "        const docLink = document.createElement('div');\n",
              "        docLink.innerHTML = docLinkHtml;\n",
              "        element.appendChild(docLink);\n",
              "      }\n",
              "    </script>\n",
              "  </div>\n",
              "\n",
              "\n",
              "<div id=\"df-2e0fdd1b-31e6-41f1-bb89-afde2c81b94f\">\n",
              "  <button class=\"colab-df-quickchart\" onclick=\"quickchart('df-2e0fdd1b-31e6-41f1-bb89-afde2c81b94f')\"\n",
              "            title=\"Suggest charts\"\n",
              "            style=\"display:none;\">\n",
              "\n",
              "<svg xmlns=\"http://www.w3.org/2000/svg\" height=\"24px\"viewBox=\"0 0 24 24\"\n",
              "     width=\"24px\">\n",
              "    <g>\n",
              "        <path d=\"M19 3H5c-1.1 0-2 .9-2 2v14c0 1.1.9 2 2 2h14c1.1 0 2-.9 2-2V5c0-1.1-.9-2-2-2zM9 17H7v-7h2v7zm4 0h-2V7h2v10zm4 0h-2v-4h2v4z\"/>\n",
              "    </g>\n",
              "</svg>\n",
              "  </button>\n",
              "\n",
              "<style>\n",
              "  .colab-df-quickchart {\n",
              "      --bg-color: #E8F0FE;\n",
              "      --fill-color: #1967D2;\n",
              "      --hover-bg-color: #E2EBFA;\n",
              "      --hover-fill-color: #174EA6;\n",
              "      --disabled-fill-color: #AAA;\n",
              "      --disabled-bg-color: #DDD;\n",
              "  }\n",
              "\n",
              "  [theme=dark] .colab-df-quickchart {\n",
              "      --bg-color: #3B4455;\n",
              "      --fill-color: #D2E3FC;\n",
              "      --hover-bg-color: #434B5C;\n",
              "      --hover-fill-color: #FFFFFF;\n",
              "      --disabled-bg-color: #3B4455;\n",
              "      --disabled-fill-color: #666;\n",
              "  }\n",
              "\n",
              "  .colab-df-quickchart {\n",
              "    background-color: var(--bg-color);\n",
              "    border: none;\n",
              "    border-radius: 50%;\n",
              "    cursor: pointer;\n",
              "    display: none;\n",
              "    fill: var(--fill-color);\n",
              "    height: 32px;\n",
              "    padding: 0;\n",
              "    width: 32px;\n",
              "  }\n",
              "\n",
              "  .colab-df-quickchart:hover {\n",
              "    background-color: var(--hover-bg-color);\n",
              "    box-shadow: 0 1px 2px rgba(60, 64, 67, 0.3), 0 1px 3px 1px rgba(60, 64, 67, 0.15);\n",
              "    fill: var(--button-hover-fill-color);\n",
              "  }\n",
              "\n",
              "  .colab-df-quickchart-complete:disabled,\n",
              "  .colab-df-quickchart-complete:disabled:hover {\n",
              "    background-color: var(--disabled-bg-color);\n",
              "    fill: var(--disabled-fill-color);\n",
              "    box-shadow: none;\n",
              "  }\n",
              "\n",
              "  .colab-df-spinner {\n",
              "    border: 2px solid var(--fill-color);\n",
              "    border-color: transparent;\n",
              "    border-bottom-color: var(--fill-color);\n",
              "    animation:\n",
              "      spin 1s steps(1) infinite;\n",
              "  }\n",
              "\n",
              "  @keyframes spin {\n",
              "    0% {\n",
              "      border-color: transparent;\n",
              "      border-bottom-color: var(--fill-color);\n",
              "      border-left-color: var(--fill-color);\n",
              "    }\n",
              "    20% {\n",
              "      border-color: transparent;\n",
              "      border-left-color: var(--fill-color);\n",
              "      border-top-color: var(--fill-color);\n",
              "    }\n",
              "    30% {\n",
              "      border-color: transparent;\n",
              "      border-left-color: var(--fill-color);\n",
              "      border-top-color: var(--fill-color);\n",
              "      border-right-color: var(--fill-color);\n",
              "    }\n",
              "    40% {\n",
              "      border-color: transparent;\n",
              "      border-right-color: var(--fill-color);\n",
              "      border-top-color: var(--fill-color);\n",
              "    }\n",
              "    60% {\n",
              "      border-color: transparent;\n",
              "      border-right-color: var(--fill-color);\n",
              "    }\n",
              "    80% {\n",
              "      border-color: transparent;\n",
              "      border-right-color: var(--fill-color);\n",
              "      border-bottom-color: var(--fill-color);\n",
              "    }\n",
              "    90% {\n",
              "      border-color: transparent;\n",
              "      border-bottom-color: var(--fill-color);\n",
              "    }\n",
              "  }\n",
              "</style>\n",
              "\n",
              "  <script>\n",
              "    async function quickchart(key) {\n",
              "      const quickchartButtonEl =\n",
              "        document.querySelector('#' + key + ' button');\n",
              "      quickchartButtonEl.disabled = true;  // To prevent multiple clicks.\n",
              "      quickchartButtonEl.classList.add('colab-df-spinner');\n",
              "      try {\n",
              "        const charts = await google.colab.kernel.invokeFunction(\n",
              "            'suggestCharts', [key], {});\n",
              "      } catch (error) {\n",
              "        console.error('Error during call to suggestCharts:', error);\n",
              "      }\n",
              "      quickchartButtonEl.classList.remove('colab-df-spinner');\n",
              "      quickchartButtonEl.classList.add('colab-df-quickchart-complete');\n",
              "    }\n",
              "    (() => {\n",
              "      let quickchartButtonEl =\n",
              "        document.querySelector('#df-2e0fdd1b-31e6-41f1-bb89-afde2c81b94f button');\n",
              "      quickchartButtonEl.style.display =\n",
              "        google.colab.kernel.accessAllowed ? 'block' : 'none';\n",
              "    })();\n",
              "  </script>\n",
              "</div>\n",
              "    </div>\n",
              "  </div>\n"
            ],
            "application/vnd.google.colaboratory.intrinsic+json": {
              "type": "dataframe",
              "summary": "{\n  \"name\": \"clean_data[clean_data['rubrics_id']\",\n  \"rows\": 2,\n  \"fields\": [\n    {\n      \"column\": \"city\",\n      \"properties\": {\n        \"dtype\": \"string\",\n        \"num_unique_values\": 2,\n        \"samples\": [\n          \"spb\",\n          \"msk\"\n        ],\n        \"semantic_type\": \"\",\n        \"description\": \"\"\n      }\n    },\n    {\n      \"column\": \"mean\",\n      \"properties\": {\n        \"dtype\": \"number\",\n        \"std\": 100.69461288179775,\n        \"min\": 638.6771069441583,\n        \"max\": 781.0807941395052,\n        \"num_unique_values\": 2,\n        \"samples\": [\n          638.6771069441583,\n          781.0807941395052\n        ],\n        \"semantic_type\": \"\",\n        \"description\": \"\"\n      }\n    }\n  ]\n}"
            }
          },
          "metadata": {},
          "execution_count": 19
        }
      ],
      "source": [
        "clean_data[clean_data['rubrics_id'].str.contains('30774')].groupby('city', as_index=False).agg(mean = ('average_bill', 'mean'))"
      ]
    },
    {
      "cell_type": "markdown",
      "metadata": {
        "id": "Qncnmi8bGH7F"
      },
      "source": [
        "Давайте ещё немного поизучаем данные. Ответьте на вопросы:\n",
        "\n",
        "1. Есть ли разница между средними чеками в Москве и Санкт-Петербурге?\n",
        "2. Коррелирует ли средний чек с рейтингом?\n",
        "3. Есть ли разница в среднем чеке между ресторанами и пабами (см. соответствующие типы из ``rubrics``)?\n",
        "\n",
        "&nbsp;\n",
        "\n",
        "<details>\n",
        "  <summary>Когда будете готовы, кликните сюда, чтобы посмотреть ответ</summary>\n",
        "    <ol>\n",
        "      <li>В целом, да. Вы могли бы сравнить средние (в Москве больше) или медианы (они равны, потому что уж больно много где средний чек 500). Этого, конечно, мало для того, чтобы сделать вывод. Нужно проверять какие-то статические критерии, которые изучаются в курсе по статистике. Не будем останавливаться на этом подробно. Поскольку данные совсем не нормальные, никакой t-тест не сработает; мы бы предложили использовать критерий Манна-Уитни (см. википедию и функцию mannwhitneyu из библиотеки scipy.stats).</li>\n",
        "      <li>Какая-то корреляция между ними есть но уж больно неубедительная (рекомендуем построим на одном графике boxplot рейтинга по каждому значению среднего чека для визуализации). Конечно, дна становится меньше с ростом среднего чека, но, видимо, в предсказании это особо не используешь;</li>\n",
        "      <li>Несомненно, в ресторанах средний чек выше. Это и невооружённым глазом видно, и с помощью критерия Манна-Уитни можно проверить.</li>\n",
        "    </ol>\n",
        "</details>"
      ]
    },
    {
      "cell_type": "code",
      "source": [
        "clean_data['average_bill'].corr(clean_data['rating'])"
      ],
      "metadata": {
        "colab": {
          "base_uri": "https://localhost:8080/"
        },
        "id": "BfjCPbN-FO5C",
        "outputId": "352a73c0-1ee0-4898-99c6-cadc10181279"
      },
      "execution_count": null,
      "outputs": [
        {
          "output_type": "execute_result",
          "data": {
            "text/plain": [
              "0.09026290021639105"
            ]
          },
          "metadata": {},
          "execution_count": 20
        }
      ]
    },
    {
      "cell_type": "markdown",
      "metadata": {
        "id": "ATY5075lGH7F"
      },
      "source": [
        "## Формулируем задачу"
      ]
    },
    {
      "cell_type": "markdown",
      "metadata": {
        "id": "znpEgJGIGH7F"
      },
      "source": [
        "Прежде, чем решать задачу, её надо сформулировать.\n",
        "\n",
        "**Вопрос первый**: это классификация или регрессия? Подумайте над этим.\n",
        "\n",
        "&nbsp;\n",
        "\n",
        "<details>\n",
        "  <summary>Когда будете готовы, кликните сюда, чтобы посмотреть ответ</summary>\n",
        "    Ответ не столь однозначен, как хотелось бы. С одной стороны, таргет принимает всего четыре значения, и потому это может быть классификацией с 4 классами. С другой стороны, таргеты - это не абстрактные \"треугольник\", \"круг\", \"квадрат\", а вещественные числа, и когда мы вместо 500 предсказываем 2500, это явно хуже, чем вместо 1500 предсказать 2000. В целом, задачу можно решать и так, и так; мы будем смотреть на метрики обеих задач.\n",
        "</details>"
      ]
    },
    {
      "cell_type": "markdown",
      "metadata": {
        "id": "aaVuazxsGH7G"
      },
      "source": [
        "**Вопрос второй**: какие метрики мы будем использовать для оценки качества решения? Какие метрики вы предложили бы для этой задачи как для задачи классификации? А для этой задачи, как для задачи регрессии?\n",
        "\n",
        "&nbsp;\n",
        "\n",
        "<details>\n",
        "  <summary>Когда будете готовы, кликните сюда, чтобы посмотреть ответ</summary>\n",
        "    \n",
        "    Начнём с классификации. Метрика accuracy не очень хороша из-за несбалансированности классов. Действительно, классификатор, который всегда говорит 500, будет иметь accuracy примерно 0.66, хотя это никак не отражает практическую ценность модели. Как мы увидим, самая большая проблема будет заключаться в том, чтобы научиться выделять заведения с большими чеками, а их меньше всего и в accuracy они вносят самый маленький вклад. Есть разные способы с этим бороться, один -- использовать sklearn.metrics.balanced_accuracy_score. Его идея, грубо говоря, в том, чтобы по каждому классу найти, какая доля объектов этого класса правильно классифицирована, а потом эти доли усреднить. Тогда у бессмысленного классификатора, который всем ставит 500, будет скор 1/5 (ведь классов 5), а чтобы получить прежние 2/3, нужно будет научиться в каждом классе правильно ставить хотя бы 2/3 меток.    \n",
        "    \n",
        "    Теперь что касается регрессии. Основых метрики две - MSE и MAE. Из первой стоит извлекать корень, чтобы получать интерпретируемые человеком значения, а вторая менее агрессивна к выбросам (впрочем, выбросов тут уже нет, мы их все выкинули). Без дополнительной информации не очень понятно, какую выбирать, можно брать любую. А выбирать надо: ведь даже банальные модели \"предсказывай всегда среднее\" и \"предсказывай всегда медиану\" будут по-разному ранжироваться этими метриками.\n",
        "    \n",
        "</details>"
      ]
    },
    {
      "cell_type": "markdown",
      "metadata": {
        "id": "vs-jkCj-GH7G"
      },
      "source": [
        "**Вопрос третий**: а не взять ли нам какую-нибудь более экзотическую метрику? Например, MAPE (определение в учебнике в главе про оценку качества моделей). А как вам такое соображение: допустим, заказчик говорит, что пользователи будут расстраиваться, только если мы завысили средний чек - так давайте поправим MSE или MAE, обнуляя те слагаемые, для которых предсказанный таргет меньше истинного. Вот это хорошая метрика или нет?\n",
        "\n",
        "&nbsp;\n",
        "\n",
        "<details>\n",
        "  <summary>Когда будете готовы, кликните сюда, чтобы посмотреть ответ</summary>\n",
        "    \n",
        "    Что касается MAPE, у нас нет тех проблем, с которой она борется. Вот если бы у нас были средние чеки от 500 до миллиона, мы бы столкнулись с ситуацией, что большие ошибки для больших чеков доминировали бы в сумме для MSE и MAE (500 вместо 1000 меркнет по сравнению с 500к вместо миллиона). Говоря поэтически, мы бы оптимизировали модель для миллионеров, забыв про простых трудяг. И было бы логично перейти от парадигмы \"ошибаемся на 500 рублей\" к парадигме \"ошибаемся на 50%\". Но у нас все таргеты примерно одного порядка, MAPE нам особо ни к чему.\n",
        "    \n",
        "    Вторая метрика коварна тем, что её можно \"накрутить\" безо всякой пользы для дела. А именно, модель, которая всегда предсказывает средний чек в миллион, была бы идеальна. Но все бы расстраивались и не ходили есть. Другое дело, что можно ввести разные веса для ошибок в большую и в меньшую сторону, но опять же - пока нет показаний к тому, что это нужно.\n",
        "    \n",
        "</details>"
      ]
    },
    {
      "cell_type": "markdown",
      "metadata": {
        "id": "VCjV_SoAGH7G"
      },
      "source": [
        "## Применяем ML"
      ]
    },
    {
      "cell_type": "markdown",
      "metadata": {
        "id": "lqkvcLSPGH7G"
      },
      "source": [
        "Теперь время разбить данные на обучающую и тестовую выборку. Делается это с помощью функции ``train_test_split`` из пакета ``sklearn``. При этом очень важно сделать две вещи:\n",
        "\n",
        "* Зафиксировать ``random_state=42`` (да, именно этот, а то ваши модели могут не зайти в Контест), чтобы всё, что мы делаем, было воспроизводимо (иначе от перезапуска к перезапуску числа могут меняться, и мы не будем понимать, из-за чего это происходит).\n",
        "* Сделать стратификацию по таргету. В противном случае у нас в трейне и тесте могут оказаться разные пропорции классов (обычно особенно страдают мало представленные классы), что неутешительно скажется на результате.\n",
        "\n",
        "**Обратите внимание**, что если вы побьёте выборку на train и test по-другому, ваши результаты могут не зайти в контест."
      ]
    },
    {
      "cell_type": "code",
      "execution_count": null,
      "metadata": {
        "id": "AF2IVpOjGH7H"
      },
      "outputs": [],
      "source": [
        "clean_data_train, clean_data_test = train_test_split(\n",
        "    clean_data, stratify=clean_data['average_bill'], test_size=0.33, random_state=42)"
      ]
    },
    {
      "cell_type": "markdown",
      "metadata": {
        "id": "S161veFJGH7H"
      },
      "source": [
        "Теперь нам нужен **бейзлайн** - очень простая модель, с которой мы в дальнейшем будем сравниваться.\n",
        "\n",
        "Поскольку мы ещё не знаем никаких умных классов моделей, все модели мы будем писать руками. А именно, мы напишем две простых модели на основе ``sklearn.baseRegressorMixin`` и ``sklearn.base.ClassifierMixin`` (посмотрите примеры в документации sklearn и сделайте так же):\n",
        "\n",
        "* Модель для задачи регрессии, которая для всех заведений предсказывает одно число — среднее значение среднего чека;\n",
        "* Модель для задачи классификации, которая для всех заведений предсказывает один класс — самый частый класс (ироничным образом он в данном случае совпадает с медианой).\n",
        "\n",
        "**Важно!** Мы будем много раз повторять вам мантру о том, что **информация из тестовой выборки не должна протекать в процесс обучения**. Так вот, и среднее, и самый частый класс вы должны считать именно на обучающей выборке!\n",
        "\n",
        "**5 и 6. Напишите эти две модели и сдайте в Контест**. В процессе проверки модели будут и обучаться, и предсказывать.\n",
        "\n",
        "Заметим, что для этих моделей нам вообще не нужны какие-то \"фичи\"; мы работаем только с таргетом.\n",
        "\n",
        "У каждой модели есть (как минимум) два метода: `fit` (обучает модель по фичам `X` и таргету `y`) `predict` (предсказывает по фичам `X`)"
      ]
    },
    {
      "cell_type": "code",
      "execution_count": null,
      "metadata": {
        "id": "lLz_sxtUGH7H"
      },
      "outputs": [],
      "source": [
        "from scipy.stats import mode\n",
        "\n",
        "from sklearn.base import RegressorMixin\n",
        "\n",
        "class MeanRegressor(RegressorMixin):\n",
        "    # Predicts the mean of y_train\n",
        "    def fit(self, X=None, y=None):\n",
        "        '''\n",
        "        Parameters\n",
        "        ----------\n",
        "        X : array like, shape = (n_samples, n_features)\n",
        "        Training data features\n",
        "        y : array like, shape = (_samples,)\n",
        "        Training data targets\n",
        "        '''\n",
        "        self.mean_ = np.mean(y)\n",
        "        return self\n",
        "\n",
        "    def predict(self, X=None):\n",
        "        '''\n",
        "        Parameters\n",
        "        ----------\n",
        "        X : array like, shape = (n_samples, n_features)\n",
        "        Data to predict\n",
        "        '''\n",
        "        return np.full(shape=X.shape[0], fill_value=self.mean_)\n",
        "\n",
        "from sklearn.base import ClassifierMixin\n",
        "\n",
        "class MostFrequentClassifier(ClassifierMixin):\n",
        "    # Predicts the rounded (just in case) median of y_train\n",
        "    def fit(self, X=None, y=None):\n",
        "        '''\n",
        "        Parameters\n",
        "        ----------\n",
        "        X : array like, shape = (n_samples, n_features)\n",
        "        Training data features\n",
        "        y : array like, shape = (_samples,)\n",
        "        Training data targets\n",
        "        '''\n",
        "        self.most_frequent_ = mode(y).mode\n",
        "\n",
        "    def predict(self, X=None):\n",
        "        '''\n",
        "        Parameters\n",
        "        ----------\n",
        "        X : array like, shape = (n_samples, n_features)\n",
        "        Data to predict\n",
        "        '''\n",
        "        return np.full(shape=X.shape[0], fill_value=self.most_frequent_)"
      ]
    },
    {
      "cell_type": "markdown",
      "metadata": {
        "id": "lo2pNhVoGH7I"
      },
      "source": [
        "Обучим наши модели"
      ]
    },
    {
      "cell_type": "code",
      "execution_count": null,
      "metadata": {
        "id": "arXlaGnTGH7I"
      },
      "outputs": [],
      "source": [
        "reg = MeanRegressor()\n",
        "reg.fit(y=clean_data_train['average_bill'])\n",
        "\n",
        "clf = MostFrequentClassifier()\n",
        "clf.fit(y=clean_data_train['average_bill'])"
      ]
    },
    {
      "cell_type": "markdown",
      "metadata": {
        "id": "jJG8x0tmGH7I"
      },
      "source": [
        "Обучите модели и оцените их качество на тестовой выборке. В качестве метрик возьмём RMSE (``np.sqrt`` от ``sklearn.metrics.mean_squared_error``) и ``sklearn.metrics.balanced_accuracy_score``.\n",
        "\n",
        "Для регрессионной модели имеет смысл считать только RMSE (значения будут не кратны 500, точно мы угадывать не будем никогда), а вот для классификационной можно найти обе метрики. Сделайте это. Какая модель оказалась лучше по RMSE?"
      ]
    },
    {
      "cell_type": "markdown",
      "metadata": {
        "id": "kvZwp54sGH7J"
      },
      "source": [
        "<details>\n",
        "  <summary>Когда будете готовы, кликните сюда</summary>\n",
        "    \n",
        "  Казалось бы, регрессор никогда не угадывает, но он в каком-то смысле лучше классификатора - справедливо ли это? Возможно. Несуществующий пользователь модели вряд ли будет задавать вопросы \"почему средний чек не кратен 500?\" Ну, выдали около 800 - ок, понятно.\n",
        "    \n",
        "</details>"
      ]
    },
    {
      "cell_type": "code",
      "source": [
        "from sklearn.metrics import mean_squared_error, balanced_accuracy_score\n",
        "import numpy as np\n",
        "\n",
        "rmse = np.sqrt(mean_squared_error(clean_data_test['average_bill'], reg.predict(clean_data_test)))\n",
        "#bal_acc = balanced_accuracy_score(clean_data_test['average_bill'], reg.predict(clean_data_test))\n",
        "print(rmse)"
      ],
      "metadata": {
        "colab": {
          "base_uri": "https://localhost:8080/"
        },
        "id": "xjPXSSWHJlEO",
        "outputId": "666ffd5f-2637-4c1e-d5d6-6cbaac5f3672"
      },
      "execution_count": null,
      "outputs": [
        {
          "output_type": "stream",
          "name": "stdout",
          "text": [
            "448.7143889551622\n"
          ]
        }
      ]
    },
    {
      "cell_type": "code",
      "source": [
        "rmse = np.sqrt(mean_squared_error(clean_data_test['average_bill'], clf.predict(clean_data_test)))\n",
        "bal_acc = balanced_accuracy_score(clean_data_test['average_bill'], clf.predict(clean_data_test))\n",
        "print(rmse, bal_acc)"
      ],
      "metadata": {
        "colab": {
          "base_uri": "https://localhost:8080/"
        },
        "id": "bkW2qwuqKob-",
        "outputId": "45d31c94-39a9-44c7-c01f-d8f13f5844e1"
      },
      "execution_count": null,
      "outputs": [
        {
          "output_type": "stream",
          "name": "stdout",
          "text": [
            "514.7517402382093 0.2\n"
          ]
        }
      ]
    },
    {
      "cell_type": "markdown",
      "metadata": {
        "id": "V-1-O9GyGH7J"
      },
      "source": [
        "## Усложнение модели"
      ]
    },
    {
      "cell_type": "markdown",
      "metadata": {
        "id": "dGWgxl0VGH7J"
      },
      "source": [
        "Бейзлайны будут нашей отправной точкой. Строя дальнейшие модели, мы будем спрашивать себя: получилось ли лучше бейзлайна? Если нет или если не особо, то в чём смысл усложнения?"
      ]
    },
    {
      "cell_type": "markdown",
      "metadata": {
        "id": "9w3DkuuFGH7K"
      },
      "source": [
        "Начнём с использования фичи ``city``. Мы уже видели, что в разных городах и средние чеки разные. Легко проверить, что *медиана* средних чеков всё же одна и та же и в Москве, и в Санкт-Петербурге (ох уж этот вездесущий средний чек 500!), поэтому с классификатором мы ничего не сделаем. Но вот регрессор можно попробовать починить.\n",
        "\n",
        "**7. Напишите регрессор, для каждого заведения предсказывающий среднее значение в том же городе (на обучающей выборке, конечно) и сдайте его в Контест**. Вам может помочь то, что булевы `pandas` и `numpy` столбцы можно умножать на численные — в такой ситуации False работает, как ноль, а True как единица."
      ]
    },
    {
      "cell_type": "code",
      "execution_count": null,
      "metadata": {
        "id": "ZULQVPe2GH7K"
      },
      "outputs": [],
      "source": [
        "from sklearn.base import RegressorMixin\n",
        "import numpy as np\n",
        "import pandas as pd\n",
        "\n",
        "class CityMeanRegressor(RegressorMixin):\n",
        "    def fit(self, X=None, y=None):\n",
        "        self.city_means_ = X.groupby('city')['average_bill'].mean()\n",
        "\n",
        "    def predict(self, X=None):\n",
        "        city_means = self.city_means_.values\n",
        "        city_indices = X['city'].map(self.city_means_.index.get_loc)\n",
        "        return city_means[city_indices]"
      ]
    },
    {
      "cell_type": "code",
      "source": [
        "reg = CityMeanRegressor()\n",
        "reg.fit(clean_data_train)"
      ],
      "metadata": {
        "id": "GTKUZlpeOhVI"
      },
      "execution_count": null,
      "outputs": []
    },
    {
      "cell_type": "code",
      "source": [
        "rmse = np.sqrt(mean_squared_error(clean_data_test['average_bill'], reg.predict(clean_data_test)))\n",
        "print(rmse)"
      ],
      "metadata": {
        "colab": {
          "base_uri": "https://localhost:8080/"
        },
        "id": "Cd0HKLA8PQ-S",
        "outputId": "4f3d9dbe-93c8-40b1-af13-71037c82dda6"
      },
      "execution_count": null,
      "outputs": [
        {
          "output_type": "stream",
          "name": "stdout",
          "text": [
            "445.1063281403263\n"
          ]
        }
      ]
    },
    {
      "cell_type": "markdown",
      "metadata": {
        "id": "1EeFGk24GH7K"
      },
      "source": [
        "Обучите регрессор и сравните его по метрике RMSE с бейзлайнами. Получилось ли улучшить метрику?"
      ]
    },
    {
      "cell_type": "markdown",
      "metadata": {
        "id": "jROycei1GH7L"
      },
      "source": [
        "Лучше стало, но, правда, не очень сильно. В этот момент очень важно не просто радовать руководителя приростом в третьем знаке, но и думать о том, что происходит.\n",
        "\n",
        "Средний средний чек по Москве равен 793, в Санкт-Петербурге - 676, а в целом - 752 рубля. MSE, увы, не поможет вам ответить на вопрос, стало ли лучше пользователю, если вы ему вместо 752 рублей назвали 793. Здесь вскрывается весьма существенный порок MSE в этой задаче. Дело в том, что наш изначальный таргет делит заведения на некоторые \"ценовые категории\", и различие в средних чеках 500 и 1000 в самом деле существенно. Наверное, мы хотели бы как раз правильно предсказывать ценовые категории. Но MSE не очень помогает нам об этом судить. Дальше мы ещё подумаем, как это исправить.\n",
        "\n",
        "В любом случае, несмотря на улучшение метрики, мы пока не можем судить, стало ли по жизни лучше от усложнения модели."
      ]
    },
    {
      "cell_type": "markdown",
      "metadata": {
        "id": "wEQ9eOoWGH7L"
      },
      "source": [
        "Поручинившись немного, возьмём на вооружение другую идею. Давайте использовать типы заведений!\n",
        "\n",
        "Но с типами есть некоторая проблема: в столбце ``rubrics_id`` не всегда один идентификатор, часто их несколько, и всего комбинаций довольно много. Чтобы не возиться с малочисленными типами, давайте сольём их в один безликий ``other``.\n",
        "\n",
        "Итак, добавьте в обучающие и тестовые данные столбец ``modified_rubrics``, в котором будет то же, что и в ``rubrics_id``, если соответствующая комбинация рубрик содержит хотя бы 100 заведений из обучающей (!) выборки, и строка ``other`` в противном случае.\n",
        "\n",
        "Здесь вам поможет контейнер ``Counter`` из библиотеки ``collections``."
      ]
    },
    {
      "cell_type": "code",
      "execution_count": null,
      "metadata": {
        "id": "uTVW5KkwGH7L"
      },
      "outputs": [],
      "source": [
        "from collections import Counter\n",
        "\n",
        "cnt = Counter()\n",
        "for group in clean_data_train['rubrics_id']:\n",
        "  cnt[group] += 1\n",
        "cnt\n",
        "\n",
        "for dt in(clean_data_train, clean_data_test):\n",
        "  dt['modified_rubrics'] = dt['rubrics_id'].apply(\n",
        "    lambda x: x if cnt[x] >= 100 else 'other'\n",
        "    )"
      ]
    },
    {
      "cell_type": "markdown",
      "metadata": {
        "id": "nZXhpBjnGH7L"
      },
      "source": [
        "Теперь настало время написать могучий классификатор, который по заведению предсказывает медиану средних чеков среди тех в обучающей выборке, у которых с ним одинаковые `modified_rubrics` и город (вы спросите, почему медиану, а не самый частый -- спишем это на вдохновение; самый частый тоже можно брать - но медиана работает лучше).\n",
        "\n",
        "**8. Напишите классификатор и сдайте в Контест**."
      ]
    },
    {
      "cell_type": "code",
      "execution_count": null,
      "metadata": {
        "id": "eTfcwh5dGH7M"
      },
      "outputs": [],
      "source": [
        "from sklearn.base import ClassifierMixin\n",
        "import numpy as np\n",
        "import pandas as pd\n",
        "\n",
        "class RubricCityMedianClassifier(ClassifierMixin):\n",
        "    def fit(self, X=None, y=None):\n",
        "        self.city_means_ = X.groupby(['city', 'modified_rubrics'], as_index=False).agg(median = ('average_bill', 'median'))[['city', 'modified_rubrics', 'median']]\n",
        "\n",
        "    def predict(self, X=None):\n",
        "        '''\n",
        "        city_means = self.city_means_.values\n",
        "        city_indices = X[['city', 'modified_rubrics']].map(self.city_means_.index.get_loc)\n",
        "        return city_means[city_indices]\n",
        "        '''\n",
        "        return X.merge(self.city_means_, how='left', on=['city', 'modified_rubrics'])['median']"
      ]
    },
    {
      "cell_type": "code",
      "source": [
        "reg = RubricCityMedianClassifier()\n",
        "reg.fit(clean_data_train)"
      ],
      "metadata": {
        "id": "-Ea963fjAlKz"
      },
      "execution_count": null,
      "outputs": []
    },
    {
      "cell_type": "code",
      "source": [
        "rmse = np.sqrt(mean_squared_error(clean_data_test['average_bill'], reg.predict(clean_data_test)))\n",
        "bal_acc = balanced_accuracy_score(clean_data_test['average_bill'], reg.predict(clean_data_test))\n",
        "print(rmse, bal_acc)"
      ],
      "metadata": {
        "colab": {
          "base_uri": "https://localhost:8080/"
        },
        "id": "kTH5sWQDAlSM",
        "outputId": "4713378f-75b6-47d6-bbdb-9a3aa11489e6"
      },
      "execution_count": null,
      "outputs": [
        {
          "output_type": "stream",
          "name": "stdout",
          "text": [
            "393.96675836287915 0.30552511833185647\n"
          ]
        }
      ]
    },
    {
      "cell_type": "markdown",
      "metadata": {
        "id": "xbgjbwgkGH7M"
      },
      "source": [
        "Сравните обученный классификатор по метрикам RMSE и balanced_accuracy_score с нашими бейзлайнами. Получилось ли улучшить?"
      ]
    },
    {
      "cell_type": "markdown",
      "metadata": {
        "id": "UMjsnCnQGH7M"
      },
      "source": [
        "Обратите внимание что рост accuracy по сравнению с бейзлайном при этом на порядок меньше:"
      ]
    },
    {
      "cell_type": "markdown",
      "metadata": {
        "id": "K2cF0I-CGH7M"
      },
      "source": [
        "accuracy_score\n",
        "\n",
        "Predict most frequent:  0.6947666195190948\n",
        "\n",
        "Predict by rubric and city:  0.7095709570957096"
      ]
    },
    {
      "cell_type": "markdown",
      "metadata": {
        "id": "ylrAIjCcGH7N"
      },
      "source": [
        "Для диагностики напечатайте для каждого класса тестовой выборки, сколько в нём объектов и скольким из них наш классификатор приписал правильный класс. Что вы видите?\n",
        "\n",
        "&nbsp;\n",
        "\n",
        "<details>\n",
        "  <summary>Когда будете готовы, кликните сюда, чтобы посмотреть ответ</summary>\n",
        "    \n",
        "  Вы, вероятно, видите то, что мы стали однозначно лучше по сравнению с бейзлайном детектировать средний чек 1000 и 1500 (хотя всё равно не очень хорошо + ценой ухудшения качества на среднем чеке 500), а вот чеки 2000 и 2500 нам ну никак не даются.\n",
        "    \n",
        "</details>"
      ]
    },
    {
      "cell_type": "markdown",
      "metadata": {
        "id": "9ScOy7ZvGH7N"
      },
      "source": [
        "**Кстати**. А вы понимаете, почему приведённый выше пайплайн классификации был не очень удачным с точки зрения архитектуры? Почему его было бы правильнее воплотить по-другому?\n",
        "\n",
        "&nbsp;\n",
        "\n",
        "<details>\n",
        "  <summary>Когда будете готовы, кликните сюда, чтобы посмотреть ответ</summary>\n",
        "Собственно говоря, и не было никакого пайплайна. К счастью, у нас была одна обучающая выборка, мы на ней посчитали список рубрик для modified_rubrics и радовались жизни. Но если бы нам надо было переобучать всё на новых данных, пришлось бы помнить, что их надо везде пересчитать (ведь у нас могли появиться новые рубрики с хотя бы 100 представителями). А уж никакую кросс-валидацию (кто знает - тот поймёт) с нашим подходом к делу и вовсе бы не получилось сделать без боли.\n",
        "    \n",
        "Поэтому в следующей лабораторной вы научитесь делать честные пайплайны, в которых преобразование данных, генерация фичей и обучение классификатора будут объединены в один понятный процесс, происходящий на этапе fit.\n",
        "</details>"
      ]
    },
    {
      "cell_type": "markdown",
      "metadata": {
        "id": "4ujl3tbbGH7N"
      },
      "source": [
        "## Слишком простые и слишком сложные модели"
      ]
    },
    {
      "cell_type": "markdown",
      "metadata": {
        "id": "QF7McCHsGH7N"
      },
      "source": [
        "Бейзлайны у нас слишком просты и потому не очень полезны в жизни. Но если сложность модели растёт бесконтрольно, то тоже получается плохо.\n",
        "\n",
        "Давайте рассмотрим конкретный пример. Создадим классификатор, использующий одновременно `rubrics_id` и `features_id`.\n",
        "\n",
        "Сделайте следующее:\n",
        "\n",
        "- для каждого объекта обучающей выборки сконкатенируйте строку `rubrics_id` с разделителем (например, буквой 'q') и содержимым `features_id`. Полученный столбец озаглавьте `modified_features`. Это не самый клёвый способ заиспользовать все фичи, но сейчас пока сойдёт. Причём на сей раз не будем выкидывать мало представленные значения (вся информация важна, не так ли?).\n",
        "- при этом для тестовой выборке заменяйте на строку `other` все конкатенации, которые не встретились в обучающей выборке.\n",
        "\n",
        "То есть элементы в этом столбце будут иметь вид `other` или `30776 30774 q 3502045032 11741 3502045016 1046...`."
      ]
    },
    {
      "cell_type": "code",
      "source": [
        "clean_data_train['modified_features'] = clean_data_train.apply(lambda row: f\"{row['rubrics_id']} q {row['features_id']}\", axis=1)\n",
        "mod_feat_unique = clean_data_train['modified_features'].unique()\n",
        "clean_data_test['modified_features'] = clean_data_test.apply(lambda row: f\"{row['rubrics_id']} q {row['features_id']}\" if f\"{row['rubrics_id']} q {row['features_id']}\" in mod_feat_unique else 'other', axis=1)"
      ],
      "metadata": {
        "id": "d3yGFSSzKNLH"
      },
      "execution_count": null,
      "outputs": []
    },
    {
      "cell_type": "markdown",
      "metadata": {
        "id": "e8tNBPzVGH7O"
      },
      "source": [
        "Теперь обучите классификатор, который для заведения предсказывает медиану среднего чека по всем объектам тестовой выборки с таким же, как у него, значением `modified_features`, а если такого в обучающей выборке нет, то глобальную медиану среднего чека по всей обучающей выборке.\n",
        "\n",
        "**9. Загрузите в Контест предсказания этого классификатора на тестовой выборке**\n",
        "\n",
        "Мы ждём файла **.csv**, у которого в каждой строке будет только одно число - предсказание классификатора.\n",
        "\n",
        "Возможно, вам будет полезна библиотека ``tqdm``, позволяющая отслеживать в реальном времени, сколько времени уже крутится цикл и сколько итераций ещё осталось. Впрочем, если вы всё написали нормально, то должно работать не очень долго."
      ]
    },
    {
      "cell_type": "code",
      "source": [
        "from sklearn.base import ClassifierMixin\n",
        "import numpy as np\n",
        "import pandas as pd\n",
        "\n",
        "class RubricCityMedianClassifier(ClassifierMixin):\n",
        "    def fit(self, X=None, y=None):\n",
        "        self.city_means_ = X.groupby('modified_features', as_index=False).agg(median = ('average_bill', 'median'))[['modified_features', 'median']]\n",
        "        self.city_means_ = pd.concat([self.city_means_, pd.DataFrame({'modified_features': 'other', 'median': X['average_bill'].median()}, index=[0])], ignore_index=True)\n",
        "\n",
        "    def predict(self, X=None):\n",
        "        return X.reset_index().merge(self.city_means_, how='left', on='modified_features').set_index('index')[['median']]"
      ],
      "metadata": {
        "id": "Bwq7H2AhODSK"
      },
      "execution_count": null,
      "outputs": []
    },
    {
      "cell_type": "code",
      "source": [
        "reg = RubricCityMedianClassifier()\n",
        "reg.fit(clean_data_train)"
      ],
      "metadata": {
        "id": "YWycY5ExOJy8"
      },
      "execution_count": null,
      "outputs": []
    },
    {
      "cell_type": "code",
      "source": [
        "rmse = np.sqrt(mean_squared_error(clean_data_train['average_bill'], reg.predict(clean_data_train)))\n",
        "bal_acc = balanced_accuracy_score(clean_data_train['average_bill'], reg.predict(clean_data_train))\n",
        "print(rmse, bal_acc)\n",
        "\n",
        "rmse = np.sqrt(mean_squared_error(clean_data_test['average_bill'], reg.predict(clean_data_test)))\n",
        "bal_acc = balanced_accuracy_score(clean_data_test['average_bill'], reg.predict(clean_data_test))\n",
        "print(rmse, bal_acc)"
      ],
      "metadata": {
        "colab": {
          "base_uri": "https://localhost:8080/"
        },
        "id": "c9nD-VdsOJ6i",
        "outputId": "462706e3-67f3-494c-d591-0f19460de4eb"
      },
      "execution_count": null,
      "outputs": [
        {
          "output_type": "stream",
          "name": "stdout",
          "text": [
            "32.4162067388783 0.9931928777769354\n",
            "513.9898108867789 0.2010249213051401\n"
          ]
        },
        {
          "output_type": "stream",
          "name": "stderr",
          "text": [
            "/usr/local/lib/python3.10/dist-packages/sklearn/metrics/_classification.py:2399: UserWarning: y_pred contains classes not in y_true\n",
            "  warnings.warn(\"y_pred contains classes not in y_true\")\n",
            "/usr/local/lib/python3.10/dist-packages/sklearn/metrics/_classification.py:2399: UserWarning: y_pred contains classes not in y_true\n",
            "  warnings.warn(\"y_pred contains classes not in y_true\")\n"
          ]
        }
      ]
    },
    {
      "cell_type": "code",
      "source": [
        "reg.predict(clean_data_test).to_csv('predictions.csv', header=False)"
      ],
      "metadata": {
        "id": "Fcw3k7E8U2NT"
      },
      "execution_count": null,
      "outputs": []
    },
    {
      "cell_type": "markdown",
      "metadata": {
        "id": "_XrswPW4GH7O"
      },
      "source": [
        "Модель, очевидно, очень сложная. Число параметров (различных категорий) в ней сопоставимо с числом объектов в обучающей выборке. А получилось ли хорошо?\n",
        "\n",
        "Давайте посчитаем RMSE и balanced_accuracy_score на обучающей и на тестовой выборках.\n",
        "\n",
        "**10. Введите их в Контест**"
      ]
    },
    {
      "cell_type": "markdown",
      "metadata": {
        "id": "fGDTpxFgGH7O"
      },
      "source": [
        "Налицо переобучение: на трейне метрики отличные, на тесте - вообще никакие\n",
        "\n",
        "В общем, не гонитесь за чрезмерной сложностью модели.."
      ]
    },
    {
      "cell_type": "markdown",
      "metadata": {
        "id": "YTU2yubYGH7O"
      },
      "source": [
        "## ML без данных что компутер без электричества"
      ]
    },
    {
      "cell_type": "markdown",
      "metadata": {
        "id": "DBVOCVf2GH7P"
      },
      "source": [
        "Возможно, вы смотрите на полученные выше результаты и думаете: вот если бы мы не какие-то убогие медианы предсказывали, а гоняли бы нейросети, то тут-то бы всё и получилось!\n",
        "\n",
        "Но, увы, совсем даже не всегда от счастья нас отделяет выбор хорошей модели (и стратегии обучения). Если данные не очень, то даже самая крутая модель не сработает. В этой ситуации нужно либо добывать новые фичи каким-то образом, либо собирать новые данные (увеличивать датасет), либо просто бросать задачу.\n",
        "\n",
        "Давайте посмотрим, что выжмет из наших данных одна из самых мощных моделей для табличных данных - градиентный бустинг на решающих деревьях в исполнении [CatBoost](https://catboost.ai/)."
      ]
    },
    {
      "cell_type": "markdown",
      "metadata": {
        "id": "a0L4UmzSGH7P"
      },
      "source": [
        "Но прежде, чем сделать fit, нам надо облагородить данные. Несмотря на то, что CatBoost отлично работает с категориальными фичами, мешок признаков из `rubrics_id` или `features_id` может ему оказаться не по зубам. Поэтому мы соберём датасет в пристойную матрицу, создав для каждого типа рубрик и фичей отдельный столбец и записав там единицы для тех объектов, у которых эта рубрика или фича имеет место.\n",
        "\n",
        "В матрице почти все элементы будут нулями. Такие матрицы считаются **разреженными** и их можно хранить гораздо эффективней, чем просто таблицей. Этим и займёмся)"
      ]
    },
    {
      "cell_type": "markdown",
      "metadata": {
        "id": "IJKuMtNbGH7P"
      },
      "source": [
        "Есть несколько форматов хранения разреженных матриц (многие из них реализованы в [пакете sparse библиотеки scipy](https://docs.scipy.org/doc/scipy/reference/sparse.html)), и каждый пригоден для чего-то своего.\n",
        "\n",
        "Создавать разреженную матрицу лучше в [формате COO](https://docs.scipy.org/doc/scipy/reference/generated/scipy.sparse.coo_array.html#scipy.sparse.coo_array). Он предполагает, что разреженная матрица задаётся в виде трёх списков: `row`, `col`, `data`, причём каждая тройка `(row[i], col[i], data[i])` кодирует элемент со значением `data[i]`, стоящий на позиции `(row[i], col[i])`. Считается, что на позициях `(row, col)`, которые ни разу не встретились, стоят нули.\n",
        "\n",
        "Нетрудно видеть, что заполнять такую матрицу - одно удовольствие, и особенно этому помогает тот факт, что **пара `(row, col)` может встретиться несколько раз** (тогда в итоговой матрице на соответствующей позиции стоит сумма соответствующих `data[i]`). Но, с другой стороны, почти ничего другого с такой матрицей не сделаешь: произвольного доступа к элементам она не предоставляет, умножить её тоже особо ничего не умножишь. Поэтому для дальнейшего использования созданную таким образом матрицу преобразуют в один из более удобных форматов, например, [CSR (compressed sparse row)](https://scipy-lectures.org/advanced/scipy_sparse/csr_matrix.html). Он, к примеру, хорошо подходит для умножения на вектор (потому что матрица хранится по строкам). Не будем разбирать его подробно, но можете почитать по ссылке, если интересно."
      ]
    },
    {
      "cell_type": "markdown",
      "metadata": {
        "id": "2hd_Sob3GH7P"
      },
      "source": [
        "Вам нужно будет превратить обучающие и тестовые данные в разреженные матрицы `sparse_data_train` и `sparse_data_test` соответственно, таким образом, что:\n",
        "\n",
        "- столбец `city` превратится в столбец из единиц и нулей (например, 1 - Москва, 0 - Питер);\n",
        "- столбец `rating` перекочует в разреженные матрицы без изменений;\n",
        "- каждый типы рубрик и каждая фича превратятся в отдельный 0-1-принак;\n",
        "\n",
        "В тестовой выборке будут фичи, которых в обучающей выборке не было. С ними можно по-разному работать, но давайте создадим дополнительную фантомную фичу `feature_other`, в которой будет то, сколько неизвестных по обучающей выборке фичей есть у данного объекта."
      ]
    },
    {
      "cell_type": "code",
      "source": [
        "clean_data_train.columns"
      ],
      "metadata": {
        "colab": {
          "base_uri": "https://localhost:8080/"
        },
        "id": "PwQqz2Neb3LA",
        "outputId": "167af584-d32b-4bc2-9227-23e6c5292816"
      },
      "execution_count": null,
      "outputs": [
        {
          "output_type": "execute_result",
          "data": {
            "text/plain": [
              "Index(['org_id', 'city', 'average_bill', 'rating', 'rubrics_id', 'features_id',\n",
              "       'modified_rubrics', 'modified_features'],\n",
              "      dtype='object')"
            ]
          },
          "metadata": {},
          "execution_count": 38
        }
      ]
    },
    {
      "cell_type": "code",
      "source": [
        "all_feat = features['feature_id'].unique()\n",
        "all_rub = rubrics['rubric_id'].unique()\n",
        "all_feat.size"
      ],
      "metadata": {
        "colab": {
          "base_uri": "https://localhost:8080/"
        },
        "id": "f_FksuYpd1mg",
        "outputId": "b662e3e5-efb5-4c23-ecde-44d0739c2c50"
      },
      "execution_count": null,
      "outputs": [
        {
          "output_type": "execute_result",
          "data": {
            "text/plain": [
              "1006"
            ]
          },
          "metadata": {},
          "execution_count": 71
        }
      ]
    },
    {
      "cell_type": "code",
      "execution_count": null,
      "metadata": {
        "id": "7-UAatGJGH7P",
        "colab": {
          "base_uri": "https://localhost:8080/",
          "height": 949
        },
        "outputId": "1c640897-5a6e-4a1e-9981-c4b28c5cd969"
      },
      "outputs": [
        {
          "output_type": "stream",
          "name": "stdout",
          "text": [
            "  city    rating   rubrics_id  \\\n",
            "0  msk  4.500000        30770   \n",
            "1  msk  4.442623  30774 30776   \n",
            "2  spb  4.018868  30776 30774   \n",
            "3  msk  4.364742  31401 30776   \n",
            "4  msk  4.698718        30770   \n",
            "\n",
            "                                         features_id  \n",
            "0            11704 20422 1018 11177 1416 11867 10462  \n",
            "1  1415 3501481355 1416 11629 10462 1524 20422 11...  \n",
            "2  3502045032 11741 3502045016 10462 11704 350177...  \n",
            "3  3501513153 3501779478 3491142672 273469383 350...  \n",
            "4  21247 10896 3491142672 11629 3501481353 350148...  \n",
            "  city    rating         rubrics_id  \\\n",
            "0  spb  4.748444  30776 30770 31401   \n",
            "1  msk  3.793758              30771   \n",
            "2  msk  3.606557        30771 30777   \n",
            "3  msk  4.683841              30776   \n",
            "4  spb  4.165394  30776 31401 30770   \n",
            "\n",
            "                                         features_id  \n",
            "0  11177 3501618484 10462 3501481355 1509 1416 20...  \n",
            "1  3501744275 273469383 3501513153 11617 10462 11...  \n",
            "2  3501773763 3501744275 3501773764 3501618484 15...  \n",
            "3  3501618484 20422 1082283206 11704 11629 21247 ...  \n",
            "4  1524 246 11704 1018 3501618484 2020795524 2124...  \n"
          ]
        },
        {
          "output_type": "stream",
          "name": "stderr",
          "text": [
            "/usr/local/lib/python3.10/dist-packages/sklearn/preprocessing/_label.py:900: UserWarning: unknown class(es) ['30519', '30770', '30771', '30774', '30775', '30776', '30777', '3108292683', '31286', '31350', '31375', '31401', '31495', '3501750896'] will be ignored\n",
            "  warnings.warn(\n",
            "/usr/local/lib/python3.10/dist-packages/sklearn/preprocessing/_label.py:900: UserWarning: unknown class(es) ['1018', '104', '10427', '10428', '10429', '10430', '10434', '10437', '10440', '10441', '10442', '10447', '10448', '10449', '10450', '10451', '10459', '10462', '10463', '10470', '10481', '10487', '10502', '10506', '10512', '10513', '10514', '10515', '10518', '1054', '10556', '10563', '10564', '10565', '10588', '10596', '10656', '10668', '10669', '10676', '10722', '10746', '1075', '1076799212', '10768', '10770', '10782', '10803', '10804', '1082283206', '10829', '10832', '10836', '10843', '10849', '10853', '10859', '10875', '10886', '10888', '10894', '10896', '10900', '1091', '10912', '10921', '10966', '110', '11006', '11012', '11022', '1104', '11082', '11097', '111', '11106', '1113', '11145', '1116173086', '1116173087', '11165', '11172', '11177', '11187', '11190', '11216', '11230', '1124', '1131', '114', '11496', '115', '11531', '116', '11617', '11629', '11634', '11638', '11642', '11657', '11658', '11661', '11663', '117', '11700', '11704', '11709', '11741', '11774', '11838', '11839', '11848', '11867', '11881', '11882', '1189498238', '11897', '11904', '11906', '11909', '11913', '11915', '11916', '11920', '11930', '11933', '11935', '11936', '11951', '11957', '11959', '11961', '11963', '11968', '11972', '11977', '11978', '11981', '11982', '12048', '12172', '12195', '12196', '12198', '12204', '12206', '12209', '12210', '12243', '12309', '1246', '1257', '1261', '133', '135', '137', '139550717', '139550723', '140', '1413', '1415', '1416', '144134401', '1509', '1524', '1572', '1575', '1582', '1587', '1589', '1592', '1600', '1602431352', '1627', '1651', '1703', '175', '1753', '1783', '1796', '1819', '1888', '1889', '1891', '1892', '1893', '1894', '1897', '1900', '1903', '1937', '2020795524', '20278', '20279', '20280', '20282', '20283', '20303', '20304', '20305', '20307', '20308', '20328', '20329', '20330', '20331', '20345', '20365', '20370', '20399', '20400', '20402', '20403', '20404', '20405', '20407', '20411', '20422', '20424', '20583', '20660', '20703', '20711', '20713', '20745', '20779', '20819', '20853', '20875', '20880', '20896', '20915', '20939', '20987', '20988', '21001', '21032', '21050', '21109', '21118', '21149', '21181', '21199', '21216', '21247', '21275', '21366', '21380', '21397', '21506', '21535', '21546', '21607', '21615', '21657', '21662', '246', '249', '253', '256', '262726483', '263427293', '263427294', '263622858', '270844460', '270844461', '273283228', '273469383', '273469384', '273863377', '279198317', '279198318', '283100856', '284707111', '285289832', '285289833', '286637396', '288', '2995866956', '3013110545', '305', '308', '312', '328', '343097186', '3483661991', '3483661992', '3483661993', '3483661994', '3491142672', '3491465406', '3491465421', '3492024821', '3493051166', '3493268424', '3501471642', '3501474505', '3501480642', '3501480644', '3501480645', '3501480656', '3501481353', '3501481355', '3501488776', '3501498182', '3501498183', '3501498184', '3501498186', '3501498187', '3501498188', '3501498189', '3501498190', '3501498191', '3501498193', '3501498194', '3501498195', '3501498196', '3501498197', '3501498198', '3501498199', '3501498200', '3501498201', '3501498202', '3501498203', '3501498204', '3501498205', '3501498206', '3501498207', '3501498208', '3501498209', '3501498210', '3501498211', '3501498212', '3501498213', '3501498214', '3501498215', '3501498216', '3501498217', '3501498218', '3501498371', '3501498372', '3501498379', '3501498382', '3501498389', '3501498568', '3501498569', '3501500016', '3501501062', '3501501063', '3501501064', '3501502225', '3501509021', '3501509022', '3501509023', '3501509024', '3501509025', '3501509026', '3501509027', '3501509028', '3501509029', '3501509030', '3501509031', '3501509032', '3501509033', '3501509034', '3501509035', '3501509037', '3501509041', '3501509042', '3501509045', '3501509475', '3501509914', '3501509940', '3501513153', '3501522239', '3501534098', '3501539205', '3501549616', '3501549840', '3501567639', '3501583614', '3501583627', '3501583680', '3501583920', '3501599455', '3501599535', '3501599537', '3501599538', '3501599541', '3501599543', '3501599554', '3501599561', '3501599563', '3501599566', '3501599567', '3501599570', '3501599571', '3501599572', '3501599575', '3501599585', '3501599586', '3501599587', '3501599588', '3501599593', '3501599594', '3501599597', '3501599603', '3501599604', '3501599610', '3501599676', '3501599677', '3501599691', '3501616848', '3501616913', '3501618484', '3501621382', '3501623871', '3501626676', '3501627295', '3501629404', '3501631840', '3501637468', '3501637602', '3501638601', '3501639433', '3501640731', '3501640737', '3501643039', '3501643040', '3501649263', '3501652258', '3501656640', '3501668257', '3501674400', '3501674401', '3501675316', '3501677065', '3501680348', '3501682700', '3501684957', '3501685156', '3501689802', '3501694289', '3501694325', '3501700359', '3501703400', '3501708666', '3501713908', '3501721629', '3501725225', '3501727103', '3501734280', '3501744275', '3501745827', '3501749289', '3501751270', '3501752548', '3501754799', '3501759226', '3501765089', '3501769429', '3501769434', '3501769723', '3501769724', '3501769725', '3501769739', '3501769740', '3501769741', '3501769751', '3501769752', '3501769755', '3501769756', '3501769757', '3501769758', '3501769759', '3501769760', '3501769761', '3501769762', '3501769763', '3501769765', '3501772560', '3501772561', '3501773763', '3501773764', '3501773773', '3501773799', '3501779478', '3501779832', '3501787643', '3501793680', '3501803507', '3501814557', '3501820537', '3501822933', '3501823885', '3501833418', '3501854477', '3501942428', '3501945049', '3501961675', '3501964004', '3501964056', '3501997364', '3502003689', '3502010918', '3502010929', '3502010932', '3502010938', '3502029228', '3502043737', '3502044048', '3502044229', '3502044237', '3502044252', '3502044665', '3502044672', '3502044685', '3502044709', '3502044801', '3502045016', '3502045017', '3502045032', '3502045280', '3502045286', '3502045289', '3502045294', '3502045301', '3502045303', '3502045309', '3502045322', '3502045326', '3502045331', '3502045336', '3502045340', '3502045342', '3502045395', '3502045402', '3502045411', '3502045433', '3502045496', '3502045553', '3502045556', '3502045562', '3502045597', '3502045611', '3502046291', '3502046294', '3502046330', '3502046337', '3502046339', '3502060253', '3502063466', '3502071401', '3502071402', '354', '379', '40', '411925571', '414319396', '427', '444', '447', '536', '540', '542', '545', '594', '598', '601', '602', '636', '726', '790', '795', '803', '82', '840026754', '840026755', '840026756', '840026757', '856448080', '873', '883', '948581684', '956', '980', '983', '995'] will be ignored\n",
            "  warnings.warn(\n",
            "/usr/local/lib/python3.10/dist-packages/sklearn/preprocessing/_label.py:900: UserWarning: unknown class(es) ['30519', '30770', '30771', '30774', '30775', '30776', '30777', '3108292683', '31286', '31350', '31375', '31401', '31495', '3501750896'] will be ignored\n",
            "  warnings.warn(\n",
            "/usr/local/lib/python3.10/dist-packages/sklearn/preprocessing/_label.py:900: UserWarning: unknown class(es) ['1018', '10427', '10428', '10429', '10430', '10434', '10437', '10440', '10441', '10442', '10447', '10448', '10449', '10459', '10462', '10463', '10470', '10481', '10487', '10506', '10512', '10513', '10514', '10515', '10518', '1054', '10557', '10563', '10564', '10588', '10596', '10656', '10746', '1075', '1076799212', '10768', '10770', '1082283206', '10829', '10832', '10833', '10836', '10875', '10886', '10888', '10894', '10896', '10900', '10966', '110', '11012', '11022', '11032', '11082', '11097', '11106', '1116173086', '1116173087', '11165', '11172', '11177', '11190', '11216', '11230', '1124', '115', '11531', '116', '11617', '11629', '11634', '11638', '11642', '11657', '11658', '11661', '11663', '117', '11704', '11709', '11741', '11774', '11838', '11839', '11848', '11867', '11881', '1189498238', '11897', '11904', '11906', '11909', '11913', '11916', '11920', '11930', '11933', '11935', '11936', '11951', '11957', '11963', '11968', '11972', '11978', '11982', '12048', '12172', '12195', '12203', '12204', '12206', '12210', '12212', '12243', '12309', '133', '135', '137', '139550717', '1413', '1415', '1416', '144134401', '1509', '1524', '1582', '1589', '1592', '1600', '1602431352', '1627', '1629', '1651', '1703', '175', '1753', '1796', '1819', '1888', '1889', '1891', '1892', '1893', '1894', '1897', '1937', '2020795524', '20278', '20279', '20280', '20282', '20283', '20291', '20304', '20305', '20307', '20308', '20345', '20365', '20370', '20400', '20402', '20403', '20407', '20411', '20422', '20424', '20642', '20643', '20671', '20703', '20711', '20713', '20745', '20819', '20853', '20896', '20915', '20939', '20988', '21050', '21109', '21181', '21186', '21199', '21210', '21216', '21247', '21322', '21323', '21380', '21397', '21506', '21546', '21568', '21615', '21662', '246', '249', '253', '256', '273469383', '273863377', '275672861', '283100856', '284707111', '285289832', '285289833', '286637396', '2995866956', '3013110545', '305', '312', '328', '343097186', '3481212271', '3483661991', '3483661992', '3483661993', '3483661994', '3491142672', '3491465406', '3491465421', '3491580623', '3491623595', '3493051166', '3493268424', '3501471642', '3501480642', '3501480644', '3501481353', '3501481355', '3501498184', '3501498186', '3501498187', '3501498189', '3501498193', '3501498196', '3501498197', '3501498198', '3501498199', '3501498200', '3501498209', '3501498218', '3501498379', '3501498382', '3501498389', '3501498568', '3501500016', '3501501062', '3501501064', '3501501235', '3501502225', '3501509022', '3501509024', '3501509026', '3501509030', '3501509042', '3501509045', '3501509914', '3501509940', '3501513153', '3501522239', '3501525722', '3501534098', '3501539205', '3501549616', '3501549840', '3501567639', '3501572104', '3501583627', '3501586983', '3501599455', '3501599535', '3501599541', '3501599554', '3501599561', '3501599566', '3501599570', '3501599571', '3501599585', '3501599586', '3501599603', '3501616848', '3501616913', '3501618484', '3501621367', '3501621382', '3501623871', '3501626676', '3501627295', '3501629404', '3501631840', '3501637468', '3501637602', '3501638601', '3501640731', '3501640737', '3501643039', '3501643040', '3501649263', '3501652258', '3501668257', '3501674400', '3501674401', '3501675316', '3501680348', '3501682700', '3501685156', '3501689802', '3501694289', '3501694325', '3501700359', '3501708666', '3501710419', '3501713908', '3501725224', '3501727103', '3501738022', '3501744275', '3501745827', '3501749289', '3501751270', '3501754799', '3501759226', '3501759464', '3501765089', '3501769429', '3501769434', '3501773763', '3501773764', '3501779478', '3501779832', '3501786035', '3501786036', '3501786039', '3501787643', '3501793680', '3501820537', '3501823885', '3501833418', '3501854477', '3501942075', '3501942428', '3501945049', '3501964004', '3501964056', '3502003689', '3502010918', '3502010929', '3502010932', '3502010938', '3502029228', '3502031788', '3502043737', '3502044048', '3502044229', '3502044709', '3502045016', '3502045017', '3502045032', '3502045280', '3502045303', '3502060253', '3502071401', '354', '411925571', '427', '444', '447', '545', '594', '598', '601', '602', '636', '726', '790', '795', '803', '840026754', '840026755', '840026756', '840026757', '856448080', '883', '948581684', '983', '995'] will be ignored\n",
            "  warnings.warn(\n"
          ]
        },
        {
          "output_type": "error",
          "ename": "ValueError",
          "evalue": "unsupported data types in input",
          "traceback": [
            "\u001b[0;31m---------------------------------------------------------------------------\u001b[0m",
            "\u001b[0;31mValueError\u001b[0m                                Traceback (most recent call last)",
            "\u001b[0;32m<ipython-input-98-dd1265577c0f>\u001b[0m in \u001b[0;36m<cell line: 32>\u001b[0;34m()\u001b[0m\n\u001b[1;32m     30\u001b[0m \u001b[0;32mfrom\u001b[0m \u001b[0mscipy\u001b[0m\u001b[0;34m.\u001b[0m\u001b[0msparse\u001b[0m \u001b[0;32mimport\u001b[0m \u001b[0mcsr_array\u001b[0m\u001b[0;34m\u001b[0m\u001b[0;34m\u001b[0m\u001b[0m\n\u001b[1;32m     31\u001b[0m \u001b[0;34m\u001b[0m\u001b[0m\n\u001b[0;32m---> 32\u001b[0;31m \u001b[0msparse_data_train\u001b[0m \u001b[0;34m=\u001b[0m \u001b[0mcsr_array\u001b[0m\u001b[0;34m(\u001b[0m\u001b[0msparse_data_train\u001b[0m\u001b[0;34m)\u001b[0m\u001b[0;34m\u001b[0m\u001b[0;34m\u001b[0m\u001b[0m\n\u001b[0m\u001b[1;32m     33\u001b[0m \u001b[0msparse_data_test\u001b[0m \u001b[0;34m=\u001b[0m \u001b[0mcsr_array\u001b[0m\u001b[0;34m(\u001b[0m\u001b[0msparse_data_test\u001b[0m\u001b[0;34m)\u001b[0m\u001b[0;34m\u001b[0m\u001b[0;34m\u001b[0m\u001b[0m\n",
            "\u001b[0;32m/usr/local/lib/python3.10/dist-packages/scipy/sparse/_compressed.py\u001b[0m in \u001b[0;36m__init__\u001b[0;34m(self, arg1, shape, dtype, copy)\u001b[0m\n\u001b[1;32m     91\u001b[0m                 )\n\u001b[1;32m     92\u001b[0m             \u001b[0mcoo\u001b[0m \u001b[0;34m=\u001b[0m \u001b[0mself\u001b[0m\u001b[0;34m.\u001b[0m\u001b[0m_coo_container\u001b[0m\u001b[0;34m(\u001b[0m\u001b[0marg1\u001b[0m\u001b[0;34m,\u001b[0m \u001b[0mdtype\u001b[0m\u001b[0;34m=\u001b[0m\u001b[0mdtype\u001b[0m\u001b[0;34m)\u001b[0m\u001b[0;34m\u001b[0m\u001b[0;34m\u001b[0m\u001b[0m\n\u001b[0;32m---> 93\u001b[0;31m             \u001b[0marrays\u001b[0m \u001b[0;34m=\u001b[0m \u001b[0mcoo\u001b[0m\u001b[0;34m.\u001b[0m\u001b[0m_coo_to_compressed\u001b[0m\u001b[0;34m(\u001b[0m\u001b[0mself\u001b[0m\u001b[0;34m.\u001b[0m\u001b[0m_swap\u001b[0m\u001b[0;34m)\u001b[0m\u001b[0;34m\u001b[0m\u001b[0;34m\u001b[0m\u001b[0m\n\u001b[0m\u001b[1;32m     94\u001b[0m             \u001b[0mself\u001b[0m\u001b[0;34m.\u001b[0m\u001b[0mindptr\u001b[0m\u001b[0;34m,\u001b[0m \u001b[0mself\u001b[0m\u001b[0;34m.\u001b[0m\u001b[0mindices\u001b[0m\u001b[0;34m,\u001b[0m \u001b[0mself\u001b[0m\u001b[0;34m.\u001b[0m\u001b[0mdata\u001b[0m\u001b[0;34m,\u001b[0m \u001b[0mself\u001b[0m\u001b[0;34m.\u001b[0m\u001b[0m_shape\u001b[0m \u001b[0;34m=\u001b[0m \u001b[0marrays\u001b[0m\u001b[0;34m\u001b[0m\u001b[0;34m\u001b[0m\u001b[0m\n\u001b[1;32m     95\u001b[0m \u001b[0;34m\u001b[0m\u001b[0m\n",
            "\u001b[0;32m/usr/local/lib/python3.10/dist-packages/scipy/sparse/_coo.py\u001b[0m in \u001b[0;36m_coo_to_compressed\u001b[0;34m(self, swap)\u001b[0m\n\u001b[1;32m    364\u001b[0m         \u001b[0mdata\u001b[0m \u001b[0;34m=\u001b[0m \u001b[0mnp\u001b[0m\u001b[0;34m.\u001b[0m\u001b[0mempty_like\u001b[0m\u001b[0;34m(\u001b[0m\u001b[0mself\u001b[0m\u001b[0;34m.\u001b[0m\u001b[0mdata\u001b[0m\u001b[0;34m,\u001b[0m \u001b[0mdtype\u001b[0m\u001b[0;34m=\u001b[0m\u001b[0mself\u001b[0m\u001b[0;34m.\u001b[0m\u001b[0mdtype\u001b[0m\u001b[0;34m)\u001b[0m\u001b[0;34m\u001b[0m\u001b[0;34m\u001b[0m\u001b[0m\n\u001b[1;32m    365\u001b[0m \u001b[0;34m\u001b[0m\u001b[0m\n\u001b[0;32m--> 366\u001b[0;31m         \u001b[0mcoo_tocsr\u001b[0m\u001b[0;34m(\u001b[0m\u001b[0mM\u001b[0m\u001b[0;34m,\u001b[0m \u001b[0mN\u001b[0m\u001b[0;34m,\u001b[0m \u001b[0mnnz\u001b[0m\u001b[0;34m,\u001b[0m \u001b[0mmajor\u001b[0m\u001b[0;34m,\u001b[0m \u001b[0mminor\u001b[0m\u001b[0;34m,\u001b[0m \u001b[0mself\u001b[0m\u001b[0;34m.\u001b[0m\u001b[0mdata\u001b[0m\u001b[0;34m,\u001b[0m \u001b[0mindptr\u001b[0m\u001b[0;34m,\u001b[0m \u001b[0mindices\u001b[0m\u001b[0;34m,\u001b[0m \u001b[0mdata\u001b[0m\u001b[0;34m)\u001b[0m\u001b[0;34m\u001b[0m\u001b[0;34m\u001b[0m\u001b[0m\n\u001b[0m\u001b[1;32m    367\u001b[0m         \u001b[0;32mreturn\u001b[0m \u001b[0mindptr\u001b[0m\u001b[0;34m,\u001b[0m \u001b[0mindices\u001b[0m\u001b[0;34m,\u001b[0m \u001b[0mdata\u001b[0m\u001b[0;34m,\u001b[0m \u001b[0mself\u001b[0m\u001b[0;34m.\u001b[0m\u001b[0mshape\u001b[0m\u001b[0;34m\u001b[0m\u001b[0;34m\u001b[0m\u001b[0m\n\u001b[1;32m    368\u001b[0m \u001b[0;34m\u001b[0m\u001b[0m\n",
            "\u001b[0;31mValueError\u001b[0m: unsupported data types in input"
          ]
        }
      ],
      "source": [
        "from sklearn.preprocessing import MultiLabelBinarizer\n",
        "\n",
        "sparse_data_train = clean_data_train[['city', 'rating', 'rubrics_id', 'features_id']].reset_index(drop=True)\n",
        "print(sparse_data_train.head())\n",
        "sparse_data_test = clean_data_test[['city', 'rating', 'rubrics_id', 'features_id']].reset_index(drop=True)\n",
        "print(sparse_data_test.head())\n",
        "\n",
        "mlb_rub = MultiLabelBinarizer()\n",
        "mlb_feat = MultiLabelBinarizer()\n",
        "\n",
        "mlb_rub.fit([all_rub])\n",
        "mlb_feat.fit([all_feat])\n",
        "\n",
        "sparse_data_train = pd.concat(\n",
        "    [pd.DataFrame(mlb_rub.transform(sparse_data_train['rubrics_id'].apply(lambda x: x.split()))),\n",
        "     pd.DataFrame(mlb_feat.transform(sparse_data_train['features_id'].apply(lambda x: x.split()))),\n",
        "     sparse_data_train['rating'],\n",
        "     sparse_data_train['city'].apply(lambda x: x == 'msk')], axis=1)\n",
        "\n",
        "sparse_data_train.columns = range(0, 1023)\n",
        "\n",
        "sparse_data_test = pd.concat(\n",
        "    [pd.DataFrame(mlb_rub.transform(sparse_data_test['rubrics_id'].apply(lambda x: x.split()))),\n",
        "     pd.DataFrame(mlb_feat.transform(sparse_data_test['features_id'].apply(lambda x: x.split()))),\n",
        "     sparse_data_test['rating'],\n",
        "     sparse_data_test['city'].apply(lambda x: x == 'msk')], axis=1)\n",
        "\n",
        "sparse_data_test.columns = range(0, 1023)\n",
        "\n",
        "from scipy.sparse import csr_array\n",
        "\n",
        "sparse_data_train = csr_array(sparse_data_train)\n",
        "sparse_data_test = csr_array(sparse_data_test)"
      ]
    },
    {
      "cell_type": "code",
      "source": [
        "sparse_data_test"
      ],
      "metadata": {
        "colab": {
          "base_uri": "https://localhost:8080/",
          "height": 424
        },
        "id": "fDNg-C6IuE-E",
        "outputId": "e599c740-7c1d-4e12-a09a-d6552d1697eb"
      },
      "execution_count": null,
      "outputs": [
        {
          "output_type": "execute_result",
          "data": {
            "text/plain": [
              "       0     1     2     3     4     5     6     7     8     9     ...  1013  \\\n",
              "0         0     0     0     0     0     0     0     0     0     0  ...     0   \n",
              "1         0     0     0     0     0     0     0     0     0     0  ...     0   \n",
              "2         0     0     0     0     0     0     0     0     0     0  ...     0   \n",
              "3         0     0     0     0     0     0     0     0     0     0  ...     0   \n",
              "4         0     0     0     0     0     0     0     0     0     0  ...     0   \n",
              "...     ...   ...   ...   ...   ...   ...   ...   ...   ...   ...  ...   ...   \n",
              "10600     0     0     0     0     0     0     0     0     0     0  ...     0   \n",
              "10601     0     0     0     0     0     0     0     0     0     0  ...     0   \n",
              "10602     0     0     0     0     0     0     0     0     0     0  ...     0   \n",
              "10603     0     0     0     0     0     0     0     0     0     0  ...     0   \n",
              "10604     0     0     0     0     0     0     0     0     0     0  ...     0   \n",
              "\n",
              "       1014  1015  1016  1017  1018  1019  1020      1021   1022  \n",
              "0         0     0     0     0     0     0     0  4.748444  False  \n",
              "1         0     0     0     0     0     0     0  3.793758   True  \n",
              "2         0     0     0     0     0     0     0  3.606557   True  \n",
              "3         0     0     0     0     0     0     0  4.683841   True  \n",
              "4         0     0     0     0     0     0     0  4.165394  False  \n",
              "...     ...   ...   ...   ...   ...   ...   ...       ...    ...  \n",
              "10600     0     0     0     0     0     0     0  4.408108   True  \n",
              "10601     0     0     0     0     0     0     0  3.555556   True  \n",
              "10602     0     0     0     0     0     0     0  4.402516   True  \n",
              "10603     0     0     0     0     0     0     0       NaN   True  \n",
              "10604     0     0     0     0     0     0     0  4.250000  False  \n",
              "\n",
              "[10605 rows x 1023 columns]"
            ],
            "text/html": [
              "\n",
              "  <div id=\"df-2e01c580-5125-4eec-9cc5-e0b8485be842\" class=\"colab-df-container\">\n",
              "    <div>\n",
              "<style scoped>\n",
              "    .dataframe tbody tr th:only-of-type {\n",
              "        vertical-align: middle;\n",
              "    }\n",
              "\n",
              "    .dataframe tbody tr th {\n",
              "        vertical-align: top;\n",
              "    }\n",
              "\n",
              "    .dataframe thead th {\n",
              "        text-align: right;\n",
              "    }\n",
              "</style>\n",
              "<table border=\"1\" class=\"dataframe\">\n",
              "  <thead>\n",
              "    <tr style=\"text-align: right;\">\n",
              "      <th></th>\n",
              "      <th>0</th>\n",
              "      <th>1</th>\n",
              "      <th>2</th>\n",
              "      <th>3</th>\n",
              "      <th>4</th>\n",
              "      <th>5</th>\n",
              "      <th>6</th>\n",
              "      <th>7</th>\n",
              "      <th>8</th>\n",
              "      <th>9</th>\n",
              "      <th>...</th>\n",
              "      <th>1013</th>\n",
              "      <th>1014</th>\n",
              "      <th>1015</th>\n",
              "      <th>1016</th>\n",
              "      <th>1017</th>\n",
              "      <th>1018</th>\n",
              "      <th>1019</th>\n",
              "      <th>1020</th>\n",
              "      <th>1021</th>\n",
              "      <th>1022</th>\n",
              "    </tr>\n",
              "  </thead>\n",
              "  <tbody>\n",
              "    <tr>\n",
              "      <th>0</th>\n",
              "      <td>0</td>\n",
              "      <td>0</td>\n",
              "      <td>0</td>\n",
              "      <td>0</td>\n",
              "      <td>0</td>\n",
              "      <td>0</td>\n",
              "      <td>0</td>\n",
              "      <td>0</td>\n",
              "      <td>0</td>\n",
              "      <td>0</td>\n",
              "      <td>...</td>\n",
              "      <td>0</td>\n",
              "      <td>0</td>\n",
              "      <td>0</td>\n",
              "      <td>0</td>\n",
              "      <td>0</td>\n",
              "      <td>0</td>\n",
              "      <td>0</td>\n",
              "      <td>0</td>\n",
              "      <td>4.748444</td>\n",
              "      <td>False</td>\n",
              "    </tr>\n",
              "    <tr>\n",
              "      <th>1</th>\n",
              "      <td>0</td>\n",
              "      <td>0</td>\n",
              "      <td>0</td>\n",
              "      <td>0</td>\n",
              "      <td>0</td>\n",
              "      <td>0</td>\n",
              "      <td>0</td>\n",
              "      <td>0</td>\n",
              "      <td>0</td>\n",
              "      <td>0</td>\n",
              "      <td>...</td>\n",
              "      <td>0</td>\n",
              "      <td>0</td>\n",
              "      <td>0</td>\n",
              "      <td>0</td>\n",
              "      <td>0</td>\n",
              "      <td>0</td>\n",
              "      <td>0</td>\n",
              "      <td>0</td>\n",
              "      <td>3.793758</td>\n",
              "      <td>True</td>\n",
              "    </tr>\n",
              "    <tr>\n",
              "      <th>2</th>\n",
              "      <td>0</td>\n",
              "      <td>0</td>\n",
              "      <td>0</td>\n",
              "      <td>0</td>\n",
              "      <td>0</td>\n",
              "      <td>0</td>\n",
              "      <td>0</td>\n",
              "      <td>0</td>\n",
              "      <td>0</td>\n",
              "      <td>0</td>\n",
              "      <td>...</td>\n",
              "      <td>0</td>\n",
              "      <td>0</td>\n",
              "      <td>0</td>\n",
              "      <td>0</td>\n",
              "      <td>0</td>\n",
              "      <td>0</td>\n",
              "      <td>0</td>\n",
              "      <td>0</td>\n",
              "      <td>3.606557</td>\n",
              "      <td>True</td>\n",
              "    </tr>\n",
              "    <tr>\n",
              "      <th>3</th>\n",
              "      <td>0</td>\n",
              "      <td>0</td>\n",
              "      <td>0</td>\n",
              "      <td>0</td>\n",
              "      <td>0</td>\n",
              "      <td>0</td>\n",
              "      <td>0</td>\n",
              "      <td>0</td>\n",
              "      <td>0</td>\n",
              "      <td>0</td>\n",
              "      <td>...</td>\n",
              "      <td>0</td>\n",
              "      <td>0</td>\n",
              "      <td>0</td>\n",
              "      <td>0</td>\n",
              "      <td>0</td>\n",
              "      <td>0</td>\n",
              "      <td>0</td>\n",
              "      <td>0</td>\n",
              "      <td>4.683841</td>\n",
              "      <td>True</td>\n",
              "    </tr>\n",
              "    <tr>\n",
              "      <th>4</th>\n",
              "      <td>0</td>\n",
              "      <td>0</td>\n",
              "      <td>0</td>\n",
              "      <td>0</td>\n",
              "      <td>0</td>\n",
              "      <td>0</td>\n",
              "      <td>0</td>\n",
              "      <td>0</td>\n",
              "      <td>0</td>\n",
              "      <td>0</td>\n",
              "      <td>...</td>\n",
              "      <td>0</td>\n",
              "      <td>0</td>\n",
              "      <td>0</td>\n",
              "      <td>0</td>\n",
              "      <td>0</td>\n",
              "      <td>0</td>\n",
              "      <td>0</td>\n",
              "      <td>0</td>\n",
              "      <td>4.165394</td>\n",
              "      <td>False</td>\n",
              "    </tr>\n",
              "    <tr>\n",
              "      <th>...</th>\n",
              "      <td>...</td>\n",
              "      <td>...</td>\n",
              "      <td>...</td>\n",
              "      <td>...</td>\n",
              "      <td>...</td>\n",
              "      <td>...</td>\n",
              "      <td>...</td>\n",
              "      <td>...</td>\n",
              "      <td>...</td>\n",
              "      <td>...</td>\n",
              "      <td>...</td>\n",
              "      <td>...</td>\n",
              "      <td>...</td>\n",
              "      <td>...</td>\n",
              "      <td>...</td>\n",
              "      <td>...</td>\n",
              "      <td>...</td>\n",
              "      <td>...</td>\n",
              "      <td>...</td>\n",
              "      <td>...</td>\n",
              "      <td>...</td>\n",
              "    </tr>\n",
              "    <tr>\n",
              "      <th>10600</th>\n",
              "      <td>0</td>\n",
              "      <td>0</td>\n",
              "      <td>0</td>\n",
              "      <td>0</td>\n",
              "      <td>0</td>\n",
              "      <td>0</td>\n",
              "      <td>0</td>\n",
              "      <td>0</td>\n",
              "      <td>0</td>\n",
              "      <td>0</td>\n",
              "      <td>...</td>\n",
              "      <td>0</td>\n",
              "      <td>0</td>\n",
              "      <td>0</td>\n",
              "      <td>0</td>\n",
              "      <td>0</td>\n",
              "      <td>0</td>\n",
              "      <td>0</td>\n",
              "      <td>0</td>\n",
              "      <td>4.408108</td>\n",
              "      <td>True</td>\n",
              "    </tr>\n",
              "    <tr>\n",
              "      <th>10601</th>\n",
              "      <td>0</td>\n",
              "      <td>0</td>\n",
              "      <td>0</td>\n",
              "      <td>0</td>\n",
              "      <td>0</td>\n",
              "      <td>0</td>\n",
              "      <td>0</td>\n",
              "      <td>0</td>\n",
              "      <td>0</td>\n",
              "      <td>0</td>\n",
              "      <td>...</td>\n",
              "      <td>0</td>\n",
              "      <td>0</td>\n",
              "      <td>0</td>\n",
              "      <td>0</td>\n",
              "      <td>0</td>\n",
              "      <td>0</td>\n",
              "      <td>0</td>\n",
              "      <td>0</td>\n",
              "      <td>3.555556</td>\n",
              "      <td>True</td>\n",
              "    </tr>\n",
              "    <tr>\n",
              "      <th>10602</th>\n",
              "      <td>0</td>\n",
              "      <td>0</td>\n",
              "      <td>0</td>\n",
              "      <td>0</td>\n",
              "      <td>0</td>\n",
              "      <td>0</td>\n",
              "      <td>0</td>\n",
              "      <td>0</td>\n",
              "      <td>0</td>\n",
              "      <td>0</td>\n",
              "      <td>...</td>\n",
              "      <td>0</td>\n",
              "      <td>0</td>\n",
              "      <td>0</td>\n",
              "      <td>0</td>\n",
              "      <td>0</td>\n",
              "      <td>0</td>\n",
              "      <td>0</td>\n",
              "      <td>0</td>\n",
              "      <td>4.402516</td>\n",
              "      <td>True</td>\n",
              "    </tr>\n",
              "    <tr>\n",
              "      <th>10603</th>\n",
              "      <td>0</td>\n",
              "      <td>0</td>\n",
              "      <td>0</td>\n",
              "      <td>0</td>\n",
              "      <td>0</td>\n",
              "      <td>0</td>\n",
              "      <td>0</td>\n",
              "      <td>0</td>\n",
              "      <td>0</td>\n",
              "      <td>0</td>\n",
              "      <td>...</td>\n",
              "      <td>0</td>\n",
              "      <td>0</td>\n",
              "      <td>0</td>\n",
              "      <td>0</td>\n",
              "      <td>0</td>\n",
              "      <td>0</td>\n",
              "      <td>0</td>\n",
              "      <td>0</td>\n",
              "      <td>NaN</td>\n",
              "      <td>True</td>\n",
              "    </tr>\n",
              "    <tr>\n",
              "      <th>10604</th>\n",
              "      <td>0</td>\n",
              "      <td>0</td>\n",
              "      <td>0</td>\n",
              "      <td>0</td>\n",
              "      <td>0</td>\n",
              "      <td>0</td>\n",
              "      <td>0</td>\n",
              "      <td>0</td>\n",
              "      <td>0</td>\n",
              "      <td>0</td>\n",
              "      <td>...</td>\n",
              "      <td>0</td>\n",
              "      <td>0</td>\n",
              "      <td>0</td>\n",
              "      <td>0</td>\n",
              "      <td>0</td>\n",
              "      <td>0</td>\n",
              "      <td>0</td>\n",
              "      <td>0</td>\n",
              "      <td>4.250000</td>\n",
              "      <td>False</td>\n",
              "    </tr>\n",
              "  </tbody>\n",
              "</table>\n",
              "<p>10605 rows × 1023 columns</p>\n",
              "</div>\n",
              "    <div class=\"colab-df-buttons\">\n",
              "\n",
              "  <div class=\"colab-df-container\">\n",
              "    <button class=\"colab-df-convert\" onclick=\"convertToInteractive('df-2e01c580-5125-4eec-9cc5-e0b8485be842')\"\n",
              "            title=\"Convert this dataframe to an interactive table.\"\n",
              "            style=\"display:none;\">\n",
              "\n",
              "  <svg xmlns=\"http://www.w3.org/2000/svg\" height=\"24px\" viewBox=\"0 -960 960 960\">\n",
              "    <path d=\"M120-120v-720h720v720H120Zm60-500h600v-160H180v160Zm220 220h160v-160H400v160Zm0 220h160v-160H400v160ZM180-400h160v-160H180v160Zm440 0h160v-160H620v160ZM180-180h160v-160H180v160Zm440 0h160v-160H620v160Z\"/>\n",
              "  </svg>\n",
              "    </button>\n",
              "\n",
              "  <style>\n",
              "    .colab-df-container {\n",
              "      display:flex;\n",
              "      gap: 12px;\n",
              "    }\n",
              "\n",
              "    .colab-df-convert {\n",
              "      background-color: #E8F0FE;\n",
              "      border: none;\n",
              "      border-radius: 50%;\n",
              "      cursor: pointer;\n",
              "      display: none;\n",
              "      fill: #1967D2;\n",
              "      height: 32px;\n",
              "      padding: 0 0 0 0;\n",
              "      width: 32px;\n",
              "    }\n",
              "\n",
              "    .colab-df-convert:hover {\n",
              "      background-color: #E2EBFA;\n",
              "      box-shadow: 0px 1px 2px rgba(60, 64, 67, 0.3), 0px 1px 3px 1px rgba(60, 64, 67, 0.15);\n",
              "      fill: #174EA6;\n",
              "    }\n",
              "\n",
              "    .colab-df-buttons div {\n",
              "      margin-bottom: 4px;\n",
              "    }\n",
              "\n",
              "    [theme=dark] .colab-df-convert {\n",
              "      background-color: #3B4455;\n",
              "      fill: #D2E3FC;\n",
              "    }\n",
              "\n",
              "    [theme=dark] .colab-df-convert:hover {\n",
              "      background-color: #434B5C;\n",
              "      box-shadow: 0px 1px 3px 1px rgba(0, 0, 0, 0.15);\n",
              "      filter: drop-shadow(0px 1px 2px rgba(0, 0, 0, 0.3));\n",
              "      fill: #FFFFFF;\n",
              "    }\n",
              "  </style>\n",
              "\n",
              "    <script>\n",
              "      const buttonEl =\n",
              "        document.querySelector('#df-2e01c580-5125-4eec-9cc5-e0b8485be842 button.colab-df-convert');\n",
              "      buttonEl.style.display =\n",
              "        google.colab.kernel.accessAllowed ? 'block' : 'none';\n",
              "\n",
              "      async function convertToInteractive(key) {\n",
              "        const element = document.querySelector('#df-2e01c580-5125-4eec-9cc5-e0b8485be842');\n",
              "        const dataTable =\n",
              "          await google.colab.kernel.invokeFunction('convertToInteractive',\n",
              "                                                    [key], {});\n",
              "        if (!dataTable) return;\n",
              "\n",
              "        const docLinkHtml = 'Like what you see? Visit the ' +\n",
              "          '<a target=\"_blank\" href=https://colab.research.google.com/notebooks/data_table.ipynb>data table notebook</a>'\n",
              "          + ' to learn more about interactive tables.';\n",
              "        element.innerHTML = '';\n",
              "        dataTable['output_type'] = 'display_data';\n",
              "        await google.colab.output.renderOutput(dataTable, element);\n",
              "        const docLink = document.createElement('div');\n",
              "        docLink.innerHTML = docLinkHtml;\n",
              "        element.appendChild(docLink);\n",
              "      }\n",
              "    </script>\n",
              "  </div>\n",
              "\n",
              "\n",
              "<div id=\"df-96899a3e-180a-455e-8db1-3ea588bce7ca\">\n",
              "  <button class=\"colab-df-quickchart\" onclick=\"quickchart('df-96899a3e-180a-455e-8db1-3ea588bce7ca')\"\n",
              "            title=\"Suggest charts\"\n",
              "            style=\"display:none;\">\n",
              "\n",
              "<svg xmlns=\"http://www.w3.org/2000/svg\" height=\"24px\"viewBox=\"0 0 24 24\"\n",
              "     width=\"24px\">\n",
              "    <g>\n",
              "        <path d=\"M19 3H5c-1.1 0-2 .9-2 2v14c0 1.1.9 2 2 2h14c1.1 0 2-.9 2-2V5c0-1.1-.9-2-2-2zM9 17H7v-7h2v7zm4 0h-2V7h2v10zm4 0h-2v-4h2v4z\"/>\n",
              "    </g>\n",
              "</svg>\n",
              "  </button>\n",
              "\n",
              "<style>\n",
              "  .colab-df-quickchart {\n",
              "      --bg-color: #E8F0FE;\n",
              "      --fill-color: #1967D2;\n",
              "      --hover-bg-color: #E2EBFA;\n",
              "      --hover-fill-color: #174EA6;\n",
              "      --disabled-fill-color: #AAA;\n",
              "      --disabled-bg-color: #DDD;\n",
              "  }\n",
              "\n",
              "  [theme=dark] .colab-df-quickchart {\n",
              "      --bg-color: #3B4455;\n",
              "      --fill-color: #D2E3FC;\n",
              "      --hover-bg-color: #434B5C;\n",
              "      --hover-fill-color: #FFFFFF;\n",
              "      --disabled-bg-color: #3B4455;\n",
              "      --disabled-fill-color: #666;\n",
              "  }\n",
              "\n",
              "  .colab-df-quickchart {\n",
              "    background-color: var(--bg-color);\n",
              "    border: none;\n",
              "    border-radius: 50%;\n",
              "    cursor: pointer;\n",
              "    display: none;\n",
              "    fill: var(--fill-color);\n",
              "    height: 32px;\n",
              "    padding: 0;\n",
              "    width: 32px;\n",
              "  }\n",
              "\n",
              "  .colab-df-quickchart:hover {\n",
              "    background-color: var(--hover-bg-color);\n",
              "    box-shadow: 0 1px 2px rgba(60, 64, 67, 0.3), 0 1px 3px 1px rgba(60, 64, 67, 0.15);\n",
              "    fill: var(--button-hover-fill-color);\n",
              "  }\n",
              "\n",
              "  .colab-df-quickchart-complete:disabled,\n",
              "  .colab-df-quickchart-complete:disabled:hover {\n",
              "    background-color: var(--disabled-bg-color);\n",
              "    fill: var(--disabled-fill-color);\n",
              "    box-shadow: none;\n",
              "  }\n",
              "\n",
              "  .colab-df-spinner {\n",
              "    border: 2px solid var(--fill-color);\n",
              "    border-color: transparent;\n",
              "    border-bottom-color: var(--fill-color);\n",
              "    animation:\n",
              "      spin 1s steps(1) infinite;\n",
              "  }\n",
              "\n",
              "  @keyframes spin {\n",
              "    0% {\n",
              "      border-color: transparent;\n",
              "      border-bottom-color: var(--fill-color);\n",
              "      border-left-color: var(--fill-color);\n",
              "    }\n",
              "    20% {\n",
              "      border-color: transparent;\n",
              "      border-left-color: var(--fill-color);\n",
              "      border-top-color: var(--fill-color);\n",
              "    }\n",
              "    30% {\n",
              "      border-color: transparent;\n",
              "      border-left-color: var(--fill-color);\n",
              "      border-top-color: var(--fill-color);\n",
              "      border-right-color: var(--fill-color);\n",
              "    }\n",
              "    40% {\n",
              "      border-color: transparent;\n",
              "      border-right-color: var(--fill-color);\n",
              "      border-top-color: var(--fill-color);\n",
              "    }\n",
              "    60% {\n",
              "      border-color: transparent;\n",
              "      border-right-color: var(--fill-color);\n",
              "    }\n",
              "    80% {\n",
              "      border-color: transparent;\n",
              "      border-right-color: var(--fill-color);\n",
              "      border-bottom-color: var(--fill-color);\n",
              "    }\n",
              "    90% {\n",
              "      border-color: transparent;\n",
              "      border-bottom-color: var(--fill-color);\n",
              "    }\n",
              "  }\n",
              "</style>\n",
              "\n",
              "  <script>\n",
              "    async function quickchart(key) {\n",
              "      const quickchartButtonEl =\n",
              "        document.querySelector('#' + key + ' button');\n",
              "      quickchartButtonEl.disabled = true;  // To prevent multiple clicks.\n",
              "      quickchartButtonEl.classList.add('colab-df-spinner');\n",
              "      try {\n",
              "        const charts = await google.colab.kernel.invokeFunction(\n",
              "            'suggestCharts', [key], {});\n",
              "      } catch (error) {\n",
              "        console.error('Error during call to suggestCharts:', error);\n",
              "      }\n",
              "      quickchartButtonEl.classList.remove('colab-df-spinner');\n",
              "      quickchartButtonEl.classList.add('colab-df-quickchart-complete');\n",
              "    }\n",
              "    (() => {\n",
              "      let quickchartButtonEl =\n",
              "        document.querySelector('#df-96899a3e-180a-455e-8db1-3ea588bce7ca button');\n",
              "      quickchartButtonEl.style.display =\n",
              "        google.colab.kernel.accessAllowed ? 'block' : 'none';\n",
              "    })();\n",
              "  </script>\n",
              "</div>\n",
              "    </div>\n",
              "  </div>\n"
            ],
            "application/vnd.google.colaboratory.intrinsic+json": {
              "type": "dataframe",
              "variable_name": "sparse_data_test"
            }
          },
          "metadata": {},
          "execution_count": 92
        }
      ]
    },
    {
      "cell_type": "markdown",
      "metadata": {
        "id": "lFfj-1E4GH7Q"
      },
      "source": [
        "Данные готовы, и теперь можно запустить катбуст"
      ]
    },
    {
      "cell_type": "code",
      "execution_count": null,
      "metadata": {
        "id": "m2lP5NouGH7Q"
      },
      "outputs": [],
      "source": [
        "#!pip3 install catboost\n",
        "from catboost import CatBoostClassifier"
      ]
    },
    {
      "cell_type": "code",
      "execution_count": null,
      "metadata": {
        "id": "jpW6uR0oGH7Q",
        "colab": {
          "base_uri": "https://localhost:8080/"
        },
        "outputId": "a25d8cca-ea58-4c0d-ef70-fe0c7b76138a"
      },
      "outputs": [
        {
          "output_type": "stream",
          "name": "stdout",
          "text": [
            "Learning rate set to 0.092536\n",
            "0:\tlearn: 1.4659526\ttotal: 60.5ms\tremaining: 1m\n",
            "1:\tlearn: 1.3657624\ttotal: 69.1ms\tremaining: 34.5s\n",
            "2:\tlearn: 1.2902761\ttotal: 77ms\tremaining: 25.6s\n",
            "3:\tlearn: 1.2314090\ttotal: 84.6ms\tremaining: 21.1s\n",
            "4:\tlearn: 1.1835649\ttotal: 96ms\tremaining: 19.1s\n",
            "5:\tlearn: 1.1450229\ttotal: 104ms\tremaining: 17.2s\n",
            "6:\tlearn: 1.1129225\ttotal: 112ms\tremaining: 15.9s\n",
            "7:\tlearn: 1.0863159\ttotal: 120ms\tremaining: 14.9s\n",
            "8:\tlearn: 1.0637280\ttotal: 129ms\tremaining: 14.2s\n",
            "9:\tlearn: 1.0443216\ttotal: 137ms\tremaining: 13.5s\n",
            "10:\tlearn: 1.0280556\ttotal: 144ms\tremaining: 13s\n",
            "11:\tlearn: 1.0135640\ttotal: 155ms\tremaining: 12.8s\n",
            "12:\tlearn: 1.0014207\ttotal: 165ms\tremaining: 12.5s\n",
            "13:\tlearn: 0.9899837\ttotal: 175ms\tremaining: 12.4s\n",
            "14:\tlearn: 0.9803818\ttotal: 186ms\tremaining: 12.2s\n",
            "15:\tlearn: 0.9724261\ttotal: 198ms\tremaining: 12.2s\n",
            "16:\tlearn: 0.9656624\ttotal: 206ms\tremaining: 11.9s\n",
            "17:\tlearn: 0.9597614\ttotal: 215ms\tremaining: 11.8s\n",
            "18:\tlearn: 0.9549466\ttotal: 223ms\tremaining: 11.5s\n",
            "19:\tlearn: 0.9503637\ttotal: 234ms\tremaining: 11.5s\n",
            "20:\tlearn: 0.9461430\ttotal: 243ms\tremaining: 11.3s\n",
            "21:\tlearn: 0.9427554\ttotal: 252ms\tremaining: 11.2s\n",
            "22:\tlearn: 0.9400894\ttotal: 261ms\tremaining: 11.1s\n",
            "23:\tlearn: 0.9374676\ttotal: 271ms\tremaining: 11s\n",
            "24:\tlearn: 0.9354918\ttotal: 279ms\tremaining: 10.9s\n",
            "25:\tlearn: 0.9331713\ttotal: 289ms\tremaining: 10.8s\n",
            "26:\tlearn: 0.9317109\ttotal: 299ms\tremaining: 10.8s\n",
            "27:\tlearn: 0.9297403\ttotal: 311ms\tremaining: 10.8s\n",
            "28:\tlearn: 0.9282480\ttotal: 322ms\tremaining: 10.8s\n",
            "29:\tlearn: 0.9268250\ttotal: 333ms\tremaining: 10.8s\n",
            "30:\tlearn: 0.9254453\ttotal: 347ms\tremaining: 10.8s\n",
            "31:\tlearn: 0.9246159\ttotal: 355ms\tremaining: 10.7s\n",
            "32:\tlearn: 0.9236896\ttotal: 365ms\tremaining: 10.7s\n",
            "33:\tlearn: 0.9231878\ttotal: 373ms\tremaining: 10.6s\n",
            "34:\tlearn: 0.9223368\ttotal: 383ms\tremaining: 10.6s\n",
            "35:\tlearn: 0.9219261\ttotal: 391ms\tremaining: 10.5s\n",
            "36:\tlearn: 0.9215799\ttotal: 402ms\tremaining: 10.5s\n",
            "37:\tlearn: 0.9209618\ttotal: 413ms\tremaining: 10.4s\n",
            "38:\tlearn: 0.9207375\ttotal: 420ms\tremaining: 10.4s\n",
            "39:\tlearn: 0.9203305\ttotal: 429ms\tremaining: 10.3s\n",
            "40:\tlearn: 0.9201695\ttotal: 437ms\tremaining: 10.2s\n",
            "41:\tlearn: 0.9198159\ttotal: 446ms\tremaining: 10.2s\n",
            "42:\tlearn: 0.9196262\ttotal: 453ms\tremaining: 10.1s\n",
            "43:\tlearn: 0.9193797\ttotal: 462ms\tremaining: 10s\n",
            "44:\tlearn: 0.9190947\ttotal: 471ms\tremaining: 9.99s\n",
            "45:\tlearn: 0.9187896\ttotal: 481ms\tremaining: 9.98s\n",
            "46:\tlearn: 0.9185425\ttotal: 492ms\tremaining: 9.97s\n",
            "47:\tlearn: 0.9184167\ttotal: 501ms\tremaining: 9.93s\n",
            "48:\tlearn: 0.9183752\ttotal: 508ms\tremaining: 9.86s\n",
            "49:\tlearn: 0.9182298\ttotal: 519ms\tremaining: 9.86s\n",
            "50:\tlearn: 0.9181021\ttotal: 528ms\tremaining: 9.82s\n",
            "51:\tlearn: 0.9179638\ttotal: 537ms\tremaining: 9.79s\n",
            "52:\tlearn: 0.9179431\ttotal: 545ms\tremaining: 9.73s\n",
            "53:\tlearn: 0.9177773\ttotal: 555ms\tremaining: 9.72s\n",
            "54:\tlearn: 0.9175617\ttotal: 565ms\tremaining: 9.7s\n",
            "55:\tlearn: 0.9175061\ttotal: 574ms\tremaining: 9.68s\n",
            "56:\tlearn: 0.9173387\ttotal: 584ms\tremaining: 9.65s\n",
            "57:\tlearn: 0.9173301\ttotal: 591ms\tremaining: 9.6s\n",
            "58:\tlearn: 0.9172627\ttotal: 607ms\tremaining: 9.68s\n",
            "59:\tlearn: 0.9171603\ttotal: 631ms\tremaining: 9.89s\n",
            "60:\tlearn: 0.9170289\ttotal: 645ms\tremaining: 9.94s\n",
            "61:\tlearn: 0.9170016\ttotal: 657ms\tremaining: 9.94s\n",
            "62:\tlearn: 0.9168750\ttotal: 668ms\tremaining: 9.94s\n",
            "63:\tlearn: 0.9168497\ttotal: 676ms\tremaining: 9.89s\n",
            "64:\tlearn: 0.9167164\ttotal: 687ms\tremaining: 9.88s\n",
            "65:\tlearn: 0.9167143\ttotal: 694ms\tremaining: 9.82s\n",
            "66:\tlearn: 0.9166825\ttotal: 703ms\tremaining: 9.79s\n",
            "67:\tlearn: 0.9165017\ttotal: 714ms\tremaining: 9.78s\n",
            "68:\tlearn: 0.9164310\ttotal: 725ms\tremaining: 9.78s\n",
            "69:\tlearn: 0.9163117\ttotal: 737ms\tremaining: 9.8s\n",
            "70:\tlearn: 0.9162281\ttotal: 747ms\tremaining: 9.78s\n",
            "71:\tlearn: 0.9162233\ttotal: 755ms\tremaining: 9.74s\n",
            "72:\tlearn: 0.9162020\ttotal: 765ms\tremaining: 9.71s\n",
            "73:\tlearn: 0.9162014\ttotal: 773ms\tremaining: 9.67s\n",
            "74:\tlearn: 0.9161303\ttotal: 782ms\tremaining: 9.65s\n",
            "75:\tlearn: 0.9160729\ttotal: 794ms\tremaining: 9.65s\n",
            "76:\tlearn: 0.9160244\ttotal: 806ms\tremaining: 9.66s\n",
            "77:\tlearn: 0.9160241\ttotal: 815ms\tremaining: 9.63s\n",
            "78:\tlearn: 0.9160239\ttotal: 823ms\tremaining: 9.59s\n",
            "79:\tlearn: 0.9159471\ttotal: 833ms\tremaining: 9.58s\n",
            "80:\tlearn: 0.9158766\ttotal: 844ms\tremaining: 9.58s\n",
            "81:\tlearn: 0.9158705\ttotal: 853ms\tremaining: 9.55s\n",
            "82:\tlearn: 0.9158692\ttotal: 861ms\tremaining: 9.51s\n",
            "83:\tlearn: 0.9158125\ttotal: 872ms\tremaining: 9.51s\n",
            "84:\tlearn: 0.9158084\ttotal: 880ms\tremaining: 9.48s\n",
            "85:\tlearn: 0.9157256\ttotal: 896ms\tremaining: 9.52s\n",
            "86:\tlearn: 0.9156555\ttotal: 908ms\tremaining: 9.53s\n",
            "87:\tlearn: 0.9156421\ttotal: 917ms\tremaining: 9.51s\n",
            "88:\tlearn: 0.9155595\ttotal: 928ms\tremaining: 9.5s\n",
            "89:\tlearn: 0.9155594\ttotal: 936ms\tremaining: 9.46s\n",
            "90:\tlearn: 0.9155443\ttotal: 946ms\tremaining: 9.45s\n",
            "91:\tlearn: 0.9155183\ttotal: 956ms\tremaining: 9.43s\n",
            "92:\tlearn: 0.9155171\ttotal: 965ms\tremaining: 9.41s\n",
            "93:\tlearn: 0.9155170\ttotal: 973ms\tremaining: 9.38s\n",
            "94:\tlearn: 0.9154162\ttotal: 984ms\tremaining: 9.37s\n",
            "95:\tlearn: 0.9153633\ttotal: 995ms\tremaining: 9.37s\n",
            "96:\tlearn: 0.9153119\ttotal: 1.01s\tremaining: 9.38s\n",
            "97:\tlearn: 0.9152453\ttotal: 1.02s\tremaining: 9.37s\n",
            "98:\tlearn: 0.9152453\ttotal: 1.03s\tremaining: 9.34s\n",
            "99:\tlearn: 0.9151708\ttotal: 1.04s\tremaining: 9.33s\n",
            "100:\tlearn: 0.9151143\ttotal: 1.05s\tremaining: 9.33s\n",
            "101:\tlearn: 0.9150161\ttotal: 1.06s\tremaining: 9.33s\n",
            "102:\tlearn: 0.9149730\ttotal: 1.07s\tremaining: 9.32s\n",
            "103:\tlearn: 0.9149271\ttotal: 1.08s\tremaining: 9.3s\n",
            "104:\tlearn: 0.9149059\ttotal: 1.09s\tremaining: 9.28s\n",
            "105:\tlearn: 0.9148761\ttotal: 1.1s\tremaining: 9.28s\n",
            "106:\tlearn: 0.9148562\ttotal: 1.11s\tremaining: 9.26s\n",
            "107:\tlearn: 0.9148002\ttotal: 1.12s\tremaining: 9.24s\n",
            "108:\tlearn: 0.9147466\ttotal: 1.13s\tremaining: 9.24s\n",
            "109:\tlearn: 0.9146576\ttotal: 1.14s\tremaining: 9.23s\n",
            "110:\tlearn: 0.9146035\ttotal: 1.15s\tremaining: 9.23s\n",
            "111:\tlearn: 0.9145749\ttotal: 1.16s\tremaining: 9.21s\n",
            "112:\tlearn: 0.9145437\ttotal: 1.17s\tremaining: 9.2s\n",
            "113:\tlearn: 0.9144127\ttotal: 1.18s\tremaining: 9.21s\n",
            "114:\tlearn: 0.9143220\ttotal: 1.2s\tremaining: 9.21s\n",
            "115:\tlearn: 0.9142470\ttotal: 1.22s\tremaining: 9.29s\n",
            "116:\tlearn: 0.9141198\ttotal: 1.24s\tremaining: 9.38s\n",
            "117:\tlearn: 0.9140772\ttotal: 1.26s\tremaining: 9.39s\n",
            "118:\tlearn: 0.9140326\ttotal: 1.28s\tremaining: 9.47s\n",
            "119:\tlearn: 0.9139506\ttotal: 1.29s\tremaining: 9.48s\n",
            "120:\tlearn: 0.9138779\ttotal: 1.31s\tremaining: 9.55s\n",
            "121:\tlearn: 0.9137461\ttotal: 1.33s\tremaining: 9.56s\n",
            "122:\tlearn: 0.9135563\ttotal: 1.34s\tremaining: 9.58s\n",
            "123:\tlearn: 0.9134656\ttotal: 1.37s\tremaining: 9.67s\n",
            "124:\tlearn: 0.9133883\ttotal: 1.39s\tremaining: 9.75s\n",
            "125:\tlearn: 0.9132724\ttotal: 1.43s\tremaining: 9.89s\n",
            "126:\tlearn: 0.9132220\ttotal: 1.44s\tremaining: 9.91s\n",
            "127:\tlearn: 0.9130513\ttotal: 1.47s\tremaining: 10s\n",
            "128:\tlearn: 0.9129821\ttotal: 1.5s\tremaining: 10.1s\n",
            "129:\tlearn: 0.9129030\ttotal: 1.53s\tremaining: 10.2s\n",
            "130:\tlearn: 0.9128101\ttotal: 1.55s\tremaining: 10.3s\n",
            "131:\tlearn: 0.9127219\ttotal: 1.58s\tremaining: 10.4s\n",
            "132:\tlearn: 0.9126795\ttotal: 1.61s\tremaining: 10.5s\n",
            "133:\tlearn: 0.9125769\ttotal: 1.65s\tremaining: 10.7s\n",
            "134:\tlearn: 0.9125033\ttotal: 1.66s\tremaining: 10.7s\n",
            "135:\tlearn: 0.9124382\ttotal: 1.68s\tremaining: 10.7s\n",
            "136:\tlearn: 0.9123049\ttotal: 1.69s\tremaining: 10.7s\n",
            "137:\tlearn: 0.9121905\ttotal: 1.71s\tremaining: 10.7s\n",
            "138:\tlearn: 0.9121176\ttotal: 1.74s\tremaining: 10.8s\n",
            "139:\tlearn: 0.9120252\ttotal: 1.77s\tremaining: 10.9s\n",
            "140:\tlearn: 0.9119461\ttotal: 1.79s\tremaining: 10.9s\n",
            "141:\tlearn: 0.9118505\ttotal: 1.82s\tremaining: 11s\n",
            "142:\tlearn: 0.9117448\ttotal: 1.84s\tremaining: 11s\n",
            "143:\tlearn: 0.9116598\ttotal: 1.86s\tremaining: 11s\n",
            "144:\tlearn: 0.9116070\ttotal: 1.87s\tremaining: 11s\n",
            "145:\tlearn: 0.9115322\ttotal: 1.89s\tremaining: 11s\n",
            "146:\tlearn: 0.9114529\ttotal: 1.9s\tremaining: 11s\n",
            "147:\tlearn: 0.9113910\ttotal: 1.92s\tremaining: 11s\n",
            "148:\tlearn: 0.9113126\ttotal: 1.93s\tremaining: 11s\n",
            "149:\tlearn: 0.9112774\ttotal: 1.95s\tremaining: 11s\n",
            "150:\tlearn: 0.9111724\ttotal: 1.96s\tremaining: 11s\n",
            "151:\tlearn: 0.9110865\ttotal: 1.98s\tremaining: 11s\n",
            "152:\tlearn: 0.9110198\ttotal: 2s\tremaining: 11.1s\n",
            "153:\tlearn: 0.9109443\ttotal: 2.02s\tremaining: 11.1s\n",
            "154:\tlearn: 0.9108865\ttotal: 2.04s\tremaining: 11.2s\n",
            "155:\tlearn: 0.9107837\ttotal: 2.08s\tremaining: 11.2s\n",
            "156:\tlearn: 0.9107066\ttotal: 2.09s\tremaining: 11.2s\n",
            "157:\tlearn: 0.9106315\ttotal: 2.12s\tremaining: 11.3s\n",
            "158:\tlearn: 0.9105423\ttotal: 2.15s\tremaining: 11.4s\n",
            "159:\tlearn: 0.9104547\ttotal: 2.18s\tremaining: 11.4s\n",
            "160:\tlearn: 0.9103813\ttotal: 2.2s\tremaining: 11.5s\n",
            "161:\tlearn: 0.9103092\ttotal: 2.23s\tremaining: 11.5s\n",
            "162:\tlearn: 0.9102144\ttotal: 2.26s\tremaining: 11.6s\n",
            "163:\tlearn: 0.9101354\ttotal: 2.28s\tremaining: 11.6s\n",
            "164:\tlearn: 0.9100798\ttotal: 2.3s\tremaining: 11.6s\n",
            "165:\tlearn: 0.9100136\ttotal: 2.32s\tremaining: 11.7s\n",
            "166:\tlearn: 0.9099274\ttotal: 2.34s\tremaining: 11.7s\n",
            "167:\tlearn: 0.9098622\ttotal: 2.36s\tremaining: 11.7s\n",
            "168:\tlearn: 0.9098053\ttotal: 2.37s\tremaining: 11.7s\n",
            "169:\tlearn: 0.9097409\ttotal: 2.39s\tremaining: 11.7s\n",
            "170:\tlearn: 0.9096381\ttotal: 2.42s\tremaining: 11.7s\n",
            "171:\tlearn: 0.9095714\ttotal: 2.44s\tremaining: 11.8s\n",
            "172:\tlearn: 0.9094970\ttotal: 2.47s\tremaining: 11.8s\n",
            "173:\tlearn: 0.9094168\ttotal: 2.5s\tremaining: 11.9s\n",
            "174:\tlearn: 0.9093728\ttotal: 2.53s\tremaining: 11.9s\n",
            "175:\tlearn: 0.9093107\ttotal: 2.55s\tremaining: 11.9s\n",
            "176:\tlearn: 0.9092338\ttotal: 2.58s\tremaining: 12s\n",
            "177:\tlearn: 0.9091623\ttotal: 2.61s\tremaining: 12s\n",
            "178:\tlearn: 0.9090825\ttotal: 2.64s\tremaining: 12.1s\n",
            "179:\tlearn: 0.9090142\ttotal: 2.67s\tremaining: 12.2s\n",
            "180:\tlearn: 0.9089543\ttotal: 2.7s\tremaining: 12.2s\n",
            "181:\tlearn: 0.9088995\ttotal: 2.73s\tremaining: 12.2s\n",
            "182:\tlearn: 0.9088470\ttotal: 2.75s\tremaining: 12.3s\n",
            "183:\tlearn: 0.9087821\ttotal: 2.78s\tremaining: 12.3s\n",
            "184:\tlearn: 0.9086992\ttotal: 2.8s\tremaining: 12.3s\n",
            "185:\tlearn: 0.9086394\ttotal: 2.83s\tremaining: 12.4s\n",
            "186:\tlearn: 0.9085553\ttotal: 2.85s\tremaining: 12.4s\n",
            "187:\tlearn: 0.9084907\ttotal: 2.88s\tremaining: 12.4s\n",
            "188:\tlearn: 0.9084402\ttotal: 2.9s\tremaining: 12.4s\n",
            "189:\tlearn: 0.9083784\ttotal: 2.91s\tremaining: 12.4s\n",
            "190:\tlearn: 0.9083085\ttotal: 2.94s\tremaining: 12.4s\n",
            "191:\tlearn: 0.9082048\ttotal: 2.96s\tremaining: 12.5s\n",
            "192:\tlearn: 0.9081337\ttotal: 2.99s\tremaining: 12.5s\n",
            "193:\tlearn: 0.9080887\ttotal: 3.01s\tremaining: 12.5s\n",
            "194:\tlearn: 0.9080050\ttotal: 3.04s\tremaining: 12.6s\n",
            "195:\tlearn: 0.9079713\ttotal: 3.07s\tremaining: 12.6s\n",
            "196:\tlearn: 0.9079164\ttotal: 3.09s\tremaining: 12.6s\n",
            "197:\tlearn: 0.9078551\ttotal: 3.12s\tremaining: 12.7s\n",
            "198:\tlearn: 0.9077747\ttotal: 3.14s\tremaining: 12.6s\n",
            "199:\tlearn: 0.9077261\ttotal: 3.17s\tremaining: 12.7s\n",
            "200:\tlearn: 0.9076319\ttotal: 3.19s\tremaining: 12.7s\n",
            "201:\tlearn: 0.9075790\ttotal: 3.2s\tremaining: 12.7s\n",
            "202:\tlearn: 0.9075092\ttotal: 3.22s\tremaining: 12.6s\n",
            "203:\tlearn: 0.9074529\ttotal: 3.24s\tremaining: 12.6s\n",
            "204:\tlearn: 0.9074124\ttotal: 3.26s\tremaining: 12.6s\n",
            "205:\tlearn: 0.9073635\ttotal: 3.28s\tremaining: 12.6s\n",
            "206:\tlearn: 0.9072951\ttotal: 3.3s\tremaining: 12.6s\n",
            "207:\tlearn: 0.9072346\ttotal: 3.32s\tremaining: 12.6s\n",
            "208:\tlearn: 0.9071809\ttotal: 3.34s\tremaining: 12.6s\n",
            "209:\tlearn: 0.9071020\ttotal: 3.36s\tremaining: 12.6s\n",
            "210:\tlearn: 0.9070491\ttotal: 3.39s\tremaining: 12.7s\n",
            "211:\tlearn: 0.9070103\ttotal: 3.42s\tremaining: 12.7s\n",
            "212:\tlearn: 0.9069557\ttotal: 3.44s\tremaining: 12.7s\n",
            "213:\tlearn: 0.9069024\ttotal: 3.46s\tremaining: 12.7s\n",
            "214:\tlearn: 0.9068524\ttotal: 3.48s\tremaining: 12.7s\n",
            "215:\tlearn: 0.9067712\ttotal: 3.51s\tremaining: 12.7s\n",
            "216:\tlearn: 0.9067364\ttotal: 3.53s\tremaining: 12.7s\n",
            "217:\tlearn: 0.9066802\ttotal: 3.56s\tremaining: 12.8s\n",
            "218:\tlearn: 0.9066295\ttotal: 3.59s\tremaining: 12.8s\n",
            "219:\tlearn: 0.9065801\ttotal: 3.61s\tremaining: 12.8s\n",
            "220:\tlearn: 0.9064985\ttotal: 3.64s\tremaining: 12.8s\n",
            "221:\tlearn: 0.9064397\ttotal: 3.68s\tremaining: 12.9s\n",
            "222:\tlearn: 0.9064137\ttotal: 3.71s\tremaining: 12.9s\n",
            "223:\tlearn: 0.9063606\ttotal: 3.74s\tremaining: 12.9s\n",
            "224:\tlearn: 0.9062976\ttotal: 3.75s\tremaining: 12.9s\n",
            "225:\tlearn: 0.9062566\ttotal: 3.77s\tremaining: 12.9s\n",
            "226:\tlearn: 0.9061747\ttotal: 3.78s\tremaining: 12.9s\n",
            "227:\tlearn: 0.9061090\ttotal: 3.8s\tremaining: 12.9s\n",
            "228:\tlearn: 0.9060543\ttotal: 3.83s\tremaining: 12.9s\n",
            "229:\tlearn: 0.9059920\ttotal: 3.84s\tremaining: 12.9s\n",
            "230:\tlearn: 0.9059323\ttotal: 3.85s\tremaining: 12.8s\n",
            "231:\tlearn: 0.9058649\ttotal: 3.88s\tremaining: 12.8s\n",
            "232:\tlearn: 0.9058143\ttotal: 3.91s\tremaining: 12.9s\n",
            "233:\tlearn: 0.9057741\ttotal: 3.93s\tremaining: 12.9s\n",
            "234:\tlearn: 0.9057078\ttotal: 3.97s\tremaining: 12.9s\n",
            "235:\tlearn: 0.9056712\ttotal: 4s\tremaining: 12.9s\n",
            "236:\tlearn: 0.9056107\ttotal: 4.02s\tremaining: 12.9s\n",
            "237:\tlearn: 0.9055646\ttotal: 4.04s\tremaining: 12.9s\n",
            "238:\tlearn: 0.9055159\ttotal: 4.05s\tremaining: 12.9s\n",
            "239:\tlearn: 0.9054672\ttotal: 4.08s\tremaining: 12.9s\n",
            "240:\tlearn: 0.9054227\ttotal: 4.1s\tremaining: 12.9s\n",
            "241:\tlearn: 0.9053701\ttotal: 4.12s\tremaining: 12.9s\n",
            "242:\tlearn: 0.9053200\ttotal: 4.14s\tremaining: 12.9s\n",
            "243:\tlearn: 0.9052838\ttotal: 4.16s\tremaining: 12.9s\n",
            "244:\tlearn: 0.9052485\ttotal: 4.18s\tremaining: 12.9s\n",
            "245:\tlearn: 0.9052247\ttotal: 4.2s\tremaining: 12.9s\n",
            "246:\tlearn: 0.9051614\ttotal: 4.22s\tremaining: 12.9s\n",
            "247:\tlearn: 0.9051173\ttotal: 4.24s\tremaining: 12.9s\n",
            "248:\tlearn: 0.9050407\ttotal: 4.27s\tremaining: 12.9s\n",
            "249:\tlearn: 0.9050027\ttotal: 4.29s\tremaining: 12.9s\n",
            "250:\tlearn: 0.9049620\ttotal: 4.32s\tremaining: 12.9s\n",
            "251:\tlearn: 0.9049206\ttotal: 4.35s\tremaining: 12.9s\n",
            "252:\tlearn: 0.9048836\ttotal: 4.37s\tremaining: 12.9s\n",
            "253:\tlearn: 0.9048296\ttotal: 4.41s\tremaining: 12.9s\n",
            "254:\tlearn: 0.9047393\ttotal: 4.43s\tremaining: 12.9s\n",
            "255:\tlearn: 0.9047053\ttotal: 4.46s\tremaining: 13s\n",
            "256:\tlearn: 0.9046696\ttotal: 4.49s\tremaining: 13s\n",
            "257:\tlearn: 0.9046239\ttotal: 4.5s\tremaining: 13s\n",
            "258:\tlearn: 0.9045849\ttotal: 4.52s\tremaining: 12.9s\n",
            "259:\tlearn: 0.9045284\ttotal: 4.53s\tremaining: 12.9s\n",
            "260:\tlearn: 0.9044611\ttotal: 4.55s\tremaining: 12.9s\n",
            "261:\tlearn: 0.9044138\ttotal: 4.57s\tremaining: 12.9s\n",
            "262:\tlearn: 0.9043601\ttotal: 4.58s\tremaining: 12.8s\n",
            "263:\tlearn: 0.9042919\ttotal: 4.59s\tremaining: 12.8s\n",
            "264:\tlearn: 0.9042412\ttotal: 4.6s\tremaining: 12.8s\n",
            "265:\tlearn: 0.9041967\ttotal: 4.61s\tremaining: 12.7s\n",
            "266:\tlearn: 0.9041723\ttotal: 4.63s\tremaining: 12.7s\n",
            "267:\tlearn: 0.9041350\ttotal: 4.64s\tremaining: 12.7s\n",
            "268:\tlearn: 0.9040919\ttotal: 4.65s\tremaining: 12.6s\n",
            "269:\tlearn: 0.9040513\ttotal: 4.66s\tremaining: 12.6s\n",
            "270:\tlearn: 0.9040211\ttotal: 4.67s\tremaining: 12.6s\n",
            "271:\tlearn: 0.9039811\ttotal: 4.68s\tremaining: 12.5s\n",
            "272:\tlearn: 0.9039409\ttotal: 4.7s\tremaining: 12.5s\n",
            "273:\tlearn: 0.9039072\ttotal: 4.72s\tremaining: 12.5s\n",
            "274:\tlearn: 0.9038497\ttotal: 4.73s\tremaining: 12.5s\n",
            "275:\tlearn: 0.9038083\ttotal: 4.75s\tremaining: 12.4s\n",
            "276:\tlearn: 0.9037534\ttotal: 4.76s\tremaining: 12.4s\n",
            "277:\tlearn: 0.9037013\ttotal: 4.77s\tremaining: 12.4s\n",
            "278:\tlearn: 0.9036556\ttotal: 4.78s\tremaining: 12.4s\n",
            "279:\tlearn: 0.9036312\ttotal: 4.79s\tremaining: 12.3s\n",
            "280:\tlearn: 0.9035961\ttotal: 4.8s\tremaining: 12.3s\n",
            "281:\tlearn: 0.9035354\ttotal: 4.82s\tremaining: 12.3s\n",
            "282:\tlearn: 0.9034702\ttotal: 4.83s\tremaining: 12.2s\n",
            "283:\tlearn: 0.9034276\ttotal: 4.84s\tremaining: 12.2s\n",
            "284:\tlearn: 0.9034081\ttotal: 4.85s\tremaining: 12.2s\n",
            "285:\tlearn: 0.9033803\ttotal: 4.86s\tremaining: 12.1s\n",
            "286:\tlearn: 0.9033309\ttotal: 4.88s\tremaining: 12.1s\n",
            "287:\tlearn: 0.9032789\ttotal: 4.89s\tremaining: 12.1s\n",
            "288:\tlearn: 0.9032446\ttotal: 4.9s\tremaining: 12.1s\n",
            "289:\tlearn: 0.9031980\ttotal: 4.91s\tremaining: 12s\n",
            "290:\tlearn: 0.9031099\ttotal: 4.92s\tremaining: 12s\n",
            "291:\tlearn: 0.9030607\ttotal: 4.93s\tremaining: 12s\n",
            "292:\tlearn: 0.9030154\ttotal: 4.95s\tremaining: 11.9s\n",
            "293:\tlearn: 0.9029851\ttotal: 4.96s\tremaining: 11.9s\n",
            "294:\tlearn: 0.9029424\ttotal: 4.97s\tremaining: 11.9s\n",
            "295:\tlearn: 0.9029021\ttotal: 4.98s\tremaining: 11.8s\n",
            "296:\tlearn: 0.9028554\ttotal: 4.99s\tremaining: 11.8s\n",
            "297:\tlearn: 0.9028370\ttotal: 5s\tremaining: 11.8s\n",
            "298:\tlearn: 0.9027740\ttotal: 5.01s\tremaining: 11.8s\n",
            "299:\tlearn: 0.9027181\ttotal: 5.03s\tremaining: 11.7s\n",
            "300:\tlearn: 0.9026760\ttotal: 5.04s\tremaining: 11.7s\n",
            "301:\tlearn: 0.9025935\ttotal: 5.05s\tremaining: 11.7s\n",
            "302:\tlearn: 0.9025557\ttotal: 5.06s\tremaining: 11.6s\n",
            "303:\tlearn: 0.9025194\ttotal: 5.07s\tremaining: 11.6s\n",
            "304:\tlearn: 0.9024704\ttotal: 5.08s\tremaining: 11.6s\n",
            "305:\tlearn: 0.9024379\ttotal: 5.09s\tremaining: 11.5s\n",
            "306:\tlearn: 0.9023828\ttotal: 5.1s\tremaining: 11.5s\n",
            "307:\tlearn: 0.9023486\ttotal: 5.11s\tremaining: 11.5s\n",
            "308:\tlearn: 0.9023068\ttotal: 5.13s\tremaining: 11.5s\n",
            "309:\tlearn: 0.9022521\ttotal: 5.14s\tremaining: 11.4s\n",
            "310:\tlearn: 0.9022271\ttotal: 5.15s\tremaining: 11.4s\n",
            "311:\tlearn: 0.9021851\ttotal: 5.16s\tremaining: 11.4s\n",
            "312:\tlearn: 0.9021712\ttotal: 5.17s\tremaining: 11.3s\n",
            "313:\tlearn: 0.9021287\ttotal: 5.18s\tremaining: 11.3s\n",
            "314:\tlearn: 0.9020997\ttotal: 5.19s\tremaining: 11.3s\n",
            "315:\tlearn: 0.9020665\ttotal: 5.2s\tremaining: 11.3s\n",
            "316:\tlearn: 0.9020395\ttotal: 5.22s\tremaining: 11.2s\n",
            "317:\tlearn: 0.9020168\ttotal: 5.23s\tremaining: 11.2s\n",
            "318:\tlearn: 0.9019653\ttotal: 5.24s\tremaining: 11.2s\n",
            "319:\tlearn: 0.9019040\ttotal: 5.25s\tremaining: 11.2s\n",
            "320:\tlearn: 0.9018710\ttotal: 5.27s\tremaining: 11.1s\n",
            "321:\tlearn: 0.9018299\ttotal: 5.28s\tremaining: 11.1s\n",
            "322:\tlearn: 0.9017991\ttotal: 5.29s\tremaining: 11.1s\n",
            "323:\tlearn: 0.9017601\ttotal: 5.3s\tremaining: 11.1s\n",
            "324:\tlearn: 0.9017049\ttotal: 5.31s\tremaining: 11s\n",
            "325:\tlearn: 0.9016605\ttotal: 5.32s\tremaining: 11s\n",
            "326:\tlearn: 0.9016107\ttotal: 5.33s\tremaining: 11s\n",
            "327:\tlearn: 0.9015803\ttotal: 5.34s\tremaining: 11s\n",
            "328:\tlearn: 0.9015491\ttotal: 5.36s\tremaining: 10.9s\n",
            "329:\tlearn: 0.9015130\ttotal: 5.37s\tremaining: 10.9s\n",
            "330:\tlearn: 0.9014821\ttotal: 5.38s\tremaining: 10.9s\n",
            "331:\tlearn: 0.9014460\ttotal: 5.39s\tremaining: 10.8s\n",
            "332:\tlearn: 0.9013887\ttotal: 5.4s\tremaining: 10.8s\n",
            "333:\tlearn: 0.9013482\ttotal: 5.41s\tremaining: 10.8s\n",
            "334:\tlearn: 0.9013156\ttotal: 5.42s\tremaining: 10.8s\n",
            "335:\tlearn: 0.9012602\ttotal: 5.43s\tremaining: 10.7s\n",
            "336:\tlearn: 0.9012225\ttotal: 5.45s\tremaining: 10.7s\n",
            "337:\tlearn: 0.9011928\ttotal: 5.46s\tremaining: 10.7s\n",
            "338:\tlearn: 0.9011629\ttotal: 5.47s\tremaining: 10.7s\n",
            "339:\tlearn: 0.9011218\ttotal: 5.48s\tremaining: 10.6s\n",
            "340:\tlearn: 0.9010818\ttotal: 5.49s\tremaining: 10.6s\n",
            "341:\tlearn: 0.9010519\ttotal: 5.51s\tremaining: 10.6s\n",
            "342:\tlearn: 0.9009927\ttotal: 5.52s\tremaining: 10.6s\n",
            "343:\tlearn: 0.9009476\ttotal: 5.53s\tremaining: 10.5s\n",
            "344:\tlearn: 0.9009087\ttotal: 5.54s\tremaining: 10.5s\n",
            "345:\tlearn: 0.9008816\ttotal: 5.55s\tremaining: 10.5s\n",
            "346:\tlearn: 0.9008085\ttotal: 5.56s\tremaining: 10.5s\n",
            "347:\tlearn: 0.9007587\ttotal: 5.57s\tremaining: 10.4s\n",
            "348:\tlearn: 0.9007236\ttotal: 5.58s\tremaining: 10.4s\n",
            "349:\tlearn: 0.9006968\ttotal: 5.6s\tremaining: 10.4s\n",
            "350:\tlearn: 0.9006639\ttotal: 5.61s\tremaining: 10.4s\n",
            "351:\tlearn: 0.9006061\ttotal: 5.62s\tremaining: 10.3s\n",
            "352:\tlearn: 0.9005814\ttotal: 5.63s\tremaining: 10.3s\n",
            "353:\tlearn: 0.9005532\ttotal: 5.65s\tremaining: 10.3s\n",
            "354:\tlearn: 0.9005401\ttotal: 5.66s\tremaining: 10.3s\n",
            "355:\tlearn: 0.9005074\ttotal: 5.67s\tremaining: 10.3s\n",
            "356:\tlearn: 0.9004695\ttotal: 5.68s\tremaining: 10.2s\n",
            "357:\tlearn: 0.9004396\ttotal: 5.69s\tremaining: 10.2s\n",
            "358:\tlearn: 0.9004095\ttotal: 5.7s\tremaining: 10.2s\n",
            "359:\tlearn: 0.9003727\ttotal: 5.72s\tremaining: 10.2s\n",
            "360:\tlearn: 0.9003473\ttotal: 5.74s\tremaining: 10.2s\n",
            "361:\tlearn: 0.9003033\ttotal: 5.75s\tremaining: 10.1s\n",
            "362:\tlearn: 0.9002682\ttotal: 5.76s\tremaining: 10.1s\n",
            "363:\tlearn: 0.9002292\ttotal: 5.78s\tremaining: 10.1s\n",
            "364:\tlearn: 0.9001823\ttotal: 5.79s\tremaining: 10.1s\n",
            "365:\tlearn: 0.9001532\ttotal: 5.8s\tremaining: 10s\n",
            "366:\tlearn: 0.9001113\ttotal: 5.81s\tremaining: 10s\n",
            "367:\tlearn: 0.9000675\ttotal: 5.82s\tremaining: 10s\n",
            "368:\tlearn: 0.9000312\ttotal: 5.83s\tremaining: 9.97s\n",
            "369:\tlearn: 0.9000013\ttotal: 5.84s\tremaining: 9.95s\n",
            "370:\tlearn: 0.8999567\ttotal: 5.86s\tremaining: 9.93s\n",
            "371:\tlearn: 0.8999358\ttotal: 5.87s\tremaining: 9.91s\n",
            "372:\tlearn: 0.8999207\ttotal: 5.88s\tremaining: 9.88s\n",
            "373:\tlearn: 0.8998924\ttotal: 5.89s\tremaining: 9.86s\n",
            "374:\tlearn: 0.8998697\ttotal: 5.9s\tremaining: 9.84s\n",
            "375:\tlearn: 0.8998340\ttotal: 5.91s\tremaining: 9.81s\n",
            "376:\tlearn: 0.8998246\ttotal: 5.92s\tremaining: 9.79s\n",
            "377:\tlearn: 0.8997964\ttotal: 5.93s\tremaining: 9.76s\n",
            "378:\tlearn: 0.8997633\ttotal: 5.94s\tremaining: 9.74s\n",
            "379:\tlearn: 0.8997148\ttotal: 5.95s\tremaining: 9.71s\n",
            "380:\tlearn: 0.8996945\ttotal: 5.96s\tremaining: 9.69s\n",
            "381:\tlearn: 0.8996811\ttotal: 5.98s\tremaining: 9.67s\n",
            "382:\tlearn: 0.8996359\ttotal: 5.99s\tremaining: 9.64s\n",
            "383:\tlearn: 0.8996109\ttotal: 6s\tremaining: 9.62s\n",
            "384:\tlearn: 0.8995921\ttotal: 6.01s\tremaining: 9.6s\n",
            "385:\tlearn: 0.8995629\ttotal: 6.02s\tremaining: 9.58s\n",
            "386:\tlearn: 0.8995283\ttotal: 6.03s\tremaining: 9.56s\n",
            "387:\tlearn: 0.8994975\ttotal: 6.04s\tremaining: 9.54s\n",
            "388:\tlearn: 0.8994671\ttotal: 6.06s\tremaining: 9.51s\n",
            "389:\tlearn: 0.8994395\ttotal: 6.07s\tremaining: 9.49s\n",
            "390:\tlearn: 0.8994076\ttotal: 6.08s\tremaining: 9.47s\n",
            "391:\tlearn: 0.8993652\ttotal: 6.09s\tremaining: 9.45s\n",
            "392:\tlearn: 0.8993344\ttotal: 6.1s\tremaining: 9.43s\n",
            "393:\tlearn: 0.8993059\ttotal: 6.11s\tremaining: 9.4s\n",
            "394:\tlearn: 0.8992537\ttotal: 6.13s\tremaining: 9.38s\n",
            "395:\tlearn: 0.8992211\ttotal: 6.14s\tremaining: 9.36s\n",
            "396:\tlearn: 0.8991904\ttotal: 6.15s\tremaining: 9.34s\n",
            "397:\tlearn: 0.8991596\ttotal: 6.16s\tremaining: 9.32s\n",
            "398:\tlearn: 0.8991503\ttotal: 6.17s\tremaining: 9.3s\n",
            "399:\tlearn: 0.8991250\ttotal: 6.18s\tremaining: 9.27s\n",
            "400:\tlearn: 0.8991044\ttotal: 6.19s\tremaining: 9.25s\n",
            "401:\tlearn: 0.8990684\ttotal: 6.2s\tremaining: 9.23s\n",
            "402:\tlearn: 0.8990348\ttotal: 6.21s\tremaining: 9.21s\n",
            "403:\tlearn: 0.8990075\ttotal: 6.23s\tremaining: 9.19s\n",
            "404:\tlearn: 0.8989765\ttotal: 6.24s\tremaining: 9.16s\n",
            "405:\tlearn: 0.8989642\ttotal: 6.25s\tremaining: 9.14s\n",
            "406:\tlearn: 0.8989447\ttotal: 6.26s\tremaining: 9.12s\n",
            "407:\tlearn: 0.8988958\ttotal: 6.27s\tremaining: 9.1s\n",
            "408:\tlearn: 0.8988690\ttotal: 6.28s\tremaining: 9.08s\n",
            "409:\tlearn: 0.8988314\ttotal: 6.29s\tremaining: 9.06s\n",
            "410:\tlearn: 0.8988020\ttotal: 6.31s\tremaining: 9.04s\n",
            "411:\tlearn: 0.8987726\ttotal: 6.32s\tremaining: 9.02s\n",
            "412:\tlearn: 0.8987538\ttotal: 6.33s\tremaining: 8.99s\n",
            "413:\tlearn: 0.8987245\ttotal: 6.34s\tremaining: 8.97s\n",
            "414:\tlearn: 0.8986988\ttotal: 6.35s\tremaining: 8.95s\n",
            "415:\tlearn: 0.8986678\ttotal: 6.36s\tremaining: 8.93s\n",
            "416:\tlearn: 0.8986465\ttotal: 6.37s\tremaining: 8.91s\n",
            "417:\tlearn: 0.8986308\ttotal: 6.38s\tremaining: 8.88s\n",
            "418:\tlearn: 0.8985965\ttotal: 6.39s\tremaining: 8.87s\n",
            "419:\tlearn: 0.8985685\ttotal: 6.4s\tremaining: 8.84s\n",
            "420:\tlearn: 0.8985290\ttotal: 6.41s\tremaining: 8.82s\n",
            "421:\tlearn: 0.8985125\ttotal: 6.42s\tremaining: 8.8s\n",
            "422:\tlearn: 0.8984726\ttotal: 6.44s\tremaining: 8.78s\n",
            "423:\tlearn: 0.8984469\ttotal: 6.45s\tremaining: 8.76s\n",
            "424:\tlearn: 0.8984188\ttotal: 6.46s\tremaining: 8.74s\n",
            "425:\tlearn: 0.8984035\ttotal: 6.47s\tremaining: 8.72s\n",
            "426:\tlearn: 0.8983707\ttotal: 6.49s\tremaining: 8.71s\n",
            "427:\tlearn: 0.8983323\ttotal: 6.51s\tremaining: 8.7s\n",
            "428:\tlearn: 0.8983168\ttotal: 6.52s\tremaining: 8.67s\n",
            "429:\tlearn: 0.8982817\ttotal: 6.53s\tremaining: 8.65s\n",
            "430:\tlearn: 0.8982601\ttotal: 6.54s\tremaining: 8.63s\n",
            "431:\tlearn: 0.8982387\ttotal: 6.55s\tremaining: 8.61s\n",
            "432:\tlearn: 0.8981878\ttotal: 6.56s\tremaining: 8.59s\n",
            "433:\tlearn: 0.8981748\ttotal: 6.58s\tremaining: 8.58s\n",
            "434:\tlearn: 0.8981386\ttotal: 6.59s\tremaining: 8.56s\n",
            "435:\tlearn: 0.8981044\ttotal: 6.6s\tremaining: 8.54s\n",
            "436:\tlearn: 0.8980747\ttotal: 6.61s\tremaining: 8.52s\n",
            "437:\tlearn: 0.8980465\ttotal: 6.62s\tremaining: 8.5s\n",
            "438:\tlearn: 0.8980057\ttotal: 6.63s\tremaining: 8.48s\n",
            "439:\tlearn: 0.8979873\ttotal: 6.65s\tremaining: 8.46s\n",
            "440:\tlearn: 0.8979512\ttotal: 6.66s\tremaining: 8.44s\n",
            "441:\tlearn: 0.8979303\ttotal: 6.67s\tremaining: 8.42s\n",
            "442:\tlearn: 0.8979046\ttotal: 6.68s\tremaining: 8.4s\n",
            "443:\tlearn: 0.8978851\ttotal: 6.69s\tremaining: 8.38s\n",
            "444:\tlearn: 0.8978452\ttotal: 6.71s\tremaining: 8.36s\n",
            "445:\tlearn: 0.8978234\ttotal: 6.72s\tremaining: 8.35s\n",
            "446:\tlearn: 0.8977968\ttotal: 6.74s\tremaining: 8.34s\n",
            "447:\tlearn: 0.8977698\ttotal: 6.75s\tremaining: 8.32s\n",
            "448:\tlearn: 0.8977390\ttotal: 6.76s\tremaining: 8.3s\n",
            "449:\tlearn: 0.8977278\ttotal: 6.78s\tremaining: 8.28s\n",
            "450:\tlearn: 0.8976893\ttotal: 6.79s\tremaining: 8.26s\n",
            "451:\tlearn: 0.8976320\ttotal: 6.8s\tremaining: 8.24s\n",
            "452:\tlearn: 0.8976196\ttotal: 6.81s\tremaining: 8.22s\n",
            "453:\tlearn: 0.8976011\ttotal: 6.82s\tremaining: 8.2s\n",
            "454:\tlearn: 0.8975702\ttotal: 6.83s\tremaining: 8.18s\n",
            "455:\tlearn: 0.8975384\ttotal: 6.84s\tremaining: 8.16s\n",
            "456:\tlearn: 0.8975075\ttotal: 6.86s\tremaining: 8.15s\n",
            "457:\tlearn: 0.8974939\ttotal: 6.87s\tremaining: 8.13s\n",
            "458:\tlearn: 0.8974558\ttotal: 6.88s\tremaining: 8.11s\n",
            "459:\tlearn: 0.8974208\ttotal: 6.89s\tremaining: 8.09s\n",
            "460:\tlearn: 0.8973965\ttotal: 6.91s\tremaining: 8.07s\n",
            "461:\tlearn: 0.8973418\ttotal: 6.92s\tremaining: 8.05s\n",
            "462:\tlearn: 0.8973196\ttotal: 6.93s\tremaining: 8.04s\n",
            "463:\tlearn: 0.8972985\ttotal: 6.94s\tremaining: 8.02s\n",
            "464:\tlearn: 0.8972541\ttotal: 6.95s\tremaining: 8s\n",
            "465:\tlearn: 0.8972258\ttotal: 6.96s\tremaining: 7.98s\n",
            "466:\tlearn: 0.8971955\ttotal: 6.97s\tremaining: 7.96s\n",
            "467:\tlearn: 0.8971669\ttotal: 6.98s\tremaining: 7.94s\n",
            "468:\tlearn: 0.8971394\ttotal: 6.99s\tremaining: 7.92s\n",
            "469:\tlearn: 0.8971199\ttotal: 7s\tremaining: 7.9s\n",
            "470:\tlearn: 0.8970866\ttotal: 7.01s\tremaining: 7.88s\n",
            "471:\tlearn: 0.8970714\ttotal: 7.03s\tremaining: 7.86s\n",
            "472:\tlearn: 0.8970588\ttotal: 7.04s\tremaining: 7.84s\n",
            "473:\tlearn: 0.8970245\ttotal: 7.05s\tremaining: 7.82s\n",
            "474:\tlearn: 0.8969705\ttotal: 7.06s\tremaining: 7.8s\n",
            "475:\tlearn: 0.8969315\ttotal: 7.07s\tremaining: 7.78s\n",
            "476:\tlearn: 0.8968898\ttotal: 7.08s\tremaining: 7.77s\n",
            "477:\tlearn: 0.8968737\ttotal: 7.1s\tremaining: 7.75s\n",
            "478:\tlearn: 0.8968284\ttotal: 7.11s\tremaining: 7.73s\n",
            "479:\tlearn: 0.8968006\ttotal: 7.12s\tremaining: 7.72s\n",
            "480:\tlearn: 0.8967867\ttotal: 7.14s\tremaining: 7.7s\n",
            "481:\tlearn: 0.8967474\ttotal: 7.15s\tremaining: 7.68s\n",
            "482:\tlearn: 0.8967278\ttotal: 7.16s\tremaining: 7.67s\n",
            "483:\tlearn: 0.8966882\ttotal: 7.17s\tremaining: 7.65s\n",
            "484:\tlearn: 0.8966641\ttotal: 7.18s\tremaining: 7.63s\n",
            "485:\tlearn: 0.8966294\ttotal: 7.19s\tremaining: 7.61s\n",
            "486:\tlearn: 0.8966066\ttotal: 7.2s\tremaining: 7.59s\n",
            "487:\tlearn: 0.8965816\ttotal: 7.21s\tremaining: 7.57s\n",
            "488:\tlearn: 0.8965657\ttotal: 7.23s\tremaining: 7.55s\n",
            "489:\tlearn: 0.8965435\ttotal: 7.24s\tremaining: 7.53s\n",
            "490:\tlearn: 0.8964789\ttotal: 7.25s\tremaining: 7.51s\n",
            "491:\tlearn: 0.8964632\ttotal: 7.26s\tremaining: 7.5s\n",
            "492:\tlearn: 0.8964462\ttotal: 7.28s\tremaining: 7.48s\n",
            "493:\tlearn: 0.8964351\ttotal: 7.3s\tremaining: 7.48s\n",
            "494:\tlearn: 0.8964193\ttotal: 7.33s\tremaining: 7.48s\n",
            "495:\tlearn: 0.8964067\ttotal: 7.36s\tremaining: 7.48s\n",
            "496:\tlearn: 0.8963691\ttotal: 7.39s\tremaining: 7.48s\n",
            "497:\tlearn: 0.8963367\ttotal: 7.43s\tremaining: 7.49s\n",
            "498:\tlearn: 0.8963041\ttotal: 7.46s\tremaining: 7.49s\n",
            "499:\tlearn: 0.8962724\ttotal: 7.48s\tremaining: 7.48s\n",
            "500:\tlearn: 0.8962426\ttotal: 7.51s\tremaining: 7.48s\n",
            "501:\tlearn: 0.8962207\ttotal: 7.55s\tremaining: 7.49s\n",
            "502:\tlearn: 0.8961986\ttotal: 7.57s\tremaining: 7.48s\n",
            "503:\tlearn: 0.8961770\ttotal: 7.6s\tremaining: 7.48s\n",
            "504:\tlearn: 0.8961564\ttotal: 7.63s\tremaining: 7.48s\n",
            "505:\tlearn: 0.8961139\ttotal: 7.66s\tremaining: 7.48s\n",
            "506:\tlearn: 0.8960979\ttotal: 7.69s\tremaining: 7.47s\n",
            "507:\tlearn: 0.8960774\ttotal: 7.71s\tremaining: 7.47s\n",
            "508:\tlearn: 0.8960695\ttotal: 7.74s\tremaining: 7.47s\n",
            "509:\tlearn: 0.8960488\ttotal: 7.76s\tremaining: 7.46s\n",
            "510:\tlearn: 0.8960343\ttotal: 7.79s\tremaining: 7.45s\n",
            "511:\tlearn: 0.8959928\ttotal: 7.81s\tremaining: 7.44s\n",
            "512:\tlearn: 0.8959638\ttotal: 7.87s\tremaining: 7.47s\n",
            "513:\tlearn: 0.8959396\ttotal: 7.92s\tremaining: 7.49s\n",
            "514:\tlearn: 0.8959222\ttotal: 7.95s\tremaining: 7.49s\n",
            "515:\tlearn: 0.8958937\ttotal: 7.98s\tremaining: 7.49s\n",
            "516:\tlearn: 0.8958627\ttotal: 8.01s\tremaining: 7.49s\n",
            "517:\tlearn: 0.8958341\ttotal: 8.04s\tremaining: 7.48s\n",
            "518:\tlearn: 0.8958155\ttotal: 8.07s\tremaining: 7.48s\n",
            "519:\tlearn: 0.8957894\ttotal: 8.11s\tremaining: 7.48s\n",
            "520:\tlearn: 0.8957725\ttotal: 8.14s\tremaining: 7.48s\n",
            "521:\tlearn: 0.8957567\ttotal: 8.16s\tremaining: 7.48s\n",
            "522:\tlearn: 0.8957462\ttotal: 8.19s\tremaining: 7.47s\n",
            "523:\tlearn: 0.8957274\ttotal: 8.22s\tremaining: 7.47s\n",
            "524:\tlearn: 0.8956999\ttotal: 8.26s\tremaining: 7.47s\n",
            "525:\tlearn: 0.8956621\ttotal: 8.29s\tremaining: 7.47s\n",
            "526:\tlearn: 0.8956213\ttotal: 8.32s\tremaining: 7.47s\n",
            "527:\tlearn: 0.8956029\ttotal: 8.35s\tremaining: 7.46s\n",
            "528:\tlearn: 0.8955887\ttotal: 8.36s\tremaining: 7.44s\n",
            "529:\tlearn: 0.8955698\ttotal: 8.37s\tremaining: 7.43s\n",
            "530:\tlearn: 0.8955558\ttotal: 8.39s\tremaining: 7.41s\n",
            "531:\tlearn: 0.8955222\ttotal: 8.4s\tremaining: 7.39s\n",
            "532:\tlearn: 0.8955007\ttotal: 8.43s\tremaining: 7.39s\n",
            "533:\tlearn: 0.8954671\ttotal: 8.46s\tremaining: 7.38s\n",
            "534:\tlearn: 0.8954466\ttotal: 8.48s\tremaining: 7.38s\n",
            "535:\tlearn: 0.8954222\ttotal: 8.52s\tremaining: 7.38s\n",
            "536:\tlearn: 0.8954022\ttotal: 8.55s\tremaining: 7.37s\n",
            "537:\tlearn: 0.8953653\ttotal: 8.58s\tremaining: 7.37s\n",
            "538:\tlearn: 0.8953469\ttotal: 8.61s\tremaining: 7.37s\n",
            "539:\tlearn: 0.8953311\ttotal: 8.64s\tremaining: 7.36s\n",
            "540:\tlearn: 0.8953129\ttotal: 8.66s\tremaining: 7.35s\n",
            "541:\tlearn: 0.8952985\ttotal: 8.69s\tremaining: 7.34s\n",
            "542:\tlearn: 0.8952845\ttotal: 8.73s\tremaining: 7.35s\n",
            "543:\tlearn: 0.8952463\ttotal: 8.77s\tremaining: 7.35s\n",
            "544:\tlearn: 0.8952119\ttotal: 8.8s\tremaining: 7.34s\n",
            "545:\tlearn: 0.8951933\ttotal: 8.82s\tremaining: 7.33s\n",
            "546:\tlearn: 0.8951663\ttotal: 8.85s\tremaining: 7.33s\n",
            "547:\tlearn: 0.8951484\ttotal: 8.88s\tremaining: 7.32s\n",
            "548:\tlearn: 0.8951366\ttotal: 8.9s\tremaining: 7.31s\n",
            "549:\tlearn: 0.8951291\ttotal: 8.94s\tremaining: 7.31s\n",
            "550:\tlearn: 0.8951154\ttotal: 8.96s\tremaining: 7.3s\n",
            "551:\tlearn: 0.8950816\ttotal: 8.99s\tremaining: 7.29s\n",
            "552:\tlearn: 0.8950626\ttotal: 9.01s\tremaining: 7.29s\n",
            "553:\tlearn: 0.8950369\ttotal: 9.04s\tremaining: 7.28s\n",
            "554:\tlearn: 0.8950294\ttotal: 9.07s\tremaining: 7.28s\n",
            "555:\tlearn: 0.8950172\ttotal: 9.09s\tremaining: 7.26s\n",
            "556:\tlearn: 0.8949924\ttotal: 9.12s\tremaining: 7.25s\n",
            "557:\tlearn: 0.8949616\ttotal: 9.16s\tremaining: 7.25s\n",
            "558:\tlearn: 0.8949470\ttotal: 9.18s\tremaining: 7.24s\n",
            "559:\tlearn: 0.8949308\ttotal: 9.21s\tremaining: 7.24s\n",
            "560:\tlearn: 0.8949132\ttotal: 9.23s\tremaining: 7.23s\n",
            "561:\tlearn: 0.8948950\ttotal: 9.26s\tremaining: 7.22s\n",
            "562:\tlearn: 0.8948821\ttotal: 9.29s\tremaining: 7.21s\n",
            "563:\tlearn: 0.8948734\ttotal: 9.31s\tremaining: 7.2s\n",
            "564:\tlearn: 0.8948480\ttotal: 9.34s\tremaining: 7.19s\n",
            "565:\tlearn: 0.8948211\ttotal: 9.37s\tremaining: 7.19s\n",
            "566:\tlearn: 0.8948020\ttotal: 9.4s\tremaining: 7.18s\n",
            "567:\tlearn: 0.8947667\ttotal: 9.43s\tremaining: 7.17s\n",
            "568:\tlearn: 0.8947563\ttotal: 9.45s\tremaining: 7.16s\n",
            "569:\tlearn: 0.8947359\ttotal: 9.48s\tremaining: 7.15s\n",
            "570:\tlearn: 0.8947145\ttotal: 9.5s\tremaining: 7.14s\n",
            "571:\tlearn: 0.8946939\ttotal: 9.53s\tremaining: 7.13s\n",
            "572:\tlearn: 0.8946746\ttotal: 9.55s\tremaining: 7.12s\n",
            "573:\tlearn: 0.8946624\ttotal: 9.58s\tremaining: 7.11s\n",
            "574:\tlearn: 0.8946467\ttotal: 9.61s\tremaining: 7.1s\n",
            "575:\tlearn: 0.8946262\ttotal: 9.64s\tremaining: 7.09s\n",
            "576:\tlearn: 0.8946156\ttotal: 9.67s\tremaining: 7.09s\n",
            "577:\tlearn: 0.8945815\ttotal: 9.7s\tremaining: 7.08s\n",
            "578:\tlearn: 0.8945675\ttotal: 9.73s\tremaining: 7.07s\n",
            "579:\tlearn: 0.8945505\ttotal: 9.77s\tremaining: 7.07s\n",
            "580:\tlearn: 0.8945410\ttotal: 9.8s\tremaining: 7.07s\n",
            "581:\tlearn: 0.8945117\ttotal: 9.83s\tremaining: 7.06s\n",
            "582:\tlearn: 0.8944904\ttotal: 9.86s\tremaining: 7.05s\n",
            "583:\tlearn: 0.8944718\ttotal: 9.88s\tremaining: 7.04s\n",
            "584:\tlearn: 0.8944413\ttotal: 9.91s\tremaining: 7.03s\n",
            "585:\tlearn: 0.8944308\ttotal: 9.93s\tremaining: 7.02s\n",
            "586:\tlearn: 0.8943928\ttotal: 9.96s\tremaining: 7s\n",
            "587:\tlearn: 0.8943638\ttotal: 9.99s\tremaining: 7s\n",
            "588:\tlearn: 0.8943529\ttotal: 10s\tremaining: 6.99s\n",
            "589:\tlearn: 0.8943137\ttotal: 10s\tremaining: 6.98s\n",
            "590:\tlearn: 0.8942870\ttotal: 10.1s\tremaining: 6.97s\n",
            "591:\tlearn: 0.8942476\ttotal: 10.1s\tremaining: 6.96s\n",
            "592:\tlearn: 0.8942312\ttotal: 10.1s\tremaining: 6.95s\n",
            "593:\tlearn: 0.8942194\ttotal: 10.1s\tremaining: 6.93s\n",
            "594:\tlearn: 0.8942026\ttotal: 10.2s\tremaining: 6.93s\n",
            "595:\tlearn: 0.8941752\ttotal: 10.2s\tremaining: 6.92s\n",
            "596:\tlearn: 0.8941498\ttotal: 10.2s\tremaining: 6.92s\n",
            "597:\tlearn: 0.8941322\ttotal: 10.3s\tremaining: 6.91s\n",
            "598:\tlearn: 0.8941047\ttotal: 10.3s\tremaining: 6.9s\n",
            "599:\tlearn: 0.8940741\ttotal: 10.3s\tremaining: 6.89s\n",
            "600:\tlearn: 0.8940494\ttotal: 10.4s\tremaining: 6.88s\n",
            "601:\tlearn: 0.8940278\ttotal: 10.4s\tremaining: 6.87s\n",
            "602:\tlearn: 0.8940154\ttotal: 10.4s\tremaining: 6.87s\n",
            "603:\tlearn: 0.8939970\ttotal: 10.5s\tremaining: 6.86s\n",
            "604:\tlearn: 0.8939846\ttotal: 10.5s\tremaining: 6.85s\n",
            "605:\tlearn: 0.8939720\ttotal: 10.5s\tremaining: 6.84s\n",
            "606:\tlearn: 0.8939627\ttotal: 10.5s\tremaining: 6.82s\n",
            "607:\tlearn: 0.8939393\ttotal: 10.6s\tremaining: 6.82s\n",
            "608:\tlearn: 0.8939155\ttotal: 10.6s\tremaining: 6.81s\n",
            "609:\tlearn: 0.8938932\ttotal: 10.6s\tremaining: 6.8s\n",
            "610:\tlearn: 0.8938721\ttotal: 10.7s\tremaining: 6.78s\n",
            "611:\tlearn: 0.8938450\ttotal: 10.7s\tremaining: 6.77s\n",
            "612:\tlearn: 0.8938364\ttotal: 10.7s\tremaining: 6.75s\n",
            "613:\tlearn: 0.8938197\ttotal: 10.7s\tremaining: 6.75s\n",
            "614:\tlearn: 0.8937881\ttotal: 10.8s\tremaining: 6.74s\n",
            "615:\tlearn: 0.8937619\ttotal: 10.8s\tremaining: 6.72s\n",
            "616:\tlearn: 0.8937387\ttotal: 10.8s\tremaining: 6.7s\n",
            "617:\tlearn: 0.8937099\ttotal: 10.8s\tremaining: 6.68s\n",
            "618:\tlearn: 0.8936822\ttotal: 10.8s\tremaining: 6.67s\n",
            "619:\tlearn: 0.8936611\ttotal: 10.8s\tremaining: 6.64s\n",
            "620:\tlearn: 0.8936374\ttotal: 10.9s\tremaining: 6.63s\n",
            "621:\tlearn: 0.8936252\ttotal: 10.9s\tremaining: 6.61s\n",
            "622:\tlearn: 0.8935954\ttotal: 10.9s\tremaining: 6.59s\n",
            "623:\tlearn: 0.8935769\ttotal: 10.9s\tremaining: 6.57s\n",
            "624:\tlearn: 0.8935513\ttotal: 10.9s\tremaining: 6.55s\n",
            "625:\tlearn: 0.8935299\ttotal: 10.9s\tremaining: 6.53s\n",
            "626:\tlearn: 0.8935186\ttotal: 10.9s\tremaining: 6.51s\n",
            "627:\tlearn: 0.8934975\ttotal: 11s\tremaining: 6.49s\n",
            "628:\tlearn: 0.8934552\ttotal: 11s\tremaining: 6.47s\n",
            "629:\tlearn: 0.8934370\ttotal: 11s\tremaining: 6.45s\n",
            "630:\tlearn: 0.8934103\ttotal: 11s\tremaining: 6.44s\n",
            "631:\tlearn: 0.8933979\ttotal: 11s\tremaining: 6.42s\n",
            "632:\tlearn: 0.8933541\ttotal: 11s\tremaining: 6.4s\n",
            "633:\tlearn: 0.8933438\ttotal: 11.1s\tremaining: 6.38s\n",
            "634:\tlearn: 0.8933335\ttotal: 11.1s\tremaining: 6.37s\n",
            "635:\tlearn: 0.8933093\ttotal: 11.1s\tremaining: 6.35s\n",
            "636:\tlearn: 0.8932964\ttotal: 11.1s\tremaining: 6.33s\n",
            "637:\tlearn: 0.8932834\ttotal: 11.1s\tremaining: 6.31s\n",
            "638:\tlearn: 0.8932713\ttotal: 11.1s\tremaining: 6.29s\n",
            "639:\tlearn: 0.8932645\ttotal: 11.1s\tremaining: 6.27s\n",
            "640:\tlearn: 0.8932450\ttotal: 11.2s\tremaining: 6.25s\n",
            "641:\tlearn: 0.8932264\ttotal: 11.2s\tremaining: 6.23s\n",
            "642:\tlearn: 0.8931935\ttotal: 11.2s\tremaining: 6.21s\n",
            "643:\tlearn: 0.8931780\ttotal: 11.2s\tremaining: 6.19s\n",
            "644:\tlearn: 0.8931400\ttotal: 11.2s\tremaining: 6.17s\n",
            "645:\tlearn: 0.8931202\ttotal: 11.2s\tremaining: 6.16s\n",
            "646:\tlearn: 0.8930976\ttotal: 11.2s\tremaining: 6.14s\n",
            "647:\tlearn: 0.8930781\ttotal: 11.3s\tremaining: 6.13s\n",
            "648:\tlearn: 0.8930637\ttotal: 11.3s\tremaining: 6.11s\n",
            "649:\tlearn: 0.8930488\ttotal: 11.4s\tremaining: 6.12s\n",
            "650:\tlearn: 0.8930282\ttotal: 11.4s\tremaining: 6.11s\n",
            "651:\tlearn: 0.8930051\ttotal: 11.4s\tremaining: 6.09s\n",
            "652:\tlearn: 0.8929932\ttotal: 11.4s\tremaining: 6.08s\n",
            "653:\tlearn: 0.8929753\ttotal: 11.5s\tremaining: 6.07s\n",
            "654:\tlearn: 0.8929692\ttotal: 11.5s\tremaining: 6.07s\n",
            "655:\tlearn: 0.8929655\ttotal: 11.6s\tremaining: 6.07s\n",
            "656:\tlearn: 0.8929442\ttotal: 11.6s\tremaining: 6.05s\n",
            "657:\tlearn: 0.8929303\ttotal: 11.6s\tremaining: 6.03s\n",
            "658:\tlearn: 0.8928972\ttotal: 11.6s\tremaining: 6.01s\n",
            "659:\tlearn: 0.8928708\ttotal: 11.6s\tremaining: 6s\n",
            "660:\tlearn: 0.8928568\ttotal: 11.7s\tremaining: 5.98s\n",
            "661:\tlearn: 0.8928310\ttotal: 11.7s\tremaining: 5.96s\n",
            "662:\tlearn: 0.8928114\ttotal: 11.7s\tremaining: 5.94s\n",
            "663:\tlearn: 0.8927977\ttotal: 11.7s\tremaining: 5.92s\n",
            "664:\tlearn: 0.8927762\ttotal: 11.7s\tremaining: 5.9s\n",
            "665:\tlearn: 0.8927641\ttotal: 11.7s\tremaining: 5.89s\n",
            "666:\tlearn: 0.8927578\ttotal: 11.8s\tremaining: 5.87s\n",
            "667:\tlearn: 0.8927453\ttotal: 11.8s\tremaining: 5.85s\n",
            "668:\tlearn: 0.8927316\ttotal: 11.8s\tremaining: 5.83s\n",
            "669:\tlearn: 0.8927211\ttotal: 11.8s\tremaining: 5.81s\n",
            "670:\tlearn: 0.8926985\ttotal: 11.8s\tremaining: 5.79s\n",
            "671:\tlearn: 0.8926848\ttotal: 11.8s\tremaining: 5.77s\n",
            "672:\tlearn: 0.8926724\ttotal: 11.8s\tremaining: 5.75s\n",
            "673:\tlearn: 0.8926662\ttotal: 11.9s\tremaining: 5.73s\n",
            "674:\tlearn: 0.8926368\ttotal: 11.9s\tremaining: 5.71s\n",
            "675:\tlearn: 0.8926129\ttotal: 11.9s\tremaining: 5.7s\n",
            "676:\tlearn: 0.8926022\ttotal: 11.9s\tremaining: 5.68s\n",
            "677:\tlearn: 0.8925904\ttotal: 11.9s\tremaining: 5.66s\n",
            "678:\tlearn: 0.8925732\ttotal: 11.9s\tremaining: 5.65s\n",
            "679:\tlearn: 0.8925608\ttotal: 12s\tremaining: 5.63s\n",
            "680:\tlearn: 0.8925500\ttotal: 12s\tremaining: 5.62s\n",
            "681:\tlearn: 0.8925344\ttotal: 12s\tremaining: 5.61s\n",
            "682:\tlearn: 0.8925249\ttotal: 12.1s\tremaining: 5.6s\n",
            "683:\tlearn: 0.8924917\ttotal: 12.1s\tremaining: 5.58s\n",
            "684:\tlearn: 0.8924548\ttotal: 12.1s\tremaining: 5.57s\n",
            "685:\tlearn: 0.8924455\ttotal: 12.1s\tremaining: 5.56s\n",
            "686:\tlearn: 0.8924339\ttotal: 12.2s\tremaining: 5.54s\n",
            "687:\tlearn: 0.8924230\ttotal: 12.2s\tremaining: 5.53s\n",
            "688:\tlearn: 0.8924069\ttotal: 12.2s\tremaining: 5.52s\n",
            "689:\tlearn: 0.8923898\ttotal: 12.3s\tremaining: 5.5s\n",
            "690:\tlearn: 0.8923753\ttotal: 12.3s\tremaining: 5.49s\n",
            "691:\tlearn: 0.8923691\ttotal: 12.3s\tremaining: 5.48s\n",
            "692:\tlearn: 0.8923603\ttotal: 12.3s\tremaining: 5.47s\n",
            "693:\tlearn: 0.8923443\ttotal: 12.4s\tremaining: 5.45s\n",
            "694:\tlearn: 0.8923164\ttotal: 12.4s\tremaining: 5.43s\n",
            "695:\tlearn: 0.8923121\ttotal: 12.4s\tremaining: 5.42s\n",
            "696:\tlearn: 0.8922949\ttotal: 12.4s\tremaining: 5.39s\n",
            "697:\tlearn: 0.8922770\ttotal: 12.4s\tremaining: 5.38s\n",
            "698:\tlearn: 0.8922687\ttotal: 12.4s\tremaining: 5.36s\n",
            "699:\tlearn: 0.8922468\ttotal: 12.5s\tremaining: 5.34s\n",
            "700:\tlearn: 0.8922306\ttotal: 12.5s\tremaining: 5.32s\n",
            "701:\tlearn: 0.8922174\ttotal: 12.5s\tremaining: 5.31s\n",
            "702:\tlearn: 0.8922080\ttotal: 12.5s\tremaining: 5.3s\n",
            "703:\tlearn: 0.8921833\ttotal: 12.6s\tremaining: 5.29s\n",
            "704:\tlearn: 0.8921607\ttotal: 12.6s\tremaining: 5.27s\n",
            "705:\tlearn: 0.8921534\ttotal: 12.6s\tremaining: 5.26s\n",
            "706:\tlearn: 0.8921462\ttotal: 12.7s\tremaining: 5.24s\n",
            "707:\tlearn: 0.8921271\ttotal: 12.7s\tremaining: 5.23s\n",
            "708:\tlearn: 0.8920940\ttotal: 12.7s\tremaining: 5.22s\n",
            "709:\tlearn: 0.8920827\ttotal: 12.7s\tremaining: 5.2s\n",
            "710:\tlearn: 0.8920503\ttotal: 12.8s\tremaining: 5.19s\n",
            "711:\tlearn: 0.8920455\ttotal: 12.8s\tremaining: 5.17s\n",
            "712:\tlearn: 0.8920336\ttotal: 12.8s\tremaining: 5.16s\n",
            "713:\tlearn: 0.8920221\ttotal: 12.8s\tremaining: 5.15s\n",
            "714:\tlearn: 0.8919914\ttotal: 12.9s\tremaining: 5.13s\n",
            "715:\tlearn: 0.8919858\ttotal: 12.9s\tremaining: 5.12s\n",
            "716:\tlearn: 0.8919670\ttotal: 12.9s\tremaining: 5.1s\n",
            "717:\tlearn: 0.8919595\ttotal: 13s\tremaining: 5.09s\n",
            "718:\tlearn: 0.8919356\ttotal: 13s\tremaining: 5.08s\n",
            "719:\tlearn: 0.8919263\ttotal: 13s\tremaining: 5.06s\n",
            "720:\tlearn: 0.8919028\ttotal: 13s\tremaining: 5.04s\n",
            "721:\tlearn: 0.8918872\ttotal: 13.1s\tremaining: 5.03s\n",
            "722:\tlearn: 0.8918788\ttotal: 13.1s\tremaining: 5.02s\n",
            "723:\tlearn: 0.8918639\ttotal: 13.1s\tremaining: 5s\n",
            "724:\tlearn: 0.8918443\ttotal: 13.2s\tremaining: 4.99s\n",
            "725:\tlearn: 0.8918322\ttotal: 13.2s\tremaining: 4.97s\n",
            "726:\tlearn: 0.8918200\ttotal: 13.2s\tremaining: 4.96s\n",
            "727:\tlearn: 0.8918042\ttotal: 13.2s\tremaining: 4.95s\n",
            "728:\tlearn: 0.8917778\ttotal: 13.3s\tremaining: 4.93s\n",
            "729:\tlearn: 0.8917533\ttotal: 13.3s\tremaining: 4.92s\n",
            "730:\tlearn: 0.8917424\ttotal: 13.3s\tremaining: 4.9s\n",
            "731:\tlearn: 0.8917350\ttotal: 13.3s\tremaining: 4.89s\n",
            "732:\tlearn: 0.8917206\ttotal: 13.4s\tremaining: 4.87s\n",
            "733:\tlearn: 0.8916989\ttotal: 13.4s\tremaining: 4.86s\n",
            "734:\tlearn: 0.8916859\ttotal: 13.4s\tremaining: 4.84s\n",
            "735:\tlearn: 0.8916807\ttotal: 13.5s\tremaining: 4.83s\n",
            "736:\tlearn: 0.8916518\ttotal: 13.5s\tremaining: 4.8s\n",
            "737:\tlearn: 0.8916327\ttotal: 13.5s\tremaining: 4.79s\n",
            "738:\tlearn: 0.8916189\ttotal: 13.5s\tremaining: 4.76s\n",
            "739:\tlearn: 0.8916087\ttotal: 13.5s\tremaining: 4.74s\n",
            "740:\tlearn: 0.8915941\ttotal: 13.5s\tremaining: 4.72s\n",
            "741:\tlearn: 0.8915718\ttotal: 13.5s\tremaining: 4.7s\n",
            "742:\tlearn: 0.8915543\ttotal: 13.5s\tremaining: 4.68s\n",
            "743:\tlearn: 0.8915454\ttotal: 13.5s\tremaining: 4.66s\n",
            "744:\tlearn: 0.8915306\ttotal: 13.6s\tremaining: 4.64s\n",
            "745:\tlearn: 0.8915118\ttotal: 13.6s\tremaining: 4.62s\n",
            "746:\tlearn: 0.8915021\ttotal: 13.6s\tremaining: 4.6s\n",
            "747:\tlearn: 0.8914892\ttotal: 13.6s\tremaining: 4.58s\n",
            "748:\tlearn: 0.8914762\ttotal: 13.6s\tremaining: 4.56s\n",
            "749:\tlearn: 0.8914667\ttotal: 13.6s\tremaining: 4.54s\n",
            "750:\tlearn: 0.8914515\ttotal: 13.6s\tremaining: 4.52s\n",
            "751:\tlearn: 0.8914400\ttotal: 13.6s\tremaining: 4.5s\n",
            "752:\tlearn: 0.8914278\ttotal: 13.6s\tremaining: 4.48s\n",
            "753:\tlearn: 0.8914221\ttotal: 13.7s\tremaining: 4.46s\n",
            "754:\tlearn: 0.8914156\ttotal: 13.7s\tremaining: 4.43s\n",
            "755:\tlearn: 0.8914010\ttotal: 13.7s\tremaining: 4.42s\n",
            "756:\tlearn: 0.8913910\ttotal: 13.7s\tremaining: 4.39s\n",
            "757:\tlearn: 0.8913802\ttotal: 13.7s\tremaining: 4.38s\n",
            "758:\tlearn: 0.8913657\ttotal: 13.7s\tremaining: 4.36s\n",
            "759:\tlearn: 0.8913482\ttotal: 13.7s\tremaining: 4.34s\n",
            "760:\tlearn: 0.8913265\ttotal: 13.8s\tremaining: 4.32s\n",
            "761:\tlearn: 0.8913153\ttotal: 13.8s\tremaining: 4.3s\n",
            "762:\tlearn: 0.8913083\ttotal: 13.8s\tremaining: 4.28s\n",
            "763:\tlearn: 0.8912988\ttotal: 13.8s\tremaining: 4.26s\n",
            "764:\tlearn: 0.8912819\ttotal: 13.8s\tremaining: 4.24s\n",
            "765:\tlearn: 0.8912694\ttotal: 13.8s\tremaining: 4.22s\n",
            "766:\tlearn: 0.8912650\ttotal: 13.8s\tremaining: 4.2s\n",
            "767:\tlearn: 0.8912315\ttotal: 13.8s\tremaining: 4.18s\n",
            "768:\tlearn: 0.8912117\ttotal: 13.9s\tremaining: 4.16s\n",
            "769:\tlearn: 0.8911888\ttotal: 13.9s\tremaining: 4.14s\n",
            "770:\tlearn: 0.8911785\ttotal: 13.9s\tremaining: 4.12s\n",
            "771:\tlearn: 0.8911640\ttotal: 13.9s\tremaining: 4.1s\n",
            "772:\tlearn: 0.8911290\ttotal: 13.9s\tremaining: 4.08s\n",
            "773:\tlearn: 0.8911143\ttotal: 13.9s\tremaining: 4.06s\n",
            "774:\tlearn: 0.8910883\ttotal: 13.9s\tremaining: 4.04s\n",
            "775:\tlearn: 0.8910747\ttotal: 13.9s\tremaining: 4.02s\n",
            "776:\tlearn: 0.8910538\ttotal: 13.9s\tremaining: 4s\n",
            "777:\tlearn: 0.8910364\ttotal: 14s\tremaining: 3.98s\n",
            "778:\tlearn: 0.8910278\ttotal: 14s\tremaining: 3.96s\n",
            "779:\tlearn: 0.8910091\ttotal: 14s\tremaining: 3.94s\n",
            "780:\tlearn: 0.8909956\ttotal: 14s\tremaining: 3.92s\n",
            "781:\tlearn: 0.8909886\ttotal: 14s\tremaining: 3.9s\n",
            "782:\tlearn: 0.8909799\ttotal: 14s\tremaining: 3.88s\n",
            "783:\tlearn: 0.8909502\ttotal: 14s\tremaining: 3.87s\n",
            "784:\tlearn: 0.8909292\ttotal: 14s\tremaining: 3.85s\n",
            "785:\tlearn: 0.8909167\ttotal: 14.1s\tremaining: 3.83s\n",
            "786:\tlearn: 0.8909056\ttotal: 14.1s\tremaining: 3.81s\n",
            "787:\tlearn: 0.8908892\ttotal: 14.1s\tremaining: 3.79s\n",
            "788:\tlearn: 0.8908700\ttotal: 14.1s\tremaining: 3.77s\n",
            "789:\tlearn: 0.8908595\ttotal: 14.1s\tremaining: 3.75s\n",
            "790:\tlearn: 0.8908437\ttotal: 14.1s\tremaining: 3.73s\n",
            "791:\tlearn: 0.8908296\ttotal: 14.1s\tremaining: 3.71s\n",
            "792:\tlearn: 0.8908165\ttotal: 14.1s\tremaining: 3.69s\n",
            "793:\tlearn: 0.8907951\ttotal: 14.1s\tremaining: 3.67s\n",
            "794:\tlearn: 0.8907849\ttotal: 14.2s\tremaining: 3.65s\n",
            "795:\tlearn: 0.8907683\ttotal: 14.2s\tremaining: 3.63s\n",
            "796:\tlearn: 0.8907570\ttotal: 14.2s\tremaining: 3.61s\n",
            "797:\tlearn: 0.8907266\ttotal: 14.2s\tremaining: 3.59s\n",
            "798:\tlearn: 0.8907154\ttotal: 14.2s\tremaining: 3.58s\n",
            "799:\tlearn: 0.8906798\ttotal: 14.2s\tremaining: 3.56s\n",
            "800:\tlearn: 0.8906623\ttotal: 14.3s\tremaining: 3.54s\n",
            "801:\tlearn: 0.8906515\ttotal: 14.3s\tremaining: 3.53s\n",
            "802:\tlearn: 0.8906381\ttotal: 14.3s\tremaining: 3.51s\n",
            "803:\tlearn: 0.8906275\ttotal: 14.3s\tremaining: 3.49s\n",
            "804:\tlearn: 0.8906149\ttotal: 14.3s\tremaining: 3.47s\n",
            "805:\tlearn: 0.8906084\ttotal: 14.4s\tremaining: 3.46s\n",
            "806:\tlearn: 0.8905937\ttotal: 14.4s\tremaining: 3.44s\n",
            "807:\tlearn: 0.8905883\ttotal: 14.4s\tremaining: 3.42s\n",
            "808:\tlearn: 0.8905791\ttotal: 14.4s\tremaining: 3.4s\n",
            "809:\tlearn: 0.8905642\ttotal: 14.4s\tremaining: 3.38s\n",
            "810:\tlearn: 0.8905480\ttotal: 14.4s\tremaining: 3.37s\n",
            "811:\tlearn: 0.8905377\ttotal: 14.5s\tremaining: 3.35s\n",
            "812:\tlearn: 0.8905309\ttotal: 14.5s\tremaining: 3.33s\n",
            "813:\tlearn: 0.8905144\ttotal: 14.5s\tremaining: 3.31s\n",
            "814:\tlearn: 0.8905005\ttotal: 14.5s\tremaining: 3.29s\n",
            "815:\tlearn: 0.8904670\ttotal: 14.5s\tremaining: 3.27s\n",
            "816:\tlearn: 0.8904446\ttotal: 14.5s\tremaining: 3.25s\n",
            "817:\tlearn: 0.8904302\ttotal: 14.5s\tremaining: 3.24s\n",
            "818:\tlearn: 0.8904028\ttotal: 14.6s\tremaining: 3.22s\n",
            "819:\tlearn: 0.8903845\ttotal: 14.6s\tremaining: 3.2s\n",
            "820:\tlearn: 0.8903735\ttotal: 14.6s\tremaining: 3.18s\n",
            "821:\tlearn: 0.8903551\ttotal: 14.6s\tremaining: 3.17s\n",
            "822:\tlearn: 0.8903344\ttotal: 14.6s\tremaining: 3.15s\n",
            "823:\tlearn: 0.8903260\ttotal: 14.7s\tremaining: 3.13s\n",
            "824:\tlearn: 0.8903209\ttotal: 14.7s\tremaining: 3.11s\n",
            "825:\tlearn: 0.8903004\ttotal: 14.7s\tremaining: 3.09s\n",
            "826:\tlearn: 0.8902918\ttotal: 14.7s\tremaining: 3.07s\n",
            "827:\tlearn: 0.8902766\ttotal: 14.7s\tremaining: 3.06s\n",
            "828:\tlearn: 0.8902734\ttotal: 14.7s\tremaining: 3.04s\n",
            "829:\tlearn: 0.8902632\ttotal: 14.8s\tremaining: 3.02s\n",
            "830:\tlearn: 0.8902550\ttotal: 14.8s\tremaining: 3s\n",
            "831:\tlearn: 0.8902391\ttotal: 14.8s\tremaining: 2.98s\n",
            "832:\tlearn: 0.8902223\ttotal: 14.8s\tremaining: 2.97s\n",
            "833:\tlearn: 0.8902138\ttotal: 14.8s\tremaining: 2.95s\n",
            "834:\tlearn: 0.8902083\ttotal: 14.8s\tremaining: 2.93s\n",
            "835:\tlearn: 0.8901826\ttotal: 14.8s\tremaining: 2.91s\n",
            "836:\tlearn: 0.8901683\ttotal: 14.9s\tremaining: 2.89s\n",
            "837:\tlearn: 0.8901503\ttotal: 14.9s\tremaining: 2.88s\n",
            "838:\tlearn: 0.8901338\ttotal: 14.9s\tremaining: 2.86s\n",
            "839:\tlearn: 0.8901292\ttotal: 14.9s\tremaining: 2.84s\n",
            "840:\tlearn: 0.8901238\ttotal: 14.9s\tremaining: 2.82s\n",
            "841:\tlearn: 0.8901103\ttotal: 14.9s\tremaining: 2.8s\n",
            "842:\tlearn: 0.8901021\ttotal: 15s\tremaining: 2.79s\n",
            "843:\tlearn: 0.8900913\ttotal: 15s\tremaining: 2.77s\n",
            "844:\tlearn: 0.8900793\ttotal: 15s\tremaining: 2.75s\n",
            "845:\tlearn: 0.8900719\ttotal: 15s\tremaining: 2.73s\n",
            "846:\tlearn: 0.8900516\ttotal: 15s\tremaining: 2.71s\n",
            "847:\tlearn: 0.8900392\ttotal: 15s\tremaining: 2.7s\n",
            "848:\tlearn: 0.8900084\ttotal: 15.1s\tremaining: 2.68s\n",
            "849:\tlearn: 0.8899973\ttotal: 15.1s\tremaining: 2.66s\n",
            "850:\tlearn: 0.8899887\ttotal: 15.1s\tremaining: 2.64s\n",
            "851:\tlearn: 0.8899509\ttotal: 15.1s\tremaining: 2.62s\n",
            "852:\tlearn: 0.8899416\ttotal: 15.1s\tremaining: 2.61s\n",
            "853:\tlearn: 0.8899255\ttotal: 15.2s\tremaining: 2.59s\n",
            "854:\tlearn: 0.8899085\ttotal: 15.2s\tremaining: 2.58s\n",
            "855:\tlearn: 0.8898880\ttotal: 15.2s\tremaining: 2.56s\n",
            "856:\tlearn: 0.8898822\ttotal: 15.3s\tremaining: 2.54s\n",
            "857:\tlearn: 0.8898762\ttotal: 15.3s\tremaining: 2.53s\n",
            "858:\tlearn: 0.8898572\ttotal: 15.3s\tremaining: 2.51s\n",
            "859:\tlearn: 0.8898506\ttotal: 15.3s\tremaining: 2.5s\n",
            "860:\tlearn: 0.8898263\ttotal: 15.4s\tremaining: 2.48s\n",
            "861:\tlearn: 0.8898138\ttotal: 15.4s\tremaining: 2.46s\n",
            "862:\tlearn: 0.8898056\ttotal: 15.4s\tremaining: 2.45s\n",
            "863:\tlearn: 0.8897989\ttotal: 15.4s\tremaining: 2.43s\n",
            "864:\tlearn: 0.8897873\ttotal: 15.5s\tremaining: 2.41s\n",
            "865:\tlearn: 0.8897769\ttotal: 15.5s\tremaining: 2.4s\n",
            "866:\tlearn: 0.8897632\ttotal: 15.5s\tremaining: 2.38s\n",
            "867:\tlearn: 0.8897570\ttotal: 15.5s\tremaining: 2.36s\n",
            "868:\tlearn: 0.8897414\ttotal: 15.6s\tremaining: 2.35s\n",
            "869:\tlearn: 0.8897323\ttotal: 15.6s\tremaining: 2.33s\n",
            "870:\tlearn: 0.8897024\ttotal: 15.6s\tremaining: 2.31s\n",
            "871:\tlearn: 0.8896938\ttotal: 15.6s\tremaining: 2.3s\n",
            "872:\tlearn: 0.8896883\ttotal: 15.7s\tremaining: 2.28s\n",
            "873:\tlearn: 0.8896755\ttotal: 15.7s\tremaining: 2.26s\n",
            "874:\tlearn: 0.8896504\ttotal: 15.7s\tremaining: 2.25s\n",
            "875:\tlearn: 0.8896418\ttotal: 15.8s\tremaining: 2.23s\n",
            "876:\tlearn: 0.8896292\ttotal: 15.8s\tremaining: 2.21s\n",
            "877:\tlearn: 0.8896234\ttotal: 15.8s\tremaining: 2.19s\n",
            "878:\tlearn: 0.8896140\ttotal: 15.8s\tremaining: 2.18s\n",
            "879:\tlearn: 0.8896045\ttotal: 15.9s\tremaining: 2.16s\n",
            "880:\tlearn: 0.8895871\ttotal: 15.9s\tremaining: 2.15s\n",
            "881:\tlearn: 0.8895766\ttotal: 15.9s\tremaining: 2.13s\n",
            "882:\tlearn: 0.8895670\ttotal: 15.9s\tremaining: 2.11s\n",
            "883:\tlearn: 0.8895498\ttotal: 16s\tremaining: 2.09s\n",
            "884:\tlearn: 0.8895458\ttotal: 16s\tremaining: 2.08s\n",
            "885:\tlearn: 0.8895291\ttotal: 16s\tremaining: 2.06s\n",
            "886:\tlearn: 0.8895131\ttotal: 16s\tremaining: 2.04s\n",
            "887:\tlearn: 0.8895076\ttotal: 16.1s\tremaining: 2.03s\n",
            "888:\tlearn: 0.8894871\ttotal: 16.1s\tremaining: 2.01s\n",
            "889:\tlearn: 0.8894744\ttotal: 16.1s\tremaining: 1.99s\n",
            "890:\tlearn: 0.8894626\ttotal: 16.1s\tremaining: 1.97s\n",
            "891:\tlearn: 0.8894339\ttotal: 16.2s\tremaining: 1.96s\n",
            "892:\tlearn: 0.8894218\ttotal: 16.2s\tremaining: 1.94s\n",
            "893:\tlearn: 0.8894018\ttotal: 16.2s\tremaining: 1.92s\n",
            "894:\tlearn: 0.8893888\ttotal: 16.2s\tremaining: 1.9s\n",
            "895:\tlearn: 0.8893729\ttotal: 16.2s\tremaining: 1.88s\n",
            "896:\tlearn: 0.8893474\ttotal: 16.3s\tremaining: 1.87s\n",
            "897:\tlearn: 0.8893276\ttotal: 16.3s\tremaining: 1.85s\n",
            "898:\tlearn: 0.8893171\ttotal: 16.3s\tremaining: 1.83s\n",
            "899:\tlearn: 0.8892989\ttotal: 16.3s\tremaining: 1.81s\n",
            "900:\tlearn: 0.8892908\ttotal: 16.3s\tremaining: 1.79s\n",
            "901:\tlearn: 0.8892831\ttotal: 16.3s\tremaining: 1.77s\n",
            "902:\tlearn: 0.8892771\ttotal: 16.4s\tremaining: 1.76s\n",
            "903:\tlearn: 0.8892641\ttotal: 16.4s\tremaining: 1.74s\n",
            "904:\tlearn: 0.8892484\ttotal: 16.4s\tremaining: 1.72s\n",
            "905:\tlearn: 0.8892329\ttotal: 16.4s\tremaining: 1.7s\n",
            "906:\tlearn: 0.8892208\ttotal: 16.5s\tremaining: 1.69s\n",
            "907:\tlearn: 0.8892092\ttotal: 16.5s\tremaining: 1.67s\n",
            "908:\tlearn: 0.8892000\ttotal: 16.5s\tremaining: 1.65s\n",
            "909:\tlearn: 0.8891978\ttotal: 16.5s\tremaining: 1.63s\n",
            "910:\tlearn: 0.8891683\ttotal: 16.5s\tremaining: 1.62s\n",
            "911:\tlearn: 0.8891607\ttotal: 16.6s\tremaining: 1.6s\n",
            "912:\tlearn: 0.8891499\ttotal: 16.6s\tremaining: 1.58s\n",
            "913:\tlearn: 0.8891417\ttotal: 16.6s\tremaining: 1.56s\n",
            "914:\tlearn: 0.8891306\ttotal: 16.6s\tremaining: 1.54s\n",
            "915:\tlearn: 0.8891195\ttotal: 16.6s\tremaining: 1.52s\n",
            "916:\tlearn: 0.8891032\ttotal: 16.7s\tremaining: 1.51s\n",
            "917:\tlearn: 0.8890816\ttotal: 16.7s\tremaining: 1.49s\n",
            "918:\tlearn: 0.8890653\ttotal: 16.7s\tremaining: 1.47s\n",
            "919:\tlearn: 0.8890528\ttotal: 16.7s\tremaining: 1.46s\n",
            "920:\tlearn: 0.8890396\ttotal: 16.8s\tremaining: 1.44s\n",
            "921:\tlearn: 0.8890287\ttotal: 16.8s\tremaining: 1.42s\n",
            "922:\tlearn: 0.8890201\ttotal: 16.8s\tremaining: 1.4s\n",
            "923:\tlearn: 0.8890012\ttotal: 16.8s\tremaining: 1.38s\n",
            "924:\tlearn: 0.8889902\ttotal: 16.8s\tremaining: 1.37s\n",
            "925:\tlearn: 0.8889714\ttotal: 16.9s\tremaining: 1.35s\n",
            "926:\tlearn: 0.8889617\ttotal: 16.9s\tremaining: 1.33s\n",
            "927:\tlearn: 0.8889412\ttotal: 16.9s\tremaining: 1.31s\n",
            "928:\tlearn: 0.8889315\ttotal: 16.9s\tremaining: 1.29s\n",
            "929:\tlearn: 0.8889188\ttotal: 17s\tremaining: 1.28s\n",
            "930:\tlearn: 0.8889102\ttotal: 17s\tremaining: 1.26s\n",
            "931:\tlearn: 0.8889058\ttotal: 17s\tremaining: 1.24s\n",
            "932:\tlearn: 0.8888962\ttotal: 17s\tremaining: 1.22s\n",
            "933:\tlearn: 0.8888878\ttotal: 17.1s\tremaining: 1.21s\n",
            "934:\tlearn: 0.8888825\ttotal: 17.1s\tremaining: 1.19s\n",
            "935:\tlearn: 0.8888644\ttotal: 17.1s\tremaining: 1.17s\n",
            "936:\tlearn: 0.8888472\ttotal: 17.2s\tremaining: 1.15s\n",
            "937:\tlearn: 0.8888350\ttotal: 17.2s\tremaining: 1.14s\n",
            "938:\tlearn: 0.8888320\ttotal: 17.2s\tremaining: 1.12s\n",
            "939:\tlearn: 0.8888164\ttotal: 17.2s\tremaining: 1.1s\n",
            "940:\tlearn: 0.8888077\ttotal: 17.3s\tremaining: 1.08s\n",
            "941:\tlearn: 0.8887918\ttotal: 17.3s\tremaining: 1.06s\n",
            "942:\tlearn: 0.8887758\ttotal: 17.3s\tremaining: 1.05s\n",
            "943:\tlearn: 0.8887703\ttotal: 17.3s\tremaining: 1.03s\n",
            "944:\tlearn: 0.8887614\ttotal: 17.4s\tremaining: 1.01s\n",
            "945:\tlearn: 0.8887553\ttotal: 17.4s\tremaining: 992ms\n",
            "946:\tlearn: 0.8887506\ttotal: 17.4s\tremaining: 975ms\n",
            "947:\tlearn: 0.8887364\ttotal: 17.4s\tremaining: 957ms\n",
            "948:\tlearn: 0.8887236\ttotal: 17.5s\tremaining: 939ms\n",
            "949:\tlearn: 0.8887169\ttotal: 17.5s\tremaining: 921ms\n",
            "950:\tlearn: 0.8887053\ttotal: 17.5s\tremaining: 903ms\n",
            "951:\tlearn: 0.8886830\ttotal: 17.5s\tremaining: 884ms\n",
            "952:\tlearn: 0.8886712\ttotal: 17.6s\tremaining: 867ms\n",
            "953:\tlearn: 0.8886569\ttotal: 17.6s\tremaining: 848ms\n",
            "954:\tlearn: 0.8886520\ttotal: 17.6s\tremaining: 831ms\n",
            "955:\tlearn: 0.8886234\ttotal: 17.7s\tremaining: 812ms\n",
            "956:\tlearn: 0.8886010\ttotal: 17.7s\tremaining: 794ms\n",
            "957:\tlearn: 0.8885822\ttotal: 17.7s\tremaining: 777ms\n",
            "958:\tlearn: 0.8885587\ttotal: 17.7s\tremaining: 758ms\n",
            "959:\tlearn: 0.8885403\ttotal: 17.8s\tremaining: 740ms\n",
            "960:\tlearn: 0.8885299\ttotal: 17.8s\tremaining: 722ms\n",
            "961:\tlearn: 0.8885218\ttotal: 17.8s\tremaining: 704ms\n",
            "962:\tlearn: 0.8885193\ttotal: 17.9s\tremaining: 686ms\n",
            "963:\tlearn: 0.8885126\ttotal: 17.9s\tremaining: 668ms\n",
            "964:\tlearn: 0.8885023\ttotal: 17.9s\tremaining: 649ms\n",
            "965:\tlearn: 0.8884959\ttotal: 17.9s\tremaining: 631ms\n",
            "966:\tlearn: 0.8884926\ttotal: 17.9s\tremaining: 612ms\n",
            "967:\tlearn: 0.8884866\ttotal: 17.9s\tremaining: 593ms\n",
            "968:\tlearn: 0.8884818\ttotal: 18s\tremaining: 574ms\n",
            "969:\tlearn: 0.8884733\ttotal: 18s\tremaining: 556ms\n",
            "970:\tlearn: 0.8884595\ttotal: 18s\tremaining: 537ms\n",
            "971:\tlearn: 0.8884461\ttotal: 18s\tremaining: 518ms\n",
            "972:\tlearn: 0.8884265\ttotal: 18s\tremaining: 500ms\n",
            "973:\tlearn: 0.8884190\ttotal: 18s\tremaining: 481ms\n",
            "974:\tlearn: 0.8883995\ttotal: 18s\tremaining: 462ms\n",
            "975:\tlearn: 0.8883801\ttotal: 18s\tremaining: 444ms\n",
            "976:\tlearn: 0.8883589\ttotal: 18.1s\tremaining: 425ms\n",
            "977:\tlearn: 0.8883483\ttotal: 18.1s\tremaining: 406ms\n",
            "978:\tlearn: 0.8883367\ttotal: 18.1s\tremaining: 388ms\n",
            "979:\tlearn: 0.8883301\ttotal: 18.1s\tremaining: 369ms\n",
            "980:\tlearn: 0.8883260\ttotal: 18.1s\tremaining: 351ms\n",
            "981:\tlearn: 0.8883049\ttotal: 18.1s\tremaining: 332ms\n",
            "982:\tlearn: 0.8882991\ttotal: 18.1s\tremaining: 313ms\n",
            "983:\tlearn: 0.8882735\ttotal: 18.1s\tremaining: 295ms\n",
            "984:\tlearn: 0.8882696\ttotal: 18.1s\tremaining: 276ms\n",
            "985:\tlearn: 0.8882523\ttotal: 18.2s\tremaining: 258ms\n",
            "986:\tlearn: 0.8882442\ttotal: 18.2s\tremaining: 239ms\n",
            "987:\tlearn: 0.8882223\ttotal: 18.2s\tremaining: 221ms\n",
            "988:\tlearn: 0.8882159\ttotal: 18.2s\tremaining: 202ms\n",
            "989:\tlearn: 0.8881995\ttotal: 18.2s\tremaining: 184ms\n",
            "990:\tlearn: 0.8881815\ttotal: 18.2s\tremaining: 165ms\n",
            "991:\tlearn: 0.8881746\ttotal: 18.2s\tremaining: 147ms\n",
            "992:\tlearn: 0.8881701\ttotal: 18.2s\tremaining: 129ms\n",
            "993:\tlearn: 0.8881542\ttotal: 18.3s\tremaining: 110ms\n",
            "994:\tlearn: 0.8881410\ttotal: 18.3s\tremaining: 91.8ms\n",
            "995:\tlearn: 0.8881074\ttotal: 18.3s\tremaining: 73.4ms\n",
            "996:\tlearn: 0.8880969\ttotal: 18.3s\tremaining: 55ms\n",
            "997:\tlearn: 0.8880884\ttotal: 18.3s\tremaining: 36.7ms\n",
            "998:\tlearn: 0.8880834\ttotal: 18.3s\tremaining: 18.3ms\n",
            "999:\tlearn: 0.8880738\ttotal: 18.3s\tremaining: 0us\n"
          ]
        },
        {
          "output_type": "execute_result",
          "data": {
            "text/plain": [
              "<catboost.core.CatBoostClassifier at 0x79792b6a0070>"
            ]
          },
          "metadata": {},
          "execution_count": 94
        }
      ],
      "source": [
        "# <USE IT!>\n",
        "clf = CatBoostClassifier()\n",
        "clf.fit(sparse_data_train, clean_data_train['average_bill'])"
      ]
    },
    {
      "cell_type": "code",
      "source": [
        "balanced_accuracy_score(clean_data_test['average_bill'], clf.predict(sparse_data_test))"
      ],
      "metadata": {
        "colab": {
          "base_uri": "https://localhost:8080/"
        },
        "id": "8RQ1b1yia2-T",
        "outputId": "abe3f1f6-d822-4232-fd2e-bc7e24d04249"
      },
      "execution_count": null,
      "outputs": [
        {
          "output_type": "execute_result",
          "data": {
            "text/plain": [
              "0.2"
            ]
          },
          "metadata": {},
          "execution_count": 97
        }
      ]
    },
    {
      "cell_type": "markdown",
      "metadata": {
        "id": "SBOpZY9BGH7Q"
      },
      "source": [
        "**11. Пришлите в Контест balanced_accuracy_score на тестовой выборке, округлённый до двух знаков после запятой**. Стало ли сильно лучше от того, что мы воспользовались таким крутым классификатором?"
      ]
    }
  ],
  "metadata": {
    "kernelspec": {
      "display_name": "Python 3 (ipykernel)",
      "language": "python",
      "name": "python3"
    },
    "language_info": {
      "codemirror_mode": {
        "name": "ipython",
        "version": 3
      },
      "file_extension": ".py",
      "mimetype": "text/x-python",
      "name": "python",
      "nbconvert_exporter": "python",
      "pygments_lexer": "ipython3",
      "version": "3.8.10"
    },
    "colab": {
      "provenance": [],
      "include_colab_link": true
    }
  },
  "nbformat": 4,
  "nbformat_minor": 0
}